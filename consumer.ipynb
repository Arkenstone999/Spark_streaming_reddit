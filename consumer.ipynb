{
 "cells": [
  {
   "cell_type": "code",
   "execution_count": null,
   "id": "de82f183",
   "metadata": {},
   "outputs": [
    {
     "name": "stderr",
     "output_type": "stream",
     "text": [
      "Setting default log level to \"/opt/bitnami/spark/python/pyspark/streaming/context.py:72: FutureWarning: DStream is deprecated as of Spark 3.4.0. Migrate to Structured Streaming.\n",
      "  warnings.warn(\n"
     ]
    },
    {
     "name": "stdout",
     "output_type": "stream",
     "text": [
      "-------------------------------------------\n",
      "Time: 2025-05-28 12:51:15\n",
      "-------------------------------------------\n",
      "\n",
      "-------------------------------------------\n",
      "Time: 2025-05-28 12:51:20\n",
      "-------------------------------------------\n",
      "{\"type\": \"comment\", \"comment\": \"It\\u2019s all lawns. Flushing/drinking/showers are virtually negligible\", \"prev_comment\": \"So are you saying that my peers and I (in WI) use 1/3 as much water around the house on a normal day as the average person from Utah? Are they just flushing their toilets like crazy or what?\\n\\n\\nI struggle to believe they're really using an extra 100 gallons *per day* watering their lawns or similar.\", \"post_title\": \"[OC] Annual Precipitation and Domestic Water Use\", \"post_id\": \"1kwsw38\", \"author\": \"SuperAwesomo\", \"link_url\": \"https://i.redd.it/r30v2zluxc3f1.jpeg\", \"link_permalink\": \"https://www.reddit.com/r/dataisbeautiful/comments/1kwsw38/oc_annual_precipitation_and_domestic_water_use/\", \"created_utc\": 1748430536.0, \"ups\": 1, \"likes\": null}\n",
      "\n",
      "-------------------------------------------\n",
      "Time: 2025-05-28 12:51:25\n",
      "-------------------------------------------\n",
      "{\"type\": \"comment\", \"comment\": \"Great visual/story! Simple and powerful. \\n\\n\\n\\nMy only comment is that the font feels a little off for the heading and date. It lets it down a little. I am nitpicking\", \"prev_comment\": null, \"post_title\": \"[OC] Average MP attendance by Party in the UK. (Since the last election)\", \"post_id\": \"1kxe6y2\", \"author\": \"oryx_za\", \"link_url\": \"https://i.redd.it/b6tq7fu28i3f1.png\", \"link_permalink\": \"https://www.reddit.com/r/dataisbeautiful/comments/1kxe6y2/oc_average_mp_attendance_by_party_in_the_uk_since/\", \"created_utc\": 1748430569.0, \"ups\": 1, \"likes\": null}\n",
      "{\"type\": \"comment\", \"comment\": \"Attendance is not the only way the Lib Dems are sliding\", \"prev_comment\": null, \"post_title\": \"[OC] Average MP attendance by Party in the UK. (Since the last election)\", \"post_id\": \"1kxe6y2\", \"author\": \"Reasonable-Team-7550\", \"link_url\": \"https://i.redd.it/b6tq7fu28i3f1.png\", \"link_permalink\": \"https://www.reddit.com/r/dataisbeautiful/comments/1kxe6y2/oc_average_mp_attendance_by_party_in_the_uk_since/\", \"created_utc\": 1748430606.0, \"ups\": 1, \"likes\": null}\n",
      "\n",
      "-------------------------------------------\n",
      "Time: 2025-05-28 12:51:30\n",
      "-------------------------------------------\n",
      "{\"type\": \"comment\", \"comment\": \"They should all be fined if they are below 90% ALL OF THEM.\", \"prev_comment\": null, \"post_title\": \"[OC] Average MP attendance by Party in the UK. (Since the last election)\", \"post_id\": \"1kxe6y2\", \"author\": \"Sarabando\", \"link_url\": \"https://i.redd.it/b6tq7fu28i3f1.png\", \"link_permalink\": \"https://www.reddit.com/r/dataisbeautiful/comments/1kxe6y2/oc_average_mp_attendance_by_party_in_the_uk_since/\", \"created_utc\": 1748430607.0, \"ups\": 1, \"likes\": null}\n",
      "{\"type\": \"comment\", \"comment\": \"Nigel has visited America more times than his own constituency.\", \"prev_comment\": null, \"post_title\": \"[OC] Average MP attendance by Party in the UK. (Since the last election)\", \"post_id\": \"1kxe6y2\", \"author\": \"Real-Pomegranate-235\", \"link_url\": \"https://i.redd.it/b6tq7fu28i3f1.png\", \"link_permalink\": \"https://www.reddit.com/r/dataisbeautiful/comments/1kxe6y2/oc_average_mp_attendance_by_party_in_the_uk_since/\", \"created_utc\": 1748430647.0, \"ups\": 1, \"likes\": null}\n",
      "{\"type\": \"comment\", \"comment\": \"Yes, snow is considered precipitation.\", \"prev_comment\": \"Does this take into account snow melt? Idaho gets a TON of snowfall in the northern half of the state which melts throughout the year and flows through various rivers in the state, providing water for agriculture use.\", \"post_title\": \"[OC] Annual Precipitation and Domestic Water Use\", \"post_id\": \"1kwsw38\", \"author\": \"dafolka\", \"link_url\": \"https://i.redd.it/r30v2zluxc3f1.jpeg\", \"link_permalink\": \"https://www.reddit.com/r/dataisbeautiful/comments/1kwsw38/oc_annual_precipitation_and_domestic_water_use/\", \"created_utc\": 1748430647.0, \"ups\": 1, \"likes\": null}\n",
      "\n",
      "-------------------------------------------\n",
      "Time: 2025-05-28 12:51:35\n",
      "-------------------------------------------\n",
      "{\"type\": \"comment\", \"comment\": \"Donut charts aren't really great for visual comparisons like this.\", \"prev_comment\": null, \"post_title\": \"[OC] Average MP attendance by Party in the UK. (Since the last election)\", \"post_id\": \"1kxe6y2\", \"author\": \"triedit2947\", \"link_url\": \"https://i.redd.it/b6tq7fu28i3f1.png\", \"link_permalink\": \"https://www.reddit.com/r/dataisbeautiful/comments/1kxe6y2/oc_average_mp_attendance_by_party_in_the_uk_since/\", \"created_utc\": 1748430677.0, \"ups\": 1, \"likes\": null}\n",
      "{\"type\": \"comment\", \"comment\": \"What do you mean by \\\"off\\\"? I see nothing squiff on it.\", \"prev_comment\": \"Great visual/story! Simple and powerful. \\n\\n\\n\\nMy only comment is that the font feels a little off for the heading and date. It lets it down a little. I am nitpicking\", \"post_title\": \"[OC] Average MP attendance by Party in the UK. (Since the last election)\", \"post_id\": \"1kxe6y2\", \"author\": \"wjhall\", \"link_url\": \"https://i.redd.it/b6tq7fu28i3f1.png\", \"link_permalink\": \"https://www.reddit.com/r/dataisbeautiful/comments/1kxe6y2/oc_average_mp_attendance_by_party_in_the_uk_since/\", \"created_utc\": 1748430769.0, \"ups\": 1, \"likes\": null}\n",
      "\n",
      "-------------------------------------------\n",
      "Time: 2025-05-28 12:51:40\n",
      "-------------------------------------------\n",
      "{\"type\": \"comment\", \"comment\": \"A reminder that MPs serve their constituents in a variety of ways that are not sitting in the Commons Chamber such as preparing for debates they\\u2019ll actually contribute to, preparing for committee work, spending time in their constituency (surgeries, etc.), meeting ministers and stakeholders, answering correspondence.\\n\\n\\u201cMP attendance\\u201d is a poor metric and I wish it would die. And no, I don\\u2019t work for any MP, and I\\u2019m not a member of any political party trying to defend anyone\\u2019s low score here.\", \"prev_comment\": null, \"post_title\": \"[OC] Average MP attendance by Party in the UK. (Since the last election)\", \"post_id\": \"1kxe6y2\", \"author\": \"Stone_tigris\", \"link_url\": \"https://i.redd.it/b6tq7fu28i3f1.png\", \"link_permalink\": \"https://www.reddit.com/r/dataisbeautiful/comments/1kxe6y2/oc_average_mp_attendance_by_party_in_the_uk_since/\", \"created_utc\": 1748430803.0, \"ups\": 1, \"likes\": null}\n",
      "{\"type\": \"comment\", \"comment\": \"Some of them will be affected by time spent on constituency work, appearances and activism. Plus not all votes need to be attended by every MP, because they aren't are significant\", \"prev_comment\": \"They should all be fined if they are below 90% ALL OF THEM.\", \"post_title\": \"[OC] Average MP attendance by Party in the UK. (Since the last election)\", \"post_id\": \"1kxe6y2\", \"author\": \"citron_bjorn\", \"link_url\": \"https://i.redd.it/b6tq7fu28i3f1.png\", \"link_permalink\": \"https://www.reddit.com/r/dataisbeautiful/comments/1kxe6y2/oc_average_mp_attendance_by_party_in_the_uk_since/\", \"created_utc\": 1748430900.0, \"ups\": 1, \"likes\": null}\n",
      "\n",
      "-------------------------------------------\n",
      "Time: 2025-05-28 12:51:45\n",
      "-------------------------------------------\n",
      "{\"type\": \"comment\", \"comment\": \"Does this only count days when parliament sits(i.e. mon-thur)?\", \"prev_comment\": null, \"post_title\": \"[OC] Average MP attendance by Party in the UK. (Since the last election)\", \"post_id\": \"1kxe6y2\", \"author\": \"awoo2\", \"link_url\": \"https://i.redd.it/b6tq7fu28i3f1.png\", \"link_permalink\": \"https://www.reddit.com/r/dataisbeautiful/comments/1kxe6y2/oc_average_mp_attendance_by_party_in_the_uk_since/\", \"created_utc\": 1748430901.0, \"ups\": 1, \"likes\": null}\n",
      "{\"type\": \"comment\", \"comment\": \"Reform's logo with an arrow pointing towards the far right...\", \"prev_comment\": null, \"post_title\": \"[OC] Average MP attendance by Party in the UK. (Since the last election)\", \"post_id\": \"1kxe6y2\", \"author\": \"BubbhaJebus\", \"link_url\": \"https://i.redd.it/b6tq7fu28i3f1.png\", \"link_permalink\": \"https://www.reddit.com/r/dataisbeautiful/comments/1kxe6y2/oc_average_mp_attendance_by_party_in_the_uk_since/\", \"created_utc\": 1748430907.0, \"ups\": 1, \"likes\": null}\n",
      "{\"type\": \"comment\", \"comment\": \"This is VERY subjective but I would position it differently and use a different font.\", \"prev_comment\": \"What do you mean by \\\"off\\\"? I see nothing squiff on it.\", \"post_title\": \"[OC] Average MP attendance by Party in the UK. (Since the last election)\", \"post_id\": \"1kxe6y2\", \"author\": \"oryx_za\", \"link_url\": \"https://i.redd.it/b6tq7fu28i3f1.png\", \"link_permalink\": \"https://www.reddit.com/r/dataisbeautiful/comments/1kxe6y2/oc_average_mp_attendance_by_party_in_the_uk_since/\", \"created_utc\": 1748430966.0, \"ups\": 1, \"likes\": null}\n",
      "\n"
     ]
    }
   ],
   "source": [
    "#host = \"127.0.0.1\"\n",
    "host = \"host.docker.internal\" # for Docker on Windows\n",
    "port = 9998\n",
    "from pyspark import SparkContext\n",
    "from pyspark.streaming import StreamingContext\n",
    "\n",
    "sc = SparkContext(\"local[2]\", \"DisplayLines\")\n",
    "ssc = StreamingContext(sc, 5)  # 2nd arg = minibatch size in sec. \n",
    "\n",
    "lines = ssc.socketTextStream(host, port)\n",
    "\n",
    "lines.pprint()\n",
    "\n",
    "ssc.start()\n",
    "ssc.awaitTermination()"
   ]
  },
  {
   "cell_type": "code",
   "execution_count": null,
   "id": "f5584744",
   "metadata": {},
   "outputs": [],
   "source": [
    "ssc.stop()\n",
    "sc.stop()"
   ]
  },
  {
   "cell_type": "code",
   "execution_count": null,
   "id": "a5086fc3",
   "metadata": {},
   "outputs": [],
   "source": []
  }
 ],
 "metadata": {
  "kernelspec": {
   "display_name": "Python 3 (ipykernel)",
   "language": "python",
   "name": "python3"
  },
  "language_info": {
   "codemirror_mode": {
    "name": "ipython",
    "version": 3
   },
   "file_extension": ".py",
   "mimetype": "text/x-python",
   "name": "python",
   "nbconvert_exporter": "python",
   "pygments_lexer": "ipython3",
   "version": "3.11.8"
  }
 },
 "nbformat": 4,
 "nbformat_minor": 5
}

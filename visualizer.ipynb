{
 "cells": [
  {
   "cell_type": "markdown",
   "id": "d0c72b79",
   "metadata": {},
   "source": [
    "# Visualizer\n",
    "### Receives processed data from producer to display in real time."
   ]
  },
  {
   "cell_type": "code",
   "execution_count": null,
   "id": "cfe50977",
   "metadata": {},
   "outputs": [],
   "source": [
    "import json\n",
    "import os\n",
    "import sys"
   ]
  },
  {
   "cell_type": "markdown",
   "id": "02385ae6",
   "metadata": {},
   "source": [
    "### Initizialing port"
   ]
  },
  {
   "cell_type": "code",
   "execution_count": null,
   "id": "875f0736",
   "metadata": {},
   "outputs": [],
   "source": [
    "PORT = 9997"
   ]
  }
 ],
 "metadata": {
  "kernelspec": {
   "display_name": "Python 3",
   "language": "python",
   "name": "python3"
  },
  "language_info": {
   "name": "python",
   "version": "3.10.9"
  }
 },
 "nbformat": 4,
 "nbformat_minor": 5
}

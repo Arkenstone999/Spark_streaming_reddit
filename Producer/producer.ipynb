{
 "cells": [
  {
   "cell_type": "markdown",
   "metadata": {},
   "source": [
    "# Reddit Streaming Producer"
   ]
  },
  {
   "cell_type": "code",
   "execution_count": 1,
   "metadata": {},
   "outputs": [],
   "source": [
    "import os\n",
    "import socket\n",
    "import json\n",
    "import time\n",
    "import praw\n",
    "from threading import Thread\n",
    "import queue"
   ]
  },
  {
   "cell_type": "code",
   "execution_count": 2,
   "metadata": {},
   "outputs": [
    {
     "name": "stdout",
     "output_type": "stream",
     "text": [
      "Configuration:\n",
      "HOST: 127.0.0.1, PORT: 9998\n",
      "SUBREDDITS: dataisbeautiful\n",
      "CLIENT_ID configured: Yes\n"
     ]
    }
   ],
   "source": [
    "HOST = os.getenv('PRODUCER_HOST', '127.0.0.1')\n",
    "PORT = int(os.getenv('PRODUCER_PORT', '9998'))\n",
    "CLIENT_ID = os.getenv('CLIENT_ID')\n",
    "CLIENT_SECRET = os.getenv('SECRET_TOKEN')\n",
    "USER_AGENT = os.getenv('USER_AGENT', 'MyRedditApp/0.0.1')\n",
    "SUBREDDITS = os.getenv('SUBREDDITS', 'dataisbeautiful')\n",
    "\n",
    "print(f\"Configuration:\")\n",
    "print(f\"HOST: {HOST}, PORT: {PORT}\")\n",
    "print(f\"SUBREDDITS: {SUBREDDITS}\")\n",
    "print(f\"CLIENT_ID configured: {'Yes' if CLIENT_ID else 'No'}\")"
   ]
  },
  {
   "cell_type": "code",
   "execution_count": 3,
   "metadata": {},
   "outputs": [],
   "source": [
    "reddit = praw.Reddit(\n",
    "    client_id=CLIENT_ID, \n",
    "    client_secret=CLIENT_SECRET, \n",
    "    user_agent=USER_AGENT\n",
    ")"
   ]
  },
  {
   "cell_type": "code",
   "execution_count": null,
   "metadata": {},
   "outputs": [],
   "source": [
    "def stream_comments(data_queue):\n",
    "    \"\"\"Stream comments from all subreddets\"\"\"\n",
    "    try:\n",
    "        subreddit = reddit.subreddit(SUBREDDITS)\n",
    "        \n",
    "        for comment in subreddit.stream.comments():\n",
    "            payload = {\n",
    "                'type': 'comment',\n",
    "                'subreddit': str(comment.subreddit),\n",
    "                'id': comment.id,\n",
    "                'text': comment.body,\n",
    "                'created_utc': comment.created_utc,\n",
    "                'author': str(comment.author) if comment.author else '[deleted]'\n",
    "            }\n",
    "            data_queue.put(payload)\n",
    "    except Exception as e:\n",
    "        print(f\"Comment stream error: {e}\")"
   ]
  },
  {
   "cell_type": "code",
   "execution_count": 5,
   "metadata": {},
   "outputs": [],
   "source": [
    "def stream_submissions(data_queue):\n",
    "    \"\"\"Stream submissions from all subreddits\"\"\"\n",
    "    try:\n",
    "        subreddit = reddit.subreddit(SUBREDDITS)\n",
    "        \n",
    "        for submission in subreddit.stream.submissions():\n",
    "            text = submission.title\n",
    "            if submission.selftext:\n",
    "                text += ' ' + submission.selftext\n",
    "                \n",
    "            payload = {\n",
    "                'type': 'submission', \n",
    "                'subreddit': str(submission.subreddit),\n",
    "                'id': submission.id,\n",
    "                'text': text,\n",
    "                'created_utc': submission.created_utc,\n",
    "                'author': str(submission.author) if submission.author else '[deleted]'\n",
    "            }\n",
    "            data_queue.put(payload)\n",
    "    except Exception as e:\n",
    "        print(f\"Submission stream error: {e}\")\n"
   ]
  },
  {
   "cell_type": "code",
   "execution_count": 6,
   "id": "f636cb27",
   "metadata": {},
   "outputs": [],
   "source": [
    "def start_producer():\n",
    "    \"\"\"Main producer function\"\"\"\n",
    "    # Create queue - no maxsize limit to avoid blocking\n",
    "    data_queue = queue.Queue()\n",
    "    \n",
    "    with socket.socket(socket.AF_INET, socket.SOCK_STREAM) as server_sock:\n",
    "        server_sock.setsockopt(socket.SOL_SOCKET, socket.SO_REUSEADDR, 1)\n",
    "        server_sock.bind((HOST, PORT))\n",
    "        server_sock.listen(1)\n",
    "        print(f'Producer: Listening on {HOST}:{PORT}')\n",
    "        \n",
    "        conn, addr = server_sock.accept()\n",
    "        print(f'Producer: Connected to {addr}')\n",
    "        \n",
    "        with conn:\n",
    "            # Start both streams in separate threads for concurrent processing \n",
    "            # (producer consumer model with multiple streaming sources)\n",
    "            Thread(target=stream_comments, args=(data_queue,), daemon=True).start()\n",
    "            Thread(target=stream_submissions, args=(data_queue,), daemon=True).start()\n",
    "            print(\"Finished setting up threads, started streaming...\")\n",
    "\n",
    "            try:\n",
    "                print(\"Producer: Ready to send data to consumer...\")\n",
    "                while True: \n",
    "                    payload = data_queue.get()\n",
    "                    print(f\"Received: {payload['type']} from r/{payload['subreddit']}\")\n",
    "                    # Ensure newline for proper message separation (that '\\n' is SO important!)\n",
    "                    # If it doesn't end with a newline, the consumer might reads malformed JSON data\n",
    "                    # and the entire thing breaks because of a single '\\n' missing\n",
    "                    json_str = json.dumps(payload) + '\\n' \n",
    "                    conn.sendall(json_str.encode('utf-8'))\n",
    "                    print(f\"Sent: {payload['type']} from r/{payload['subreddit']}\")\n",
    "                    time.sleep(0.1)\n",
    "                    \n",
    "            except (ConnectionResetError, BrokenPipeError):\n",
    "                print(\"Client disconnected\")\n",
    "            except KeyboardInterrupt:\n",
    "                print(\"Shutting down...\")"
   ]
  },
  {
   "cell_type": "code",
   "execution_count": null,
   "id": "2c546b4e",
   "metadata": {},
   "outputs": [
    {
     "name": "stdout",
     "output_type": "stream",
     "text": [
      "Producer: Listening on 127.0.0.1:9998\n"
     ]
    }
   ],
   "source": [
    "start_producer()"
   ]
  },
  {
   "cell_type": "code",
   "execution_count": null,
   "id": "4fbf24ca",
   "metadata": {},
   "outputs": [],
   "source": []
  }
 ],
 "metadata": {
  "kernelspec": {
   "display_name": "Python 3",
   "language": "python",
   "name": "python3"
  },
  "language_info": {
   "codemirror_mode": {
    "name": "ipython",
    "version": 3
   },
   "file_extension": ".py",
   "mimetype": "text/x-python",
   "name": "python",
   "nbconvert_exporter": "python",
   "pygments_lexer": "ipython3",
   "version": "3.10.9"
  }
 },
 "nbformat": 4,
 "nbformat_minor": 5
}

{
 "cells": [
  {
   "cell_type": "code",
   "execution_count": 1,
   "id": "f0f982a4",
   "metadata": {},
   "outputs": [],
   "source": [
    "from utils import * "
   ]
  },
  {
   "cell_type": "code",
   "execution_count": 2,
   "id": "c2255908",
   "metadata": {},
   "outputs": [],
   "source": [
    "host = '127.0.0.1'\n",
    "port = 9998\n",
    "\n",
    "CLIENT_ID= os.getenv('CLIENT_ID')\n",
    "CLIENT_SECRET = os.getenv('SECRET_TOKEN')\n",
    "USER_AGENT = 'MyBot/0.0.1'\n",
    "\n",
    "reddit_client = initialize_reddit_client(CLIENT_ID, CLIENT_SECRET, USER_AGENT)\n",
    "\n",
    "subred_name = 'dataisbeautiful'\n",
    "subreddit = reddit_client.subreddit(subred_name)"
   ]
  },
  {
   "cell_type": "code",
   "execution_count": 3,
   "id": "c1c6778e",
   "metadata": {},
   "outputs": [
    {
     "name": "stdout",
     "output_type": "stream",
     "text": [
      "Listening on port: 9998\n"
     ]
    }
   ],
   "source": [
    "# Socket Prep\n",
    "s = socket.socket()\n",
    "s.setsockopt(socket.SOL_SOCKET, socket.SO_REUSEADDR, 1)\n",
    "s.bind((host, port))\n",
    "print(\"Listening on port: %s\" % str(port))\n",
    "s.listen() # listen(5)"
   ]
  },
  {
   "cell_type": "code",
   "execution_count": null,
   "id": "64170b9b",
   "metadata": {},
   "outputs": [
    {
     "name": "stdout",
     "output_type": "stream",
     "text": [
      "{\"id\": \"1kngj4k\", \"title\": \"[OC] UK working households are now over \\u00a330,000 worse off than if pre-2008 income growth had continued.\", \"selftext\": \"\", \"author\": \"cavedave\", \"url\": \"https://i.redd.it/7cme66i2vz0f1.png\", \"permalink\": \"https://www.reddit.com/r/dataisbeautiful/comments/1kngj4k/oc_uk_working_households_are_now_over_30000_worse/\", \"created_utc\": 1747336078.0, \"ups\": 756, \"score\": 756, \"num_comments\": 112}\n"
     ]
    }
   ],
   "source": [
    "reddit_streamer = stream_comments(subreddit, reddit_client, s)"
   ]
  },
  {
   "cell_type": "code",
   "execution_count": null,
   "id": "abef7f24",
   "metadata": {},
   "outputs": [],
   "source": []
  }
 ],
 "metadata": {
  "kernelspec": {
   "display_name": "Python 3",
   "language": "python",
   "name": "python3"
  },
  "language_info": {
   "codemirror_mode": {
    "name": "ipython",
    "version": 3
   },
   "file_extension": ".py",
   "mimetype": "text/x-python",
   "name": "python",
   "nbconvert_exporter": "python",
   "pygments_lexer": "ipython3",
   "version": "3.10.9"
  }
 },
 "nbformat": 4,
 "nbformat_minor": 5
}

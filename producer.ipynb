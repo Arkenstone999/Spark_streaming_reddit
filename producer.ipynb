{
 "cells": [
  {
   "cell_type": "markdown",
   "metadata": {},
   "source": [
    "# Reddit Streaming Producer"
   ]
  },
  {
   "cell_type": "code",
   "execution_count": null,
   "metadata": {},
   "outputs": [],
   "source": [
    "import os\n",
    "import socket\n",
    "import json\n",
    "import time\n",
    "import praw"
   ]
  },
  {
   "cell_type": "code",
   "execution_count": null,
   "metadata": {},
   "outputs": [],
   "source": [
    "HOST = os.getenv('PRODUCER_HOST', '127.0.0.1')\n",
    "PORT = int(os.getenv('PRODUCER_PORT', '9998'))\n",
    "CLIENT_ID = os.getenv('CLIENT_ID')\n",
    "CLIENT_SECRET = os.getenv('SECRET_TOKEN')\n",
    "USER_AGENT = os.getenv('USER_AGENT', 'MyRedditApp/0.0.1')\n",
    "SUBREDDITS = os.getenv('SUBREDDITS', 'dataisbeautiful,python,spark').split(',')"
   ]
  },
  {
   "cell_type": "code",
   "execution_count": null,
   "metadata": {},
   "outputs": [],
   "source": [
    "reddit = praw.Reddit(client_id=CLIENT_ID, client_secret=CLIENT_SECRET, user_agent=USER_AGENT)\n",
    "\n",
    "def merge_streams(comment_stream, submission_stream):\n",
    "    itc = iter(comment_stream)\n",
    "    its = iter(submission_stream)\n",
    "    while True:\n",
    "        yield next(itc)\n",
    "        yield next(its)"
   ]
  },
  {
   "cell_type": "code",
   "execution_count": null,
   "metadata": {},
   "outputs": [],
   "source": [
    "def stream_and_send(conn):\n",
    "    for sub in SUBREDDITS:\n",
    "        comment_stream = reddit.subreddit(sub).stream.comments(skip_existing=True)\n",
    "        submission_stream = reddit.subreddit(sub).stream.submissions(skip_existing=True)\n",
    "        for item in merge_streams(comment_stream, submission_stream):\n",
    "            payload = {\n",
    "                'type': 'comment' if hasattr(item, 'body') else 'submission',\n",
    "                'subreddit': sub,\n",
    "                'id': item.id,\n",
    "                'text': item.body if hasattr(item, 'body') else (item.title + '\n",
    "\n",
    "' + (item.selftext or '')),\n",
    "                'created_utc': item.created_utc,\n",
    "                'author': str(item.author)\n",
    "            }\n",
    "            conn.sendall((json.dumps(payload) + '\n",
    "').encode('utf-8'))\n",
    "            time.sleep(0.1)"
   ]
  },
  {
   "cell_type": "code",
   "execution_count": null,
   "metadata": {},
   "outputs": [],
   "source": [
    "with socket.socket(socket.AF_INET, socket.SOCK_STREAM) as server_sock:\n",
    "    server_sock.setsockopt(socket.SOL_SOCKET, socket.SO_REUSEADDR, 1)\n",
    "    server_sock.bind((HOST, PORT))\n",
    "    server_sock.listen(1)\n",
    "    print(f'Producer: Listening on {HOST}:{PORT} …')\n",
    "    conn, addr = server_sock.accept()\n",
    "    print(f'Producer: Connection accepted from {addr}')\n",
    "    with conn:\n",
    "        stream_and_send(conn)"
   ]
  }
 ],
 "metadata": {
  "kernelspec": {
   "display_name": "Python 3",
   "language": "python",
   "name": "python3"
  },
  "language_info": {
   "name": "python",
   "version": "3.10.9"
  }
 },
 "nbformat": 4,
 "nbformat_minor": 5
}

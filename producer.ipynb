{
 "cells": [
  {
   "cell_type": "code",
   "execution_count": 1,
   "id": "f0f982a4",
   "metadata": {},
   "outputs": [],
   "source": [
    "from utils import * "
   ]
  },
  {
   "cell_type": "code",
   "execution_count": 2,
   "id": "c2255908",
   "metadata": {},
   "outputs": [],
   "source": [
    "host = '127.0.0.1'\n",
    "port = 9998\n",
    "\n",
    "CLIENT_ID= os.getenv('CLIENT_ID')\n",
    "CLIENT_SECRET = os.getenv('SECRET_TOKEN')\n",
    "USER_AGENT = 'MyBot/0.0.1'\n",
    "\n",
    "reddit_client = initialize_reddit_client(CLIENT_ID, CLIENT_SECRET, USER_AGENT)\n",
    "\n",
    "subred_name = 'dataisbeautiful'\n",
    "subreddit = reddit_client.subreddit(subred_name)"
   ]
  },
  {
   "cell_type": "code",
   "execution_count": 3,
   "id": "c1c6778e",
   "metadata": {},
   "outputs": [
    {
     "name": "stdout",
     "output_type": "stream",
     "text": [
      "Listening on port: 9998\n"
     ]
    }
   ],
   "source": [
    "# Socket Prep\n",
    "s = socket.socket()\n",
    "s.setsockopt(socket.SOL_SOCKET, socket.SO_REUSEADDR, 1)\n",
    "s.bind((host, port))\n",
    "print(\"Listening on port: %s\" % str(port))\n",
    "s.listen() # listen(5)"
   ]
  },
  {
   "cell_type": "code",
   "execution_count": null,
   "id": "64170b9b",
   "metadata": {},
   "outputs": [
    {
     "name": "stdout",
     "output_type": "stream",
     "text": [
      "{\"type\": \"comment\", \"comment\": \"It\\u2019s all lawns. Flushing/drinking/showers are virtually negligible\", \"prev_comment\": \"So are you saying that my peers and I (in WI) use 1/3 as much water around the house on a normal day as the average person from Utah? Are they just flushing their toilets like crazy or what?\\n\\n\\nI struggle to believe they're really using an extra 100 gallons *per day* watering their lawns or similar.\", \"post_title\": \"[OC] Annual Precipitation and Domestic Water Use\", \"post_id\": \"1kwsw38\", \"author\": \"SuperAwesomo\", \"link_url\": \"https://i.redd.it/r30v2zluxc3f1.jpeg\", \"link_permalink\": \"https://www.reddit.com/r/dataisbeautiful/comments/1kwsw38/oc_annual_precipitation_and_domestic_water_use/\", \"created_utc\": 1748430536.0, \"ups\": 1, \"likes\": null}\n",
      "{\"type\": \"comment\", \"comment\": \"Great visual/story! Simple and powerful. \\n\\n\\n\\nMy only comment is that the font feels a little off for the heading and date. It lets it down a little. I am nitpicking\", \"prev_comment\": null, \"post_title\": \"[OC] Average MP attendance by Party in the UK. (Since the last election)\", \"post_id\": \"1kxe6y2\", \"author\": \"oryx_za\", \"link_url\": \"https://i.redd.it/b6tq7fu28i3f1.png\", \"link_permalink\": \"https://www.reddit.com/r/dataisbeautiful/comments/1kxe6y2/oc_average_mp_attendance_by_party_in_the_uk_since/\", \"created_utc\": 1748430569.0, \"ups\": 1, \"likes\": null}\n",
      "{\"type\": \"comment\", \"comment\": \"Attendance is not the only way the Lib Dems are sliding\", \"prev_comment\": null, \"post_title\": \"[OC] Average MP attendance by Party in the UK. (Since the last election)\", \"post_id\": \"1kxe6y2\", \"author\": \"Reasonable-Team-7550\", \"link_url\": \"https://i.redd.it/b6tq7fu28i3f1.png\", \"link_permalink\": \"https://www.reddit.com/r/dataisbeautiful/comments/1kxe6y2/oc_average_mp_attendance_by_party_in_the_uk_since/\", \"created_utc\": 1748430606.0, \"ups\": 1, \"likes\": null}\n",
      "{\"type\": \"comment\", \"comment\": \"They should all be fined if they are below 90% ALL OF THEM.\", \"prev_comment\": null, \"post_title\": \"[OC] Average MP attendance by Party in the UK. (Since the last election)\", \"post_id\": \"1kxe6y2\", \"author\": \"Sarabando\", \"link_url\": \"https://i.redd.it/b6tq7fu28i3f1.png\", \"link_permalink\": \"https://www.reddit.com/r/dataisbeautiful/comments/1kxe6y2/oc_average_mp_attendance_by_party_in_the_uk_since/\", \"created_utc\": 1748430607.0, \"ups\": 1, \"likes\": null}\n",
      "{\"type\": \"comment\", \"comment\": \"Nigel has visited America more times than his own constituency.\", \"prev_comment\": null, \"post_title\": \"[OC] Average MP attendance by Party in the UK. (Since the last election)\", \"post_id\": \"1kxe6y2\", \"author\": \"Real-Pomegranate-235\", \"link_url\": \"https://i.redd.it/b6tq7fu28i3f1.png\", \"link_permalink\": \"https://www.reddit.com/r/dataisbeautiful/comments/1kxe6y2/oc_average_mp_attendance_by_party_in_the_uk_since/\", \"created_utc\": 1748430647.0, \"ups\": 1, \"likes\": null}\n",
      "{\"type\": \"comment\", \"comment\": \"Yes, snow is considered precipitation.\", \"prev_comment\": \"Does this take into account snow melt? Idaho gets a TON of snowfall in the northern half of the state which melts throughout the year and flows through various rivers in the state, providing water for agriculture use.\", \"post_title\": \"[OC] Annual Precipitation and Domestic Water Use\", \"post_id\": \"1kwsw38\", \"author\": \"dafolka\", \"link_url\": \"https://i.redd.it/r30v2zluxc3f1.jpeg\", \"link_permalink\": \"https://www.reddit.com/r/dataisbeautiful/comments/1kwsw38/oc_annual_precipitation_and_domestic_water_use/\", \"created_utc\": 1748430647.0, \"ups\": 1, \"likes\": null}\n",
      "{\"type\": \"comment\", \"comment\": \"Donut charts aren't really great for visual comparisons like this.\", \"prev_comment\": null, \"post_title\": \"[OC] Average MP attendance by Party in the UK. (Since the last election)\", \"post_id\": \"1kxe6y2\", \"author\": \"triedit2947\", \"link_url\": \"https://i.redd.it/b6tq7fu28i3f1.png\", \"link_permalink\": \"https://www.reddit.com/r/dataisbeautiful/comments/1kxe6y2/oc_average_mp_attendance_by_party_in_the_uk_since/\", \"created_utc\": 1748430677.0, \"ups\": 1, \"likes\": null}\n",
      "{\"type\": \"comment\", \"comment\": \"What do you mean by \\\"off\\\"? I see nothing squiff on it.\", \"prev_comment\": \"Great visual/story! Simple and powerful. \\n\\n\\n\\nMy only comment is that the font feels a little off for the heading and date. It lets it down a little. I am nitpicking\", \"post_title\": \"[OC] Average MP attendance by Party in the UK. (Since the last election)\", \"post_id\": \"1kxe6y2\", \"author\": \"wjhall\", \"link_url\": \"https://i.redd.it/b6tq7fu28i3f1.png\", \"link_permalink\": \"https://www.reddit.com/r/dataisbeautiful/comments/1kxe6y2/oc_average_mp_attendance_by_party_in_the_uk_since/\", \"created_utc\": 1748430769.0, \"ups\": 1, \"likes\": null}\n",
      "{\"type\": \"comment\", \"comment\": \"A reminder that MPs serve their constituents in a variety of ways that are not sitting in the Commons Chamber such as preparing for debates they\\u2019ll actually contribute to, preparing for committee work, spending time in their constituency (surgeries, etc.), meeting ministers and stakeholders, answering correspondence.\\n\\n\\u201cMP attendance\\u201d is a poor metric and I wish it would die. And no, I don\\u2019t work for any MP, and I\\u2019m not a member of any political party trying to defend anyone\\u2019s low score here.\", \"prev_comment\": null, \"post_title\": \"[OC] Average MP attendance by Party in the UK. (Since the last election)\", \"post_id\": \"1kxe6y2\", \"author\": \"Stone_tigris\", \"link_url\": \"https://i.redd.it/b6tq7fu28i3f1.png\", \"link_permalink\": \"https://www.reddit.com/r/dataisbeautiful/comments/1kxe6y2/oc_average_mp_attendance_by_party_in_the_uk_since/\", \"created_utc\": 1748430803.0, \"ups\": 1, \"likes\": null}\n",
      "{\"type\": \"comment\", \"comment\": \"Some of them will be affected by time spent on constituency work, appearances and activism. Plus not all votes need to be attended by every MP, because they aren't are significant\", \"prev_comment\": \"They should all be fined if they are below 90% ALL OF THEM.\", \"post_title\": \"[OC] Average MP attendance by Party in the UK. (Since the last election)\", \"post_id\": \"1kxe6y2\", \"author\": \"citron_bjorn\", \"link_url\": \"https://i.redd.it/b6tq7fu28i3f1.png\", \"link_permalink\": \"https://www.reddit.com/r/dataisbeautiful/comments/1kxe6y2/oc_average_mp_attendance_by_party_in_the_uk_since/\", \"created_utc\": 1748430900.0, \"ups\": 1, \"likes\": null}\n",
      "{\"type\": \"comment\", \"comment\": \"Does this only count days when parliament sits(i.e. mon-thur)?\", \"prev_comment\": null, \"post_title\": \"[OC] Average MP attendance by Party in the UK. (Since the last election)\", \"post_id\": \"1kxe6y2\", \"author\": \"awoo2\", \"link_url\": \"https://i.redd.it/b6tq7fu28i3f1.png\", \"link_permalink\": \"https://www.reddit.com/r/dataisbeautiful/comments/1kxe6y2/oc_average_mp_attendance_by_party_in_the_uk_since/\", \"created_utc\": 1748430901.0, \"ups\": 1, \"likes\": null}\n",
      "{\"type\": \"comment\", \"comment\": \"Reform's logo with an arrow pointing towards the far right...\", \"prev_comment\": null, \"post_title\": \"[OC] Average MP attendance by Party in the UK. (Since the last election)\", \"post_id\": \"1kxe6y2\", \"author\": \"BubbhaJebus\", \"link_url\": \"https://i.redd.it/b6tq7fu28i3f1.png\", \"link_permalink\": \"https://www.reddit.com/r/dataisbeautiful/comments/1kxe6y2/oc_average_mp_attendance_by_party_in_the_uk_since/\", \"created_utc\": 1748430907.0, \"ups\": 1, \"likes\": null}\n",
      "{\"type\": \"comment\", \"comment\": \"This is VERY subjective but I would position it differently and use a different font.\", \"prev_comment\": \"What do you mean by \\\"off\\\"? I see nothing squiff on it.\", \"post_title\": \"[OC] Average MP attendance by Party in the UK. (Since the last election)\", \"post_id\": \"1kxe6y2\", \"author\": \"oryx_za\", \"link_url\": \"https://i.redd.it/b6tq7fu28i3f1.png\", \"link_permalink\": \"https://www.reddit.com/r/dataisbeautiful/comments/1kxe6y2/oc_average_mp_attendance_by_party_in_the_uk_since/\", \"created_utc\": 1748430966.0, \"ups\": 1, \"likes\": null}\n",
      "{\"type\": \"comment\", \"comment\": \"Mp's are the only workers in the country who showing up to their jobs is optional.  And they are paid by the truck load!\", \"prev_comment\": null, \"post_title\": \"[OC] Average MP attendance by Party in the UK. (Since the last election)\", \"post_id\": \"1kxe6y2\", \"author\": \"CutsAPromo\", \"link_url\": \"https://i.redd.it/b6tq7fu28i3f1.png\", \"link_permalink\": \"https://www.reddit.com/r/dataisbeautiful/comments/1kxe6y2/oc_average_mp_attendance_by_party_in_the_uk_since/\", \"created_utc\": 1748431055.0, \"ups\": 1, \"likes\": null}\n",
      "{\"type\": \"comment\", \"comment\": \"His first is to suck off Trump\", \"prev_comment\": \"To be fair, Reform's leader's second job is to be MP for Clacton.\", \"post_title\": \"[OC] Average MP attendance by Party in the UK. (Since the last election)\", \"post_id\": \"1kxe6y2\", \"author\": \"Every-Switch2264\", \"link_url\": \"https://i.redd.it/b6tq7fu28i3f1.png\", \"link_permalink\": \"https://www.reddit.com/r/dataisbeautiful/comments/1kxe6y2/oc_average_mp_attendance_by_party_in_the_uk_since/\", \"created_utc\": 1748431081.0, \"ups\": 1, \"likes\": null}\n",
      "{\"type\": \"comment\", \"comment\": \"Why?\\n\\nShould they be forced to vote on issues of little importance to their constituents? Shouldn\\u2019t it be up to the electorate to decide if they did a good job and he to represent them again?\\n\\nSure, it isn\\u2019t great that participation is low, but that should be solved at the ballot box\\n\\nWould things not get rushed though even more if the MPs are forced to vote on everything when they would apparently rather be elsewhere?\\n\\nIt might not be for the best to force the disinterested to legislate\\u2026\", \"prev_comment\": \"They should all be fined if they are below 90% ALL OF THEM.\", \"post_title\": \"[OC] Average MP attendance by Party in the UK. (Since the last election)\", \"post_id\": \"1kxe6y2\", \"author\": \"133DK\", \"link_url\": \"https://i.redd.it/b6tq7fu28i3f1.png\", \"link_permalink\": \"https://www.reddit.com/r/dataisbeautiful/comments/1kxe6y2/oc_average_mp_attendance_by_party_in_the_uk_since/\", \"created_utc\": 1748431129.0, \"ups\": 1, \"likes\": null}\n",
      "{\"type\": \"comment\", \"comment\": \"This is a very noticeable trend for most of the far-right parties in the EU.\", \"prev_comment\": null, \"post_title\": \"[OC] Average MP attendance by Party in the UK. (Since the last election)\", \"post_id\": \"1kxe6y2\", \"author\": \"DenizzineD\", \"link_url\": \"https://i.redd.it/b6tq7fu28i3f1.png\", \"link_permalink\": \"https://www.reddit.com/r/dataisbeautiful/comments/1kxe6y2/oc_average_mp_attendance_by_party_in_the_uk_since/\", \"created_utc\": 1748431136.0, \"ups\": 1, \"likes\": null}\n",
      "{\"type\": \"comment\", \"comment\": \"Absolutely, in fact, I would prefer my MP to spend more time in his constituency than arguing pointlessly against the incumbents on things they are ultimately not going to be budging on.\", \"prev_comment\": \"A reminder that MPs serve their constituents in a variety of ways that are not sitting in the Commons Chamber such as preparing for debates they\\u2019ll actually contribute to, preparing for committee work, spending time in their constituency (surgeries, etc.), meeting ministers and stakeholders, answering correspondence.\\n\\n\\u201cMP attendance\\u201d is a poor metric and I wish it would die. And no, I don\\u2019t work for any MP, and I\\u2019m not a member of any political party trying to defend anyone\\u2019s low score here.\", \"post_title\": \"[OC] Average MP attendance by Party in the UK. (Since the last election)\", \"post_id\": \"1kxe6y2\", \"author\": \"molseh\", \"link_url\": \"https://i.redd.it/b6tq7fu28i3f1.png\", \"link_permalink\": \"https://www.reddit.com/r/dataisbeautiful/comments/1kxe6y2/oc_average_mp_attendance_by_party_in_the_uk_since/\", \"created_utc\": 1748431146.0, \"ups\": 1, \"likes\": null}\n",
      "{\"type\": \"comment\", \"comment\": \"Data:\\u00a0[https://www.fema.gov/openfema-data-page/disaster-declarations-summaries-v2](https://www.fema.gov/openfema-data-page/disaster-declarations-summaries-v2)\\n\\nTools: R (packages: dplyr, ggplot2, sf, usmap, tools, ggfx, grid, scales)\\n\\nFor those that don't know, FEMA is the Federal Emergency Management Agency. It is tasked with leading disaster response and recovery efforts. FEMA disasters are declared by the federal government at the request of state governments who may feel that they lack the resources to deal with a disaster. Some disaster declarations cover multiple counties.\", \"prev_comment\": null, \"post_title\": \"[OC] FEMA Wildfire Disasters Since 2000 by County\", \"post_id\": \"1kxegyc\", \"author\": \"haydendking\", \"link_url\": \"https://i.redd.it/clpi8m24bi3f1.jpeg\", \"link_permalink\": \"https://www.reddit.com/r/dataisbeautiful/comments/1kxegyc/oc_fema_wildfire_disasters_since_2000_by_county/\", \"created_utc\": 1748431157.0, \"ups\": 1, \"likes\": null}\n"
     ]
    }
   ],
   "source": [
    "reddit_streamer = stream_comments(subreddit, reddit_client, s)"
   ]
  },
  {
   "cell_type": "code",
   "execution_count": null,
   "id": "abef7f24",
   "metadata": {},
   "outputs": [],
   "source": []
  }
 ],
 "metadata": {
  "kernelspec": {
   "display_name": "Python 3",
   "language": "python",
   "name": "python3"
  },
  "language_info": {
   "codemirror_mode": {
    "name": "ipython",
    "version": 3
   },
   "file_extension": ".py",
   "mimetype": "text/x-python",
   "name": "python",
   "nbconvert_exporter": "python",
   "pygments_lexer": "ipython3",
   "version": "3.10.9"
  }
 },
 "nbformat": 4,
 "nbformat_minor": 5
}

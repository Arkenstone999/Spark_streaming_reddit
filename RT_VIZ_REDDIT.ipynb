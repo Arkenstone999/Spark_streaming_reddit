{
 "cells": [
  {
   "cell_type": "markdown",
   "id": "d0c72b79",
   "metadata": {
    "editable": true,
    "slideshow": {
     "slide_type": ""
    },
    "tags": []
   },
   "source": [
    "# Visualizer\n",
    "### Receives processed data from producer to display in real time."
   ]
  },
  {
   "cell_type": "code",
   "execution_count": 7,
   "id": "cfe50977",
   "metadata": {},
   "outputs": [
    {
     "name": "stdout",
     "output_type": "stream",
     "text": [
      "✅ Interactive widgets available\n",
      "📦 NLP libraries not available: No module named 'wordcloud'\n",
      "✅ NLTK sentiment tools available\n"
     ]
    },
    {
     "data": {
      "text/html": [
       "        <script type=\"text/javascript\">\n",
       "        window.PlotlyConfig = {MathJaxConfig: 'local'};\n",
       "        if (window.MathJax && window.MathJax.Hub && window.MathJax.Hub.Config) {window.MathJax.Hub.Config({SVG: {font: \"STIX-Web\"}});}\n",
       "        </script>\n",
       "        <script type=\"module\">import \"https://cdn.plot.ly/plotly-3.0.1.min\"</script>\n",
       "        "
      ]
     },
     "metadata": {},
     "output_type": "display_data"
    }
   ],
   "source": [
    "import pandas as pd\n",
    "import numpy as np\n",
    "import re\n",
    "import sys\n",
    "import subprocess\n",
    "import os\n",
    "import glob\n",
    "import json\n",
    "import time\n",
    "from datetime import datetime, timedelta\n",
    "from collections import Counter\n",
    "import matplotlib.pyplot as plt\n",
    "import seaborn as sns\n",
    "import plotly.graph_objects as go\n",
    "import plotly.express as px\n",
    "from plotly.subplots import make_subplots\n",
    "import plotly.offline as pyo\n",
    "\n",
    "# Jupyter and interactive components\n",
    "from IPython.display import display, HTML, clear_output\n",
    "try:\n",
    "    import ipywidgets as widgets\n",
    "    from ipywidgets import interact, interact_manual\n",
    "    print(\"✅ Interactive widgets available\")\n",
    "except ImportError:\n",
    "    print(\"⚠️ Interactive widgets not available\")\n",
    "\n",
    "try:\n",
    "    import nltk\n",
    "    from textblob import TextBlob\n",
    "    from wordcloud import WordCloud\n",
    "    print(\"✅ NLP libraries loaded successfully\")\n",
    "except ImportError as e:\n",
    "    print(f\"📦 NLP libraries not available: {e}\")\n",
    "try:\n",
    "    from nltk.corpus import stopwords\n",
    "    from nltk.sentiment import SentimentIntensityAnalyzer\n",
    "    print(\"✅ NLTK sentiment tools available\")\n",
    "except ImportError:\n",
    "    print(\"⚠️ NLTK sentiment tools will be installed automatically if needed\")\n",
    "\n",
    "import warnings\n",
    "warnings.filterwarnings('ignore')\n",
    "plt.style.use('seaborn-v0_8')\n",
    "sns.set_palette(\"husl\")\n",
    "\n",
    "# Plotly offline mode for Jupyter\n",
    "pyo.init_notebook_mode(connected=True)\n",
    "pd.set_option('display.max_columns', None)\n",
    "pd.set_option('display.width', None)\n",
    "pd.set_option('display.max_colwidth', 50)"
   ]
  },
  {
   "cell_type": "code",
   "execution_count": 22,
   "id": "f360cf44-91f9-4b2a-aedc-ee69bc0a71fa",
   "metadata": {},
   "outputs": [
    {
     "name": "stdout",
     "output_type": "stream",
     "text": [
      "🔍 Scanning for any Reddit data files...\n",
      "📄 Found 331 total files\n",
      "💾 Found 233 data files\n",
      "\n",
      "📋 Available data files:\n",
      "  1. /tmp/reddit_raw_data/batch_16/subreddit=AskReddit/part-00001-2addee42-631c-4f37-bd56-36db74254d63.c000.snappy.parquet\n",
      "      Size: 7615 bytes, Modified: 2025-06-09 13:24:00.559907\n",
      "  2. /tmp/reddit_raw_data/batch_16/subreddit=AskReddit/part-00003-2addee42-631c-4f37-bd56-36db74254d63.c000.snappy.parquet\n",
      "      Size: 8313 bytes, Modified: 2025-06-09 13:24:00.549906\n",
      "  3. /tmp/reddit_raw_data/batch_16/subreddit=AskReddit/part-00000-2addee42-631c-4f37-bd56-36db74254d63.c000.snappy.parquet\n",
      "      Size: 7490 bytes, Modified: 2025-06-09 13:24:00.569908\n",
      "  4. /tmp/reddit_raw_data/batch_16/subreddit=AskReddit/part-00004-2addee42-631c-4f37-bd56-36db74254d63.c000.snappy.parquet\n",
      "      Size: 9576 bytes, Modified: 2025-06-09 13:24:00.559907\n",
      "  5. /tmp/reddit_raw_data/batch_16/subreddit=AskReddit/part-00002-2addee42-631c-4f37-bd56-36db74254d63.c000.snappy.parquet\n",
      "      Size: 11050 bytes, Modified: 2025-06-09 13:24:00.559907\n",
      "  6. /tmp/reddit_raw_data/batch_16/subreddit=worldnews/part-00005-2addee42-631c-4f37-bd56-36db74254d63.c000.snappy.parquet\n",
      "      Size: 9401 bytes, Modified: 2025-06-09 13:24:00.539905\n",
      "  7. /tmp/reddit_raw_data/batch_12/subreddit=AskReddit/part-00000-ba3dd0c8-ea30-4a55-a07e-0a801d39f21d.c000.snappy.parquet\n",
      "      Size: 9461 bytes, Modified: 2025-06-09 13:20:00.769850\n",
      "  8. /tmp/reddit_raw_data/batch_12/subreddit=AskReddit/part-00001-ba3dd0c8-ea30-4a55-a07e-0a801d39f21d.c000.snappy.parquet\n",
      "      Size: 8907 bytes, Modified: 2025-06-09 13:20:00.769850\n",
      "  9. /tmp/reddit_raw_data/batch_12/subreddit=AskReddit/part-00002-ba3dd0c8-ea30-4a55-a07e-0a801d39f21d.c000.snappy.parquet\n",
      "      Size: 8904 bytes, Modified: 2025-06-09 13:20:00.779852\n",
      "  10. /tmp/reddit_raw_data/batch_12/subreddit=worldnews/part-00003-ba3dd0c8-ea30-4a55-a07e-0a801d39f21d.c000.snappy.parquet\n",
      "      Size: 8993 bytes, Modified: 2025-06-09 13:20:00.759849\n",
      "\n",
      "🎯 Loading latest file: /tmp/reddit_metrics_data/batch_23_author_stats/part-00000-a86548cc-315c-401c-baac-72ea3c3e726d-c000.json\n",
      "✅ Successfully loaded 1 records!\n",
      "📊 Columns: ['author', 'posts_count', 'avg_score']\n",
      "\n",
      "🔍 First few rows:\n"
     ]
    },
    {
     "data": {
      "text/html": [
       "<div>\n",
       "<style scoped>\n",
       "    .dataframe tbody tr th:only-of-type {\n",
       "        vertical-align: middle;\n",
       "    }\n",
       "\n",
       "    .dataframe tbody tr th {\n",
       "        vertical-align: top;\n",
       "    }\n",
       "\n",
       "    .dataframe thead th {\n",
       "        text-align: right;\n",
       "    }\n",
       "</style>\n",
       "<table border=\"1\" class=\"dataframe\">\n",
       "  <thead>\n",
       "    <tr style=\"text-align: right;\">\n",
       "      <th></th>\n",
       "      <th>author</th>\n",
       "      <th>posts_count</th>\n",
       "      <th>avg_score</th>\n",
       "    </tr>\n",
       "  </thead>\n",
       "  <tbody>\n",
       "    <tr>\n",
       "      <th>0</th>\n",
       "      <td>FriendshipBudget1341</td>\n",
       "      <td>1</td>\n",
       "      <td>1</td>\n",
       "    </tr>\n",
       "  </tbody>\n",
       "</table>\n",
       "</div>"
      ],
      "text/plain": [
       "                 author  posts_count  avg_score\n",
       "0  FriendshipBudget1341            1          1"
      ]
     },
     "metadata": {},
     "output_type": "display_data"
    }
   ],
   "source": [
    "def simple_data_loader():\n",
    "    \"\"\"Simple approach - monitor the data directory directly\"\"\"\n",
    "    \n",
    "    print(\"🔍 Scanning for any Reddit data files...\")\n",
    "    \n",
    "    # Scan all possible locations\n",
    "    search_patterns = [\n",
    "        \"/tmp/reddit_raw_data/**/*\",\n",
    "        \"/tmp/reddit_metrics_data/**/*\", \n",
    "        \"/tmp/*reddit*\",\n",
    "        \"./data/**/*\",  # In case data is in local directory\n",
    "    ]\n",
    "    \n",
    "    all_files = []\n",
    "    for pattern in search_patterns:\n",
    "        files = glob.glob(pattern, recursive=True)\n",
    "        all_files.extend([f for f in files if os.path.isfile(f)])\n",
    "    \n",
    "    print(f\"📄 Found {len(all_files)} total files\")\n",
    "    \n",
    "    # Filter for data files\n",
    "    data_files = [f for f in all_files if f.endswith(('.csv', '.json', '.parquet', '.txt'))]\n",
    "    print(f\"💾 Found {len(data_files)} data files\")\n",
    "    \n",
    "    if data_files:\n",
    "        print(\"\\n📋 Available data files:\")\n",
    "        for i, file in enumerate(data_files[:10]):  # Show first 10\n",
    "            size = os.path.getsize(file)\n",
    "            mtime = datetime.fromtimestamp(os.path.getmtime(file))\n",
    "            print(f\"  {i+1}. {file}\")\n",
    "            print(f\"      Size: {size} bytes, Modified: {mtime}\")\n",
    "        \n",
    "        # Try to load the most recent file\n",
    "        latest_file = max(data_files, key=os.path.getmtime)\n",
    "        print(f\"\\n🎯 Loading latest file: {latest_file}\")\n",
    "        \n",
    "        try:\n",
    "            if latest_file.endswith('.csv'):\n",
    "                df = pd.read_csv(latest_file)\n",
    "            elif latest_file.endswith('.json'):\n",
    "                try:\n",
    "                    df = pd.read_json(latest_file, lines=True)\n",
    "                except:\n",
    "                    df = pd.read_json(latest_file)\n",
    "            elif latest_file.endswith('.parquet'):\n",
    "                df = pd.read_parquet(latest_file)\n",
    "            else:\n",
    "                # Try as text/CSV\n",
    "                df = pd.read_csv(latest_file)\n",
    "                \n",
    "            print(f\"✅ Successfully loaded {len(df)} records!\")\n",
    "            print(f\"📊 Columns: {list(df.columns)}\")\n",
    "            print(\"\\n🔍 First few rows:\")\n",
    "            display(df.head())\n",
    "            \n",
    "            return df, None\n",
    "            \n",
    "        except Exception as e:\n",
    "            print(f\"❌ Error loading file: {e}\")\n",
    "            print(\"📄 Let's check the file content:\")\n",
    "            with open(latest_file, 'r') as f:\n",
    "                print(f.read()[:500] + \"...\" if len(f.read()) > 500 else f.read())\n",
    "    \n",
    "    return None, None\n",
    "\n",
    "# Try the simple loader\n",
    "simple_raw_df, simple_metrics_df = simple_data_loader()"
   ]
  },
  {
   "cell_type": "code",
   "execution_count": 23,
   "id": "35fe6949-f417-4f83-bb03-c3ad188384d8",
   "metadata": {
    "editable": true,
    "slideshow": {
     "slide_type": ""
    },
    "tags": []
   },
   "outputs": [
    {
     "name": "stdout",
     "output_type": "stream",
     "text": [
      "🔍 Found 114 raw data files\n",
      "🔍 Found 0 metrics files\n",
      "✅ Combined 115 total records from 23 batches\n",
      "\n",
      "📊 Batch Summary:\n",
      "   Batch 1: 13 records from 13 files\n",
      "   Batch 2: 20 records from 19 files\n",
      "   Batch 3: 18 records from 18 files\n",
      "   Batch 4: 7 records from 7 files\n",
      "   Batch 5: 4 records from 4 files\n",
      "   Batch 6: 1 records from 1 files\n",
      "   Batch 7: 3 records from 3 files\n",
      "   Batch 8: 5 records from 5 files\n",
      "   Batch 9: 5 records from 5 files\n",
      "   Batch 10: 1 records from 1 files\n",
      "   Batch 11: 3 records from 3 files\n",
      "   Batch 12: 4 records from 4 files\n",
      "   Batch 13: 5 records from 5 files\n",
      "   Batch 14: 4 records from 4 files\n",
      "   Batch 15: 1 records from 1 files\n",
      "   Batch 16: 6 records from 6 files\n",
      "   Batch 17: 1 records from 1 files\n",
      "   Batch 18: 3 records from 3 files\n",
      "   Batch 19: 4 records from 4 files\n",
      "   Batch 20: 1 records from 1 files\n",
      "   Batch 21: 2 records from 2 files\n",
      "   Batch 22: 3 records from 3 files\n",
      "   Batch 23: 1 records from 1 files\n",
      "\n",
      "🎯 Current batch (23) has 1 records\n",
      "\n",
      "📈 Data Summary:\n",
      "   • Historical records: 115\n",
      "   • Current batch records: 1\n"
     ]
    }
   ],
   "source": [
    "def load_all_reddit_data():\n",
    "    \"\"\"Load all Reddit data from all batches and combine them\"\"\"\n",
    "    try:\n",
    "        # Get all parquet files\n",
    "        all_parquet_files = glob.glob(\"/tmp/reddit_raw_data/**/*.parquet\", recursive=True)\n",
    "        all_metrics_files = glob.glob(\"/tmp/reddit_metrics_data/**/*.parquet\", recursive=True)\n",
    "        \n",
    "        print(f\"🔍 Found {len(all_parquet_files)} raw data files\")\n",
    "        print(f\"🔍 Found {len(all_metrics_files)} metrics files\")\n",
    "        \n",
    "        if not all_parquet_files:\n",
    "            return pd.DataFrame(), pd.DataFrame()\n",
    "        \n",
    "        # Load and combine all raw data\n",
    "        all_dfs = []\n",
    "        batch_info = {}\n",
    "        \n",
    "        for file_path in all_parquet_files:\n",
    "            try:\n",
    "                # Extract batch number from path\n",
    "                batch_match = re.search(r'batch_(\\d+)', file_path)\n",
    "                batch_num = int(batch_match.group(1)) if batch_match else 0\n",
    "                \n",
    "                # Load parquet file\n",
    "                df = pd.read_parquet(file_path)\n",
    "                df['batch_number'] = batch_num\n",
    "                df['file_path'] = file_path\n",
    "                df['file_timestamp'] = pd.to_datetime(os.path.getmtime(file_path), unit='s')\n",
    "                \n",
    "                all_dfs.append(df)\n",
    "                \n",
    "                if batch_num not in batch_info:\n",
    "                    batch_info[batch_num] = {'files': 0, 'records': 0}\n",
    "                batch_info[batch_num]['files'] += 1\n",
    "                batch_info[batch_num]['records'] += len(df)\n",
    "                \n",
    "            except Exception as e:\n",
    "                print(f\"⚠️ Error loading {file_path}: {e}\")\n",
    "                continue\n",
    "        \n",
    "        # Combine all data\n",
    "        if all_dfs:\n",
    "            combined_df = pd.concat(all_dfs, ignore_index=True)\n",
    "            \n",
    "            # Data cleaning and type conversion\n",
    "            if 'created_datetime' in combined_df.columns:\n",
    "                combined_df['created_datetime'] = pd.to_datetime(combined_df['created_datetime'])\n",
    "            if 'timestamp_received' in combined_df.columns:\n",
    "                combined_df['timestamp_received'] = pd.to_datetime(combined_df['timestamp_received'])\n",
    "            \n",
    "            print(f\"✅ Combined {len(combined_df)} total records from {len(batch_info)} batches\")\n",
    "            \n",
    "            # Print batch summary\n",
    "            print(\"\\n📊 Batch Summary:\")\n",
    "            for batch_num, info in sorted(batch_info.items()):\n",
    "                print(f\"   Batch {batch_num}: {info['records']} records from {info['files']} files\")\n",
    "            \n",
    "            return combined_df, pd.DataFrame()  # Return empty metrics for now\n",
    "        \n",
    "        return pd.DataFrame(), pd.DataFrame()\n",
    "        \n",
    "    except Exception as e:\n",
    "        print(f\"❌ Error in load_all_reddit_data: {e}\")\n",
    "        import traceback\n",
    "        traceback.print_exc()\n",
    "        return pd.DataFrame(), pd.DataFrame()\n",
    "\n",
    "# Load all historical data\n",
    "import re\n",
    "historical_raw, historical_metrics = load_all_reddit_data()\n",
    "\n",
    "# Use the latest data as current\n",
    "raw_df = simple_raw_df  # From our simple loader\n",
    "if not historical_raw.empty:\n",
    "    latest_batch = historical_raw['batch_number'].max()\n",
    "    current_batch_df = historical_raw[historical_raw['batch_number'] == latest_batch]\n",
    "    print(f\"\\n🎯 Current batch ({latest_batch}) has {len(current_batch_df)} records\")\n",
    "else:\n",
    "    current_batch_df = raw_df if raw_df is not None else pd.DataFrame()\n",
    "\n",
    "print(f\"\\n📈 Data Summary:\")\n",
    "print(f\"   • Historical records: {len(historical_raw)}\")\n",
    "print(f\"   • Current batch records: {len(current_batch_df)}\")\n"
   ]
  },
  {
   "cell_type": "code",
   "execution_count": 24,
   "id": "2f2032fc-35c6-4455-9bb9-463274cb3faf",
   "metadata": {},
   "outputs": [
    {
     "data": {
      "text/html": [
       "\n",
       "        <div style=\"background: linear-gradient(135deg, #667eea 0%, #764ba2 100%); \n",
       "                    padding: 25px; border-radius: 15px; margin: 20px 0; color: white;\">\n",
       "            <h2 style=\"text-align: center; margin: 0 0 20px 0; font-size: 28px;\">\n",
       "                🚀 Reddit Analytics Dashboard - Live Data\n",
       "            </h2>\n",
       "            <p style=\"text-align: center; margin: 0 0 20px 0; font-size: 16px; opacity: 0.9;\">\n",
       "                Batches: 1-23 | Last Updated: 2025-06-09 13:32:56\n",
       "            </p>\n",
       "        </div>\n",
       "        \n",
       "        <div style=\"display: grid; grid-template-columns: repeat(auto-fit, minmax(200px, 1fr)); \n",
       "                    gap: 20px; margin: 20px 0;\">\n",
       "            \n",
       "            <div style=\"background: linear-gradient(45deg, #667eea 0%, #764ba2 100%); \n",
       "                        color: white; padding: 25px; border-radius: 15px; text-align: center; \n",
       "                        box-shadow: 0 8px 32px rgba(0,0,0,0.1);\">\n",
       "                <div style=\"font-size: 36px; font-weight: bold; margin-bottom: 10px;\">115</div>\n",
       "                <div style=\"font-size: 16px; opacity: 0.9;\">📊 Total Records</div>\n",
       "            </div>\n",
       "            \n",
       "            <div style=\"background: linear-gradient(45deg, #f093fb 0%, #f5576c 100%); \n",
       "                        color: white; padding: 25px; border-radius: 15px; text-align: center;\n",
       "                        box-shadow: 0 8px 32px rgba(0,0,0,0.1);\">\n",
       "                <div style=\"font-size: 36px; font-weight: bold; margin-bottom: 10px;\">62</div>\n",
       "                <div style=\"font-size: 16px; opacity: 0.9;\">📝 Posts</div>\n",
       "            </div>\n",
       "            \n",
       "            <div style=\"background: linear-gradient(45deg, #4facfe 0%, #00f2fe 100%); \n",
       "                        color: white; padding: 25px; border-radius: 15px; text-align: center;\n",
       "                        box-shadow: 0 8px 32px rgba(0,0,0,0.1);\">\n",
       "                <div style=\"font-size: 36px; font-weight: bold; margin-bottom: 10px;\">53</div>\n",
       "                <div style=\"font-size: 16px; opacity: 0.9;\">💬 Comments</div>\n",
       "            </div>\n",
       "            \n",
       "            <div style=\"background: linear-gradient(45deg, #43e97b 0%, #38f9d7 100%); \n",
       "                        color: white; padding: 25px; border-radius: 15px; text-align: center;\n",
       "                        box-shadow: 0 8px 32px rgba(0,0,0,0.1);\">\n",
       "                <div style=\"font-size: 36px; font-weight: bold; margin-bottom: 10px;\">0</div>\n",
       "                <div style=\"font-size: 16px; opacity: 0.9;\">🏠 Subreddits</div>\n",
       "            </div>\n",
       "            \n",
       "            <div style=\"background: linear-gradient(45deg, #fa709a 0%, #fee140 100%); \n",
       "                        color: white; padding: 25px; border-radius: 15px; text-align: center;\n",
       "                        box-shadow: 0 8px 32px rgba(0,0,0,0.1);\">\n",
       "                <div style=\"font-size: 36px; font-weight: bold; margin-bottom: 10px;\">99</div>\n",
       "                <div style=\"font-size: 16px; opacity: 0.9;\">👥 Authors</div>\n",
       "            </div>\n",
       "            \n",
       "            <div style=\"background: linear-gradient(45deg, #a8edea 0%, #fed6e3 100%); \n",
       "                        color: #333; padding: 25px; border-radius: 15px; text-align: center;\n",
       "                        box-shadow: 0 8px 32px rgba(0,0,0,0.1);\">\n",
       "                <div style=\"font-size: 36px; font-weight: bold; margin-bottom: 10px;\">23.8</div>\n",
       "                <div style=\"font-size: 16px; opacity: 0.8;\">⭐ Avg Score</div>\n",
       "            </div>\n",
       "        </div>\n",
       "        "
      ],
      "text/plain": [
       "<IPython.core.display.HTML object>"
      ]
     },
     "metadata": {},
     "output_type": "display_data"
    },
    {
     "name": "stdout",
     "output_type": "stream",
     "text": [
      "\n",
      "🔍 Detailed Breakdown:\n",
      "   • Posts vs Comments ratio: 62:53\n",
      "   • Score range: 0.0 to 1548.0\n"
     ]
    }
   ],
   "source": [
    "def display_current_stats():\n",
    "    \"\"\"Display current batch statistics with beautiful cards\"\"\"\n",
    "    \n",
    "    # Use historical data if available, otherwise current batch\n",
    "    display_data = historical_raw if not historical_raw.empty else (raw_df if raw_df is not None else pd.DataFrame())\n",
    "    \n",
    "    if display_data is not None and not display_data.empty:\n",
    "        \n",
    "        # Calculate statistics\n",
    "        total_records = len(display_data)\n",
    "        posts_count = len(display_data[display_data['type'] == 'post']) if 'type' in display_data.columns else 0\n",
    "        comments_count = len(display_data[display_data['type'] == 'comment']) if 'type' in display_data.columns else 0\n",
    "        subreddits_count = display_data['subreddit'].nunique() if 'subreddit' in display_data.columns else 0\n",
    "        authors_count = display_data['author'].nunique() if 'author' in display_data.columns else 0\n",
    "        avg_score = display_data['score'].mean() if 'score' in display_data.columns else 0\n",
    "        \n",
    "        # Get unique batch numbers\n",
    "        if 'batch_number' in display_data.columns:\n",
    "            batch_numbers = sorted(display_data['batch_number'].unique())\n",
    "            batches_text = f\"Batches: {min(batch_numbers)}-{max(batch_numbers)}\" if len(batch_numbers) > 1 else f\"Batch: {batch_numbers[0]}\"\n",
    "        else:\n",
    "            batches_text = \"Single Batch\"\n",
    "        \n",
    "        # Create enhanced info cards\n",
    "        html_template = \"\"\"\n",
    "        <div style=\"background: linear-gradient(135deg, #667eea 0%, #764ba2 100%); \n",
    "                    padding: 25px; border-radius: 15px; margin: 20px 0; color: white;\">\n",
    "            <h2 style=\"text-align: center; margin: 0 0 20px 0; font-size: 28px;\">\n",
    "                🚀 Reddit Analytics Dashboard - Live Data\n",
    "            </h2>\n",
    "            <p style=\"text-align: center; margin: 0 0 20px 0; font-size: 16px; opacity: 0.9;\">\n",
    "                {batches_info} | Last Updated: {timestamp}\n",
    "            </p>\n",
    "        </div>\n",
    "        \n",
    "        <div style=\"display: grid; grid-template-columns: repeat(auto-fit, minmax(200px, 1fr)); \n",
    "                    gap: 20px; margin: 20px 0;\">\n",
    "            \n",
    "            <div style=\"background: linear-gradient(45deg, #667eea 0%, #764ba2 100%); \n",
    "                        color: white; padding: 25px; border-radius: 15px; text-align: center; \n",
    "                        box-shadow: 0 8px 32px rgba(0,0,0,0.1);\">\n",
    "                <div style=\"font-size: 36px; font-weight: bold; margin-bottom: 10px;\">{total}</div>\n",
    "                <div style=\"font-size: 16px; opacity: 0.9;\">📊 Total Records</div>\n",
    "            </div>\n",
    "            \n",
    "            <div style=\"background: linear-gradient(45deg, #f093fb 0%, #f5576c 100%); \n",
    "                        color: white; padding: 25px; border-radius: 15px; text-align: center;\n",
    "                        box-shadow: 0 8px 32px rgba(0,0,0,0.1);\">\n",
    "                <div style=\"font-size: 36px; font-weight: bold; margin-bottom: 10px;\">{posts}</div>\n",
    "                <div style=\"font-size: 16px; opacity: 0.9;\">📝 Posts</div>\n",
    "            </div>\n",
    "            \n",
    "            <div style=\"background: linear-gradient(45deg, #4facfe 0%, #00f2fe 100%); \n",
    "                        color: white; padding: 25px; border-radius: 15px; text-align: center;\n",
    "                        box-shadow: 0 8px 32px rgba(0,0,0,0.1);\">\n",
    "                <div style=\"font-size: 36px; font-weight: bold; margin-bottom: 10px;\">{comments}</div>\n",
    "                <div style=\"font-size: 16px; opacity: 0.9;\">💬 Comments</div>\n",
    "            </div>\n",
    "            \n",
    "            <div style=\"background: linear-gradient(45deg, #43e97b 0%, #38f9d7 100%); \n",
    "                        color: white; padding: 25px; border-radius: 15px; text-align: center;\n",
    "                        box-shadow: 0 8px 32px rgba(0,0,0,0.1);\">\n",
    "                <div style=\"font-size: 36px; font-weight: bold; margin-bottom: 10px;\">{subreddits}</div>\n",
    "                <div style=\"font-size: 16px; opacity: 0.9;\">🏠 Subreddits</div>\n",
    "            </div>\n",
    "            \n",
    "            <div style=\"background: linear-gradient(45deg, #fa709a 0%, #fee140 100%); \n",
    "                        color: white; padding: 25px; border-radius: 15px; text-align: center;\n",
    "                        box-shadow: 0 8px 32px rgba(0,0,0,0.1);\">\n",
    "                <div style=\"font-size: 36px; font-weight: bold; margin-bottom: 10px;\">{authors}</div>\n",
    "                <div style=\"font-size: 16px; opacity: 0.9;\">👥 Authors</div>\n",
    "            </div>\n",
    "            \n",
    "            <div style=\"background: linear-gradient(45deg, #a8edea 0%, #fed6e3 100%); \n",
    "                        color: #333; padding: 25px; border-radius: 15px; text-align: center;\n",
    "                        box-shadow: 0 8px 32px rgba(0,0,0,0.1);\">\n",
    "                <div style=\"font-size: 36px; font-weight: bold; margin-bottom: 10px;\">{avg_score:.1f}</div>\n",
    "                <div style=\"font-size: 16px; opacity: 0.8;\">⭐ Avg Score</div>\n",
    "            </div>\n",
    "        </div>\n",
    "        \"\"\"\n",
    "        \n",
    "        html_content = html_template.format(\n",
    "            total=total_records,\n",
    "            posts=posts_count,\n",
    "            comments=comments_count,\n",
    "            subreddits=subreddits_count,\n",
    "            authors=authors_count,\n",
    "            avg_score=avg_score,\n",
    "            batches_info=batches_text,\n",
    "            timestamp=datetime.now().strftime('%Y-%m-%d %H:%M:%S')\n",
    "        )\n",
    "        \n",
    "        display(HTML(html_content))\n",
    "        \n",
    "        # Additional detailed stats\n",
    "        print(f\"\\n🔍 Detailed Breakdown:\")\n",
    "        print(f\"   • Posts vs Comments ratio: {posts_count}:{comments_count}\")\n",
    "        if 'subreddit' in display_data.columns:\n",
    "            top_subreddits = display_data['subreddit'].value_counts().head(3)\n",
    "            print(f\"   • Top subreddits: {', '.join([f'{k}({v})' for k, v in top_subreddits.items()])}\")\n",
    "        if 'score' in display_data.columns:\n",
    "            print(f\"   • Score range: {display_data['score'].min():.1f} to {display_data['score'].max():.1f}\")\n",
    "            \n",
    "    else:\n",
    "        display(HTML('''\n",
    "        <div style=\"background: linear-gradient(45deg, #ff6b6b 0%, #feca57 100%); \n",
    "                    color: white; padding: 30px; border-radius: 15px; text-align: center; margin: 20px 0;\">\n",
    "            <div style=\"font-size: 48px; margin-bottom: 15px;\">⚠️</div>\n",
    "            <h2 style=\"margin: 0;\">No Data Available</h2>\n",
    "            <p style=\"margin: 10px 0 0 0; opacity: 0.9;\">\n",
    "                Waiting for Reddit data stream... Make sure the producer and consumer are running.\n",
    "            </p>\n",
    "        </div>\n",
    "        '''))\n",
    "\n",
    "# Display current stats\n",
    "display_current_stats()"
   ]
  },
  {
   "cell_type": "code",
   "execution_count": 25,
   "id": "fa65f45a-f20e-4441-9886-ffb3e19456c2",
   "metadata": {
    "editable": true,
    "slideshow": {
     "slide_type": ""
    },
    "tags": []
   },
   "outputs": [
    {
     "name": "stdout",
     "output_type": "stream",
     "text": [
      "🔍 Analyzing text from columns: ['title', 'text', 'full_text']\n",
      "✅ Processed 115 text entries with enhanced analysis\n"
     ]
    },
    {
     "data": {
      "application/vnd.plotly.v1+json": {
       "config": {
        "plotlyServerURL": "https://plot.ly"
       },
       "data": [
        {
         "hovertemplate": "Sentiment: %{x}<br>Count: %{y}<br>Percentage: %{y/115*100:.1f}%<extra></extra>",
         "marker": {
          "color": [
           "#f39c12",
           "#58d68d",
           "#f1948a",
           "#e74c3c"
          ]
         },
         "name": "Enhanced Sentiment",
         "type": "bar",
         "x": [
          "neutral",
          "slightly_positive",
          "slightly_negative",
          "negative"
         ],
         "xaxis": "x",
         "y": {
          "bdata": "agYCAQ==",
          "dtype": "i1"
         },
         "yaxis": "y"
        },
        {
         "domain": {
          "x": [
           0.35555555555555557,
           0.6444444444444445
          ],
          "y": [
           0.7777777777777778,
           1
          ]
         },
         "hole": 0.3,
         "hovertemplate": "Topic: %{label}<br>Count: %{value}<br>Percentage: %{percent}<extra></extra>",
         "labels": [
          "general",
          "question",
          "personal",
          "technical",
          "news",
          "gaming",
          "discussion"
         ],
         "name": "Content Topics",
         "type": "pie",
         "values": [
          40,
          47,
          21,
          4,
          1,
          1,
          1
         ]
        },
        {
         "hovertemplate": "Words: %{x}<br>Characters: %{y}<br>Sentiment: %{marker.color:.3f}<extra></extra>",
         "marker": {
          "color": {
           "bdata": "AAAAAAAAAACSJEmSJEmyPwAAAAAAAAAA0LrBFPmsmz9yHMdxHMexvwAAAAAAAAAAAAAAAAAAAAAAAAAAAAAAAAAAAAAAAAAAAAAAAAAAAAB05QHJOld+vwAAAAAAAAAAAAAAAAAAAAAAAAAAAAAAAAAAAAAAAAAAAAAAAAAAAAAAAAAAAAAAAAAAAAAAAAAAAAAAAAAAAAAAAAAAAAAAAAAAAAAAAAAAAAAAAAAAAAAUO7ETO7GzP2e38KsxkZ4/AAAAAAAAAABGF1100UWnvzUngbhQc4I/AAAAAAAAAAAapEEapEGKPwAAAAAAAAAAAAAAAAAAAACjYFGwKFiUP1VVVVVVVaU/AAAAAAAAAAAAAAAAAAAAAB3UQR3UQZ0/VxCTK4jJlT8AAAAAAAAAAAAAAAAAAAAAnhLkKUGekj+gUeJnlPiJPzQsuFS2d32/AAAAAAAAAAAAAAAAAAAAAAAAAAAAAAAAHdRBHdRBnT8AAAAAAAAAAAAAAAAAAAAAAAAAAAAAAAAAAAAAAAAAAAAAAAAAAAAAAAAAAAAAAAAAAAAAAAAAAAAAAAAAAAAAAAAAAAAAAAAAAAAAAAAAAAAAAAAAAAAAAAAAAAAAAAAAAAAAAAAAAGG5pxGWe4o/AAAAAAAAAAAIBAKBQCCAPwAAAAAAAAAAHoq9quhYdD9M+OzBhM+OPwAAAAAAAAAAAAAAAAAAAAAAAAAAAAAAAAAAAAAAAAAAAAAAAAAAAACamZmZmZm5PwAAAAAAAAAAAAAAAAAAAAAAAAAAAAAAAAAAAAAAAAAAAAAAAAAAAAAAAAAAAAAAAAAAAAAAAAAAAAAAAAAAAAAAAAAAAAAAAAAAAAAAAAAAAAAAAAAAAAAAAAAAAAAAAAAAAAAAAAAAAAAAAAAAAAAAAAAAAAAAAAAAAAAAAAAAAAAAAAAAAAAAAAAAAAAAAAAAAAAAAAAAAAAAAAAAAAAAAAAAAAAAAAAAAAAAAAAAEhiBERiBgT8AAAAAAAAAAAAAAAAAAAAAAAAAAAAAAAAAAAAAAAAAAAAAAAAAAAAAAAAAAAAAwD8AAAAAAAAAAOAXbu2N1Y8/FDuxEzuxo78RERERERGxPwAAAAAAAAAAAAAAAAAAAABGF1100UW3PwAAAAAAAAAAAAAAAAAAAAARERERERHBvwAAAAAAANC/AAAAAAAAAAAAAAAAAAAAAAAAAAAAAAAAAAAAAAAAAAA=",
           "dtype": "f8"
          },
          "colorbar": {
           "title": {
            "text": "Sentiment Score"
           }
          },
          "colorscale": [
           [
            0,
            "rgb(165,0,38)"
           ],
           [
            0.1,
            "rgb(215,48,39)"
           ],
           [
            0.2,
            "rgb(244,109,67)"
           ],
           [
            0.3,
            "rgb(253,174,97)"
           ],
           [
            0.4,
            "rgb(254,224,139)"
           ],
           [
            0.5,
            "rgb(255,255,191)"
           ],
           [
            0.6,
            "rgb(217,239,139)"
           ],
           [
            0.7,
            "rgb(166,217,106)"
           ],
           [
            0.8,
            "rgb(102,189,99)"
           ],
           [
            0.9,
            "rgb(26,152,80)"
           ],
           [
            1,
            "rgb(0,104,55)"
           ]
          ],
          "opacity": 0.6,
          "size": 6
         },
         "mode": "markers",
         "name": "Text Complexity",
         "type": "scatter",
         "x": {
          "bdata": "DgAcAAoASgCQAEoANgAeACAAKAAOAQ4AAgAOABAAGAAaAAYAIAACAAwANgAaAIYA1AAsAN4ACgCcAAIACgAuATAANAAUAIwAXgBMAAgBSgFQBBYBIgA2ABAARgAiAAoAEAAiACQAIgAGAAwAGAAUABYAIAAYAtABSAD+AGYAngPiABQAHgCqABAAagAUACAAHgAaACoAQgAIAEAADAAaACQAAgAQABAAFgAKAE4AGgAUABgAJgAcAA4A6gAWABQAIgAOABQAEACiAIIBNAAeAB4AEAAWADgAZAAeABAAKgAOABQAIgA=",
          "dtype": "i2"
         },
         "xaxis": "x2",
         "y": {
          "bdata": "RwClADEAhQHLAncB+wCTAJkAxwDtBVcACQA5AE0AgwChABkAuQAHAEEAQwGnABMDLQVFAb8EJwAlAwkAOwAPB/MAHQFtAI0C3wGRASUGcwdlGc0FsQAVAXkAaQGnADcATQC9AMEAyQAZADUAUQBpAHMAkwDPC+sITwHpBeEB7Rp3BIMApQBtA2UA3wFxALkAmwCTANMAZwE1AE0BOwCpAOMADwBdAEkAhwBNAHkBsQBXAIsAxQCxAEMAuwVjAG8AvQBJAGkAQwDvA28ICQGDAKkAVwBlACsB7QGPAE0A2wBLAGsAxwA=",
          "dtype": "i2"
         },
         "yaxis": "y2"
        },
        {
         "hovertemplate": "Term: %{y}<br>Frequency: %{x}<br>Relative: %{x/115*100:.1f}%<extra></extra>",
         "marker": {
          "color": "#43e97b"
         },
         "name": "Key Terms",
         "orientation": "h",
         "type": "bar",
         "x": [
          82,
          46,
          36,
          26,
          26,
          22,
          22,
          20,
          20,
          18,
          18,
          18
         ],
         "xaxis": "x3",
         "y": [
          "what",
          "your",
          "about",
          "more",
          "paper",
          "data",
          "from",
          "tools",
          "change",
          "into",
          "while",
          "most"
         ],
         "yaxis": "y3"
        },
        {
         "hovertemplate": "Phrase: %{y}<br>Frequency: %{x}<extra></extra>",
         "marker": {
          "color": "#9b59b6"
         },
         "name": "Key Phrases",
         "orientation": "h",
         "type": "bar",
         "x": [
          18,
          12,
          6,
          6,
          6,
          6,
          6,
          6
         ],
         "xaxis": "x4",
         "y": [
          "what your",
          "change change",
          "deep learning",
          "position paper",
          "small business",
          "higher higher",
          "synthetic research",
          "small businesses"
         ],
         "yaxis": "y4"
        },
        {
         "hovertemplate": "Sentiment: %{x:.3f}<br>Engagement: %{y}<br>Words: %{marker.color}<extra></extra>",
         "marker": {
          "color": {
           "bdata": "DgAcAAoASgCQAEoANgAeACAAKAAOAQ4AAgAOABAAGAAaAAYAIAACAAwANgAaAIYA1AAsAN4ACgCcAAIACgAuATAANAAUAIwAXgBMAAgBSgFQBBYBIgA2ABAARgAiAAoAEAAiACQAIgAGAAwAGAAUABYAIAAYAtABSAD+AGYAngPiABQAHgCqABAAagAUACAAHgAaACoAQgAIAEAADAAaACQAAgAQABAAFgAKAE4AGgAUABgAJgAcAA4A6gAWABQAIgAOABQAEACiAIIBNAAeAB4AEAAWADgAZAAeABAAKgAOABQAIgA=",
           "dtype": "i2"
          },
          "colorbar": {
           "title": {
            "text": "Word Count"
           }
          },
          "colorscale": [
           [
            0,
            "#440154"
           ],
           [
            0.1111111111111111,
            "#482878"
           ],
           [
            0.2222222222222222,
            "#3e4989"
           ],
           [
            0.3333333333333333,
            "#31688e"
           ],
           [
            0.4444444444444444,
            "#26828e"
           ],
           [
            0.5555555555555556,
            "#1f9e89"
           ],
           [
            0.6666666666666666,
            "#35b779"
           ],
           [
            0.7777777777777778,
            "#6ece58"
           ],
           [
            0.8888888888888888,
            "#b5de2b"
           ],
           [
            1,
            "#fde725"
           ]
          ],
          "opacity": 0.7,
          "size": 8
         },
         "mode": "markers",
         "name": "Engagement Analysis",
         "type": "scatter",
         "x": {
          "bdata": "AAAAAAAAAACSJEmSJEmyPwAAAAAAAAAA0LrBFPmsmz9yHMdxHMexvwAAAAAAAAAAAAAAAAAAAAAAAAAAAAAAAAAAAAAAAAAAAAAAAAAAAAB05QHJOld+vwAAAAAAAAAAAAAAAAAAAAAAAAAAAAAAAAAAAAAAAAAAAAAAAAAAAAAAAAAAAAAAAAAAAAAAAAAAAAAAAAAAAAAAAAAAAAAAAAAAAAAAAAAAAAAAAAAAAAAUO7ETO7GzP2e38KsxkZ4/AAAAAAAAAABGF1100UWnvzUngbhQc4I/AAAAAAAAAAAapEEapEGKPwAAAAAAAAAAAAAAAAAAAACjYFGwKFiUP1VVVVVVVaU/AAAAAAAAAAAAAAAAAAAAAB3UQR3UQZ0/VxCTK4jJlT8AAAAAAAAAAAAAAAAAAAAAnhLkKUGekj+gUeJnlPiJPzQsuFS2d32/AAAAAAAAAAAAAAAAAAAAAAAAAAAAAAAAHdRBHdRBnT8AAAAAAAAAAAAAAAAAAAAAAAAAAAAAAAAAAAAAAAAAAAAAAAAAAAAAAAAAAAAAAAAAAAAAAAAAAAAAAAAAAAAAAAAAAAAAAAAAAAAAAAAAAAAAAAAAAAAAAAAAAAAAAAAAAAAAAAAAAGG5pxGWe4o/AAAAAAAAAAAIBAKBQCCAPwAAAAAAAAAAHoq9quhYdD9M+OzBhM+OPwAAAAAAAAAAAAAAAAAAAAAAAAAAAAAAAAAAAAAAAAAAAAAAAAAAAACamZmZmZm5PwAAAAAAAAAAAAAAAAAAAAAAAAAAAAAAAAAAAAAAAAAAAAAAAAAAAAAAAAAAAAAAAAAAAAAAAAAAAAAAAAAAAAAAAAAAAAAAAAAAAAAAAAAAAAAAAAAAAAAAAAAAAAAAAAAAAAAAAAAAAAAAAAAAAAAAAAAAAAAAAAAAAAAAAAAAAAAAAAAAAAAAAAAAAAAAAAAAAAAAAAAAAAAAAAAAAAAAAAAAAAAAAAAAAAAAAAAAEhiBERiBgT8AAAAAAAAAAAAAAAAAAAAAAAAAAAAAAAAAAAAAAAAAAAAAAAAAAAAAAAAAAAAAwD8AAAAAAAAAAOAXbu2N1Y8/FDuxEzuxo78RERERERGxPwAAAAAAAAAAAAAAAAAAAABGF1100UW3PwAAAAAAAAAAAAAAAAAAAAARERERERHBvwAAAAAAANC/AAAAAAAAAAAAAAAAAAAAAAAAAAAAAAAAAAAAAAAAAAA=",
          "dtype": "f8"
         },
         "xaxis": "x5",
         "y": {
          "bdata": "AAAAAAAA+H8AAAAAAAD4fwAAAAAAAPh/AAAAAAAA+H8AAAAAAAD4fwAAAAAAAPh/AAAAAAAA8D8AAAAAAADwPwAAAAAAAPA/AAAAAAAA8D8AAAAAAAD4fwAAAAAAAAAAAAAAAAAA+H8AAAAAAAAwQAAAAAAAAABAAAAAAAAAJkAAAAAAAAAYQAAAAAAAAPh/AAAAAAAAAEAAAAAAAAD4fwAAAAAAAPh/AAAAAAAA+H8AAAAAAAAoQAAAAAAAAPh/AAAAAAAANkAAAAAAAAD4fwAAAAAAwFZAAAAAAAAA+H8AAAAAAAD4fwAAAAAAAPh/AAAAAAAA+H8AAAAAAAAAAAAAAAAAAPh/AAAAAAAAAEAAAAAAAAD4fwAAAAAAAChAAAAAAAAAHEAAAAAAAAD4fwAAAAAAAPh/AAAAAAAA+H8AAAAAAABSQAAAAAAAACJAAAAAAAAA+H8AAAAAAAD4fwAAAAAAAPA/AAAAAAAA+H8AAAAAAADwPwAAAAAAAPA/AAAAAAAA8D8AAAAAAADwPwAAAAAAAPh/AAAAAAAA+H8AAAAAAAD4fwAAAAAAABRAAAAAAAAA8D8AAAAAAADwPwAAAAAAAPA/AAAAAAAANkAAAAAAAIBTQAAAAAAAAPh/AAAAAAAA+H8AAAAAAADwPwAAAAAAAPh/AAAAAAAAIkAAAAAAAAD4fwAAAAAAsJpAAAAAAAAA+H8AAAAAAAD4fwAAAAAAkHtAAAAAAAAA+H8AAAAAAAD4fwAAAAAAAABAAAAAAAAA8D8AAAAAAADwPwAAAAAAAPh/AAAAAAAA+H8AAAAAAAD4fwAAAAAAAPA/AAAAAAAA8D8AAAAAAADwPwAAAAAAAPA/AAAAAAAA+H8AAAAAAAD4fwAAAAAAAPh/AAAAAAAAKEAAAAAAAAD4fwAAAAAAAPh/AAAAAACAS0AAAAAAAAD4fwAAAAAAAPA/AAAAAAAACEAAAAAAAADwPwAAAAAAAPh/AAAAAAAA+H8AAAAAAADwPwAAAAAAAPA/AAAAAAAA+H8AAAAAAADwPwAAAAAAAPA/AAAAAAAA8D8AAAAAAADwPwAAAAAAAABAAAAAAAAA8D8AAAAAAADwPwAAAAAAAPA/AAAAAAAA+H8AAAAAAADwPwAAAAAAAPh/AAAAAAAA+H8AAAAAAADwPwAAAAAAAPA/AAAAAAAA+H8AAAAAAADwPwAAAAAAAPA/AAAAAAAA8D8=",
          "dtype": "f8"
         },
         "yaxis": "y5"
        },
        {
         "domain": {
          "x": [
           0,
           0.2888888888888889
          ],
          "y": [
           0,
           0.22222222222222224
          ]
         },
         "hole": 0.4,
         "labels": [
          "Statements",
          "Questions"
         ],
         "name": "Content Type",
         "type": "pie",
         "values": [
          65,
          50
         ]
        },
        {
         "hovertemplate": "Author: %{y}<br>Total Engagement: %{x}<extra></extra>",
         "marker": {
          "color": "#1abc9c"
         },
         "name": "Top Contributors",
         "orientation": "h",
         "type": "bar",
         "x": {
          "bdata": "AAAAAAAANkAAAAAAAAA3QAAAAAAAgEtAAAAAAAAAUkAAAAAAAIBTQAAAAAAAwFZAAAAAAACQe0AAAAAAALCaQA==",
          "dtype": "f8"
         },
         "xaxis": "x6",
         "y": [
          "AutoModerator",
          "Logical_Welder3467",
          "Aggravating_Money992",
          "GeorgeBird1",
          "Randomized0000",
          "corgibestie",
          "its-groit-craic",
          "Street_Anon"
         ],
         "yaxis": "y6"
        },
        {
         "hovertemplate": "Sentiment Range: %{x}<br>Count: %{y}<extra></extra>",
         "marker": {
          "color": "#e67e22"
         },
         "name": "Sentiment Intensity",
         "nbinsx": 30,
         "opacity": 0.7,
         "type": "histogram",
         "x": {
          "bdata": "AAAAAAAAAACSJEmSJEmyPwAAAAAAAAAA0LrBFPmsmz9yHMdxHMexvwAAAAAAAAAAAAAAAAAAAAAAAAAAAAAAAAAAAAAAAAAAAAAAAAAAAAB05QHJOld+vwAAAAAAAAAAAAAAAAAAAAAAAAAAAAAAAAAAAAAAAAAAAAAAAAAAAAAAAAAAAAAAAAAAAAAAAAAAAAAAAAAAAAAAAAAAAAAAAAAAAAAAAAAAAAAAAAAAAAAUO7ETO7GzP2e38KsxkZ4/AAAAAAAAAABGF1100UWnvzUngbhQc4I/AAAAAAAAAAAapEEapEGKPwAAAAAAAAAAAAAAAAAAAACjYFGwKFiUP1VVVVVVVaU/AAAAAAAAAAAAAAAAAAAAAB3UQR3UQZ0/VxCTK4jJlT8AAAAAAAAAAAAAAAAAAAAAnhLkKUGekj+gUeJnlPiJPzQsuFS2d32/AAAAAAAAAAAAAAAAAAAAAAAAAAAAAAAAHdRBHdRBnT8AAAAAAAAAAAAAAAAAAAAAAAAAAAAAAAAAAAAAAAAAAAAAAAAAAAAAAAAAAAAAAAAAAAAAAAAAAAAAAAAAAAAAAAAAAAAAAAAAAAAAAAAAAAAAAAAAAAAAAAAAAAAAAAAAAAAAAAAAAGG5pxGWe4o/AAAAAAAAAAAIBAKBQCCAPwAAAAAAAAAAHoq9quhYdD9M+OzBhM+OPwAAAAAAAAAAAAAAAAAAAAAAAAAAAAAAAAAAAAAAAAAAAAAAAAAAAACamZmZmZm5PwAAAAAAAAAAAAAAAAAAAAAAAAAAAAAAAAAAAAAAAAAAAAAAAAAAAAAAAAAAAAAAAAAAAAAAAAAAAAAAAAAAAAAAAAAAAAAAAAAAAAAAAAAAAAAAAAAAAAAAAAAAAAAAAAAAAAAAAAAAAAAAAAAAAAAAAAAAAAAAAAAAAAAAAAAAAAAAAAAAAAAAAAAAAAAAAAAAAAAAAAAAAAAAAAAAAAAAAAAAAAAAAAAAAAAAAAAAEhiBERiBgT8AAAAAAAAAAAAAAAAAAAAAAAAAAAAAAAAAAAAAAAAAAAAAAAAAAAAAAAAAAAAAwD8AAAAAAAAAAOAXbu2N1Y8/FDuxEzuxo78RERERERGxPwAAAAAAAAAAAAAAAAAAAABGF1100UW3PwAAAAAAAAAAAAAAAAAAAAARERERERHBvwAAAAAAANC/AAAAAAAAAAAAAAAAAAAAAAAAAAAAAAAAAAAAAAAAAAA=",
          "dtype": "f8"
         },
         "xaxis": "x7",
         "yaxis": "y7"
        }
       ],
       "layout": {
        "annotations": [
         {
          "font": {
           "size": 16
          },
          "showarrow": false,
          "text": "📊 Enhanced Sentiment Distribution",
          "x": 0.14444444444444446,
          "xanchor": "center",
          "xref": "paper",
          "y": 1,
          "yanchor": "bottom",
          "yref": "paper"
         },
         {
          "font": {
           "size": 16
          },
          "showarrow": false,
          "text": "🎯 Content Topics",
          "x": 0.5,
          "xanchor": "center",
          "xref": "paper",
          "y": 1,
          "yanchor": "bottom",
          "yref": "paper"
         },
         {
          "font": {
           "size": 16
          },
          "showarrow": false,
          "text": "📝 Text Complexity",
          "x": 0.8555555555555556,
          "xanchor": "center",
          "xref": "paper",
          "y": 1,
          "yanchor": "bottom",
          "yref": "paper"
         },
         {
          "font": {
           "size": 16
          },
          "showarrow": false,
          "text": "🔤 Most Discussed Terms",
          "x": 0.14444444444444446,
          "xanchor": "center",
          "xref": "paper",
          "y": 0.6111111111111112,
          "yanchor": "bottom",
          "yref": "paper"
         },
         {
          "font": {
           "size": 16
          },
          "showarrow": false,
          "text": "🔍 Popular Phrases",
          "x": 0.5,
          "xanchor": "center",
          "xref": "paper",
          "y": 0.6111111111111112,
          "yanchor": "bottom",
          "yref": "paper"
         },
         {
          "font": {
           "size": 16
          },
          "showarrow": false,
          "text": "📈 Engagement vs Sentiment",
          "x": 0.8555555555555556,
          "xanchor": "center",
          "xref": "paper",
          "y": 0.6111111111111112,
          "yanchor": "bottom",
          "yref": "paper"
         },
         {
          "font": {
           "size": 16
          },
          "showarrow": false,
          "text": "💬 Question vs Statement Ratio",
          "x": 0.14444444444444446,
          "xanchor": "center",
          "xref": "paper",
          "y": 0.22222222222222224,
          "yanchor": "bottom",
          "yref": "paper"
         },
         {
          "font": {
           "size": 16
          },
          "showarrow": false,
          "text": "📚 Author Contribution",
          "x": 0.5,
          "xanchor": "center",
          "xref": "paper",
          "y": 0.22222222222222224,
          "yanchor": "bottom",
          "yref": "paper"
         },
         {
          "font": {
           "size": 16
          },
          "showarrow": false,
          "text": "⚖️ Sentiment Intensity Scale",
          "x": 0.8555555555555556,
          "xanchor": "center",
          "xref": "paper",
          "y": 0.22222222222222224,
          "yanchor": "bottom",
          "yref": "paper"
         }
        ],
        "font": {
         "size": 11
        },
        "height": 1400,
        "showlegend": true,
        "template": {
         "data": {
          "bar": [
           {
            "error_x": {
             "color": "#2a3f5f"
            },
            "error_y": {
             "color": "#2a3f5f"
            },
            "marker": {
             "line": {
              "color": "white",
              "width": 0.5
             },
             "pattern": {
              "fillmode": "overlay",
              "size": 10,
              "solidity": 0.2
             }
            },
            "type": "bar"
           }
          ],
          "barpolar": [
           {
            "marker": {
             "line": {
              "color": "white",
              "width": 0.5
             },
             "pattern": {
              "fillmode": "overlay",
              "size": 10,
              "solidity": 0.2
             }
            },
            "type": "barpolar"
           }
          ],
          "carpet": [
           {
            "aaxis": {
             "endlinecolor": "#2a3f5f",
             "gridcolor": "#C8D4E3",
             "linecolor": "#C8D4E3",
             "minorgridcolor": "#C8D4E3",
             "startlinecolor": "#2a3f5f"
            },
            "baxis": {
             "endlinecolor": "#2a3f5f",
             "gridcolor": "#C8D4E3",
             "linecolor": "#C8D4E3",
             "minorgridcolor": "#C8D4E3",
             "startlinecolor": "#2a3f5f"
            },
            "type": "carpet"
           }
          ],
          "choropleth": [
           {
            "colorbar": {
             "outlinewidth": 0,
             "ticks": ""
            },
            "type": "choropleth"
           }
          ],
          "contour": [
           {
            "colorbar": {
             "outlinewidth": 0,
             "ticks": ""
            },
            "colorscale": [
             [
              0,
              "#0d0887"
             ],
             [
              0.1111111111111111,
              "#46039f"
             ],
             [
              0.2222222222222222,
              "#7201a8"
             ],
             [
              0.3333333333333333,
              "#9c179e"
             ],
             [
              0.4444444444444444,
              "#bd3786"
             ],
             [
              0.5555555555555556,
              "#d8576b"
             ],
             [
              0.6666666666666666,
              "#ed7953"
             ],
             [
              0.7777777777777778,
              "#fb9f3a"
             ],
             [
              0.8888888888888888,
              "#fdca26"
             ],
             [
              1,
              "#f0f921"
             ]
            ],
            "type": "contour"
           }
          ],
          "contourcarpet": [
           {
            "colorbar": {
             "outlinewidth": 0,
             "ticks": ""
            },
            "type": "contourcarpet"
           }
          ],
          "heatmap": [
           {
            "colorbar": {
             "outlinewidth": 0,
             "ticks": ""
            },
            "colorscale": [
             [
              0,
              "#0d0887"
             ],
             [
              0.1111111111111111,
              "#46039f"
             ],
             [
              0.2222222222222222,
              "#7201a8"
             ],
             [
              0.3333333333333333,
              "#9c179e"
             ],
             [
              0.4444444444444444,
              "#bd3786"
             ],
             [
              0.5555555555555556,
              "#d8576b"
             ],
             [
              0.6666666666666666,
              "#ed7953"
             ],
             [
              0.7777777777777778,
              "#fb9f3a"
             ],
             [
              0.8888888888888888,
              "#fdca26"
             ],
             [
              1,
              "#f0f921"
             ]
            ],
            "type": "heatmap"
           }
          ],
          "histogram": [
           {
            "marker": {
             "pattern": {
              "fillmode": "overlay",
              "size": 10,
              "solidity": 0.2
             }
            },
            "type": "histogram"
           }
          ],
          "histogram2d": [
           {
            "colorbar": {
             "outlinewidth": 0,
             "ticks": ""
            },
            "colorscale": [
             [
              0,
              "#0d0887"
             ],
             [
              0.1111111111111111,
              "#46039f"
             ],
             [
              0.2222222222222222,
              "#7201a8"
             ],
             [
              0.3333333333333333,
              "#9c179e"
             ],
             [
              0.4444444444444444,
              "#bd3786"
             ],
             [
              0.5555555555555556,
              "#d8576b"
             ],
             [
              0.6666666666666666,
              "#ed7953"
             ],
             [
              0.7777777777777778,
              "#fb9f3a"
             ],
             [
              0.8888888888888888,
              "#fdca26"
             ],
             [
              1,
              "#f0f921"
             ]
            ],
            "type": "histogram2d"
           }
          ],
          "histogram2dcontour": [
           {
            "colorbar": {
             "outlinewidth": 0,
             "ticks": ""
            },
            "colorscale": [
             [
              0,
              "#0d0887"
             ],
             [
              0.1111111111111111,
              "#46039f"
             ],
             [
              0.2222222222222222,
              "#7201a8"
             ],
             [
              0.3333333333333333,
              "#9c179e"
             ],
             [
              0.4444444444444444,
              "#bd3786"
             ],
             [
              0.5555555555555556,
              "#d8576b"
             ],
             [
              0.6666666666666666,
              "#ed7953"
             ],
             [
              0.7777777777777778,
              "#fb9f3a"
             ],
             [
              0.8888888888888888,
              "#fdca26"
             ],
             [
              1,
              "#f0f921"
             ]
            ],
            "type": "histogram2dcontour"
           }
          ],
          "mesh3d": [
           {
            "colorbar": {
             "outlinewidth": 0,
             "ticks": ""
            },
            "type": "mesh3d"
           }
          ],
          "parcoords": [
           {
            "line": {
             "colorbar": {
              "outlinewidth": 0,
              "ticks": ""
             }
            },
            "type": "parcoords"
           }
          ],
          "pie": [
           {
            "automargin": true,
            "type": "pie"
           }
          ],
          "scatter": [
           {
            "fillpattern": {
             "fillmode": "overlay",
             "size": 10,
             "solidity": 0.2
            },
            "type": "scatter"
           }
          ],
          "scatter3d": [
           {
            "line": {
             "colorbar": {
              "outlinewidth": 0,
              "ticks": ""
             }
            },
            "marker": {
             "colorbar": {
              "outlinewidth": 0,
              "ticks": ""
             }
            },
            "type": "scatter3d"
           }
          ],
          "scattercarpet": [
           {
            "marker": {
             "colorbar": {
              "outlinewidth": 0,
              "ticks": ""
             }
            },
            "type": "scattercarpet"
           }
          ],
          "scattergeo": [
           {
            "marker": {
             "colorbar": {
              "outlinewidth": 0,
              "ticks": ""
             }
            },
            "type": "scattergeo"
           }
          ],
          "scattergl": [
           {
            "marker": {
             "colorbar": {
              "outlinewidth": 0,
              "ticks": ""
             }
            },
            "type": "scattergl"
           }
          ],
          "scattermap": [
           {
            "marker": {
             "colorbar": {
              "outlinewidth": 0,
              "ticks": ""
             }
            },
            "type": "scattermap"
           }
          ],
          "scattermapbox": [
           {
            "marker": {
             "colorbar": {
              "outlinewidth": 0,
              "ticks": ""
             }
            },
            "type": "scattermapbox"
           }
          ],
          "scatterpolar": [
           {
            "marker": {
             "colorbar": {
              "outlinewidth": 0,
              "ticks": ""
             }
            },
            "type": "scatterpolar"
           }
          ],
          "scatterpolargl": [
           {
            "marker": {
             "colorbar": {
              "outlinewidth": 0,
              "ticks": ""
             }
            },
            "type": "scatterpolargl"
           }
          ],
          "scatterternary": [
           {
            "marker": {
             "colorbar": {
              "outlinewidth": 0,
              "ticks": ""
             }
            },
            "type": "scatterternary"
           }
          ],
          "surface": [
           {
            "colorbar": {
             "outlinewidth": 0,
             "ticks": ""
            },
            "colorscale": [
             [
              0,
              "#0d0887"
             ],
             [
              0.1111111111111111,
              "#46039f"
             ],
             [
              0.2222222222222222,
              "#7201a8"
             ],
             [
              0.3333333333333333,
              "#9c179e"
             ],
             [
              0.4444444444444444,
              "#bd3786"
             ],
             [
              0.5555555555555556,
              "#d8576b"
             ],
             [
              0.6666666666666666,
              "#ed7953"
             ],
             [
              0.7777777777777778,
              "#fb9f3a"
             ],
             [
              0.8888888888888888,
              "#fdca26"
             ],
             [
              1,
              "#f0f921"
             ]
            ],
            "type": "surface"
           }
          ],
          "table": [
           {
            "cells": {
             "fill": {
              "color": "#EBF0F8"
             },
             "line": {
              "color": "white"
             }
            },
            "header": {
             "fill": {
              "color": "#C8D4E3"
             },
             "line": {
              "color": "white"
             }
            },
            "type": "table"
           }
          ]
         },
         "layout": {
          "annotationdefaults": {
           "arrowcolor": "#2a3f5f",
           "arrowhead": 0,
           "arrowwidth": 1
          },
          "autotypenumbers": "strict",
          "coloraxis": {
           "colorbar": {
            "outlinewidth": 0,
            "ticks": ""
           }
          },
          "colorscale": {
           "diverging": [
            [
             0,
             "#8e0152"
            ],
            [
             0.1,
             "#c51b7d"
            ],
            [
             0.2,
             "#de77ae"
            ],
            [
             0.3,
             "#f1b6da"
            ],
            [
             0.4,
             "#fde0ef"
            ],
            [
             0.5,
             "#f7f7f7"
            ],
            [
             0.6,
             "#e6f5d0"
            ],
            [
             0.7,
             "#b8e186"
            ],
            [
             0.8,
             "#7fbc41"
            ],
            [
             0.9,
             "#4d9221"
            ],
            [
             1,
             "#276419"
            ]
           ],
           "sequential": [
            [
             0,
             "#0d0887"
            ],
            [
             0.1111111111111111,
             "#46039f"
            ],
            [
             0.2222222222222222,
             "#7201a8"
            ],
            [
             0.3333333333333333,
             "#9c179e"
            ],
            [
             0.4444444444444444,
             "#bd3786"
            ],
            [
             0.5555555555555556,
             "#d8576b"
            ],
            [
             0.6666666666666666,
             "#ed7953"
            ],
            [
             0.7777777777777778,
             "#fb9f3a"
            ],
            [
             0.8888888888888888,
             "#fdca26"
            ],
            [
             1,
             "#f0f921"
            ]
           ],
           "sequentialminus": [
            [
             0,
             "#0d0887"
            ],
            [
             0.1111111111111111,
             "#46039f"
            ],
            [
             0.2222222222222222,
             "#7201a8"
            ],
            [
             0.3333333333333333,
             "#9c179e"
            ],
            [
             0.4444444444444444,
             "#bd3786"
            ],
            [
             0.5555555555555556,
             "#d8576b"
            ],
            [
             0.6666666666666666,
             "#ed7953"
            ],
            [
             0.7777777777777778,
             "#fb9f3a"
            ],
            [
             0.8888888888888888,
             "#fdca26"
            ],
            [
             1,
             "#f0f921"
            ]
           ]
          },
          "colorway": [
           "#636efa",
           "#EF553B",
           "#00cc96",
           "#ab63fa",
           "#FFA15A",
           "#19d3f3",
           "#FF6692",
           "#B6E880",
           "#FF97FF",
           "#FECB52"
          ],
          "font": {
           "color": "#2a3f5f"
          },
          "geo": {
           "bgcolor": "white",
           "lakecolor": "white",
           "landcolor": "white",
           "showlakes": true,
           "showland": true,
           "subunitcolor": "#C8D4E3"
          },
          "hoverlabel": {
           "align": "left"
          },
          "hovermode": "closest",
          "mapbox": {
           "style": "light"
          },
          "paper_bgcolor": "white",
          "plot_bgcolor": "white",
          "polar": {
           "angularaxis": {
            "gridcolor": "#EBF0F8",
            "linecolor": "#EBF0F8",
            "ticks": ""
           },
           "bgcolor": "white",
           "radialaxis": {
            "gridcolor": "#EBF0F8",
            "linecolor": "#EBF0F8",
            "ticks": ""
           }
          },
          "scene": {
           "xaxis": {
            "backgroundcolor": "white",
            "gridcolor": "#DFE8F3",
            "gridwidth": 2,
            "linecolor": "#EBF0F8",
            "showbackground": true,
            "ticks": "",
            "zerolinecolor": "#EBF0F8"
           },
           "yaxis": {
            "backgroundcolor": "white",
            "gridcolor": "#DFE8F3",
            "gridwidth": 2,
            "linecolor": "#EBF0F8",
            "showbackground": true,
            "ticks": "",
            "zerolinecolor": "#EBF0F8"
           },
           "zaxis": {
            "backgroundcolor": "white",
            "gridcolor": "#DFE8F3",
            "gridwidth": 2,
            "linecolor": "#EBF0F8",
            "showbackground": true,
            "ticks": "",
            "zerolinecolor": "#EBF0F8"
           }
          },
          "shapedefaults": {
           "line": {
            "color": "#2a3f5f"
           }
          },
          "ternary": {
           "aaxis": {
            "gridcolor": "#DFE8F3",
            "linecolor": "#A2B1C6",
            "ticks": ""
           },
           "baxis": {
            "gridcolor": "#DFE8F3",
            "linecolor": "#A2B1C6",
            "ticks": ""
           },
           "bgcolor": "white",
           "caxis": {
            "gridcolor": "#DFE8F3",
            "linecolor": "#A2B1C6",
            "ticks": ""
           }
          },
          "title": {
           "x": 0.05
          },
          "xaxis": {
           "automargin": true,
           "gridcolor": "#EBF0F8",
           "linecolor": "#EBF0F8",
           "ticks": "",
           "title": {
            "standoff": 15
           },
           "zerolinecolor": "#EBF0F8",
           "zerolinewidth": 2
          },
          "yaxis": {
           "automargin": true,
           "gridcolor": "#EBF0F8",
           "linecolor": "#EBF0F8",
           "ticks": "",
           "title": {
            "standoff": 15
           },
           "zerolinecolor": "#EBF0F8",
           "zerolinewidth": 2
          }
         }
        },
        "title": {
         "font": {
          "size": 24
         },
         "text": "🧠 Enhanced Text Analytics Dashboard",
         "x": 0.5
        },
        "xaxis": {
         "anchor": "y",
         "domain": [
          0,
          0.2888888888888889
         ]
        },
        "xaxis2": {
         "anchor": "y2",
         "domain": [
          0.7111111111111111,
          1
         ]
        },
        "xaxis3": {
         "anchor": "y3",
         "domain": [
          0,
          0.2888888888888889
         ]
        },
        "xaxis4": {
         "anchor": "y4",
         "domain": [
          0.35555555555555557,
          0.6444444444444445
         ]
        },
        "xaxis5": {
         "anchor": "y5",
         "domain": [
          0.7111111111111111,
          1
         ]
        },
        "xaxis6": {
         "anchor": "y6",
         "domain": [
          0.35555555555555557,
          0.6444444444444445
         ]
        },
        "xaxis7": {
         "anchor": "y7",
         "domain": [
          0.7111111111111111,
          1
         ]
        },
        "yaxis": {
         "anchor": "x",
         "domain": [
          0.7777777777777778,
          1
         ]
        },
        "yaxis2": {
         "anchor": "x2",
         "domain": [
          0.7777777777777778,
          1
         ]
        },
        "yaxis3": {
         "anchor": "x3",
         "domain": [
          0.3888888888888889,
          0.6111111111111112
         ]
        },
        "yaxis4": {
         "anchor": "x4",
         "domain": [
          0.3888888888888889,
          0.6111111111111112
         ]
        },
        "yaxis5": {
         "anchor": "x5",
         "domain": [
          0.3888888888888889,
          0.6111111111111112
         ]
        },
        "yaxis6": {
         "anchor": "x6",
         "domain": [
          0,
          0.22222222222222224
         ]
        },
        "yaxis7": {
         "anchor": "x7",
         "domain": [
          0,
          0.22222222222222224
         ]
        }
       }
      },
      "text/html": [
       "<div>            <script src=\"https://cdnjs.cloudflare.com/ajax/libs/mathjax/2.7.5/MathJax.js?config=TeX-AMS-MML_SVG\"></script><script type=\"text/javascript\">if (window.MathJax && window.MathJax.Hub && window.MathJax.Hub.Config) {window.MathJax.Hub.Config({SVG: {font: \"STIX-Web\"}});}</script>                <script type=\"text/javascript\">window.PlotlyConfig = {MathJaxConfig: 'local'};</script>\n",
       "        <script charset=\"utf-8\" src=\"https://cdn.plot.ly/plotly-3.0.1.min.js\"></script>                <div id=\"747fb7dc-d1da-4aec-bc3b-8b3d793dbc20\" class=\"plotly-graph-div\" style=\"height:1400px; width:100%;\"></div>            <script type=\"text/javascript\">                window.PLOTLYENV=window.PLOTLYENV || {};                                if (document.getElementById(\"747fb7dc-d1da-4aec-bc3b-8b3d793dbc20\")) {                    Plotly.newPlot(                        \"747fb7dc-d1da-4aec-bc3b-8b3d793dbc20\",                        [{\"hovertemplate\":\"Sentiment: %{x}\\u003cbr\\u003eCount: %{y}\\u003cbr\\u003ePercentage: %{y\\u002f115*100:.1f}%\\u003cextra\\u003e\\u003c\\u002fextra\\u003e\",\"marker\":{\"color\":[\"#f39c12\",\"#58d68d\",\"#f1948a\",\"#e74c3c\"]},\"name\":\"Enhanced Sentiment\",\"x\":[\"neutral\",\"slightly_positive\",\"slightly_negative\",\"negative\"],\"y\":{\"dtype\":\"i1\",\"bdata\":\"agYCAQ==\"},\"type\":\"bar\",\"xaxis\":\"x\",\"yaxis\":\"y\"},{\"hole\":0.3,\"hovertemplate\":\"Topic: %{label}\\u003cbr\\u003eCount: %{value}\\u003cbr\\u003ePercentage: %{percent}\\u003cextra\\u003e\\u003c\\u002fextra\\u003e\",\"labels\":[\"general\",\"question\",\"personal\",\"technical\",\"news\",\"gaming\",\"discussion\"],\"name\":\"Content Topics\",\"values\":[40,47,21,4,1,1,1],\"type\":\"pie\",\"domain\":{\"x\":[0.35555555555555557,0.6444444444444445],\"y\":[0.7777777777777778,1.0]}},{\"hovertemplate\":\"Words: %{x}\\u003cbr\\u003eCharacters: %{y}\\u003cbr\\u003eSentiment: %{marker.color:.3f}\\u003cextra\\u003e\\u003c\\u002fextra\\u003e\",\"marker\":{\"color\":{\"dtype\":\"f8\",\"bdata\":\"AAAAAAAAAACSJEmSJEmyPwAAAAAAAAAA0LrBFPmsmz9yHMdxHMexvwAAAAAAAAAAAAAAAAAAAAAAAAAAAAAAAAAAAAAAAAAAAAAAAAAAAAB05QHJOld+vwAAAAAAAAAAAAAAAAAAAAAAAAAAAAAAAAAAAAAAAAAAAAAAAAAAAAAAAAAAAAAAAAAAAAAAAAAAAAAAAAAAAAAAAAAAAAAAAAAAAAAAAAAAAAAAAAAAAAAUO7ETO7GzP2e38KsxkZ4\\u002fAAAAAAAAAABGF1100UWnvzUngbhQc4I\\u002fAAAAAAAAAAAapEEapEGKPwAAAAAAAAAAAAAAAAAAAACjYFGwKFiUP1VVVVVVVaU\\u002fAAAAAAAAAAAAAAAAAAAAAB3UQR3UQZ0\\u002fVxCTK4jJlT8AAAAAAAAAAAAAAAAAAAAAnhLkKUGekj+gUeJnlPiJPzQsuFS2d32\\u002fAAAAAAAAAAAAAAAAAAAAAAAAAAAAAAAAHdRBHdRBnT8AAAAAAAAAAAAAAAAAAAAAAAAAAAAAAAAAAAAAAAAAAAAAAAAAAAAAAAAAAAAAAAAAAAAAAAAAAAAAAAAAAAAAAAAAAAAAAAAAAAAAAAAAAAAAAAAAAAAAAAAAAAAAAAAAAAAAAAAAAGG5pxGWe4o\\u002fAAAAAAAAAAAIBAKBQCCAPwAAAAAAAAAAHoq9quhYdD9M+OzBhM+OPwAAAAAAAAAAAAAAAAAAAAAAAAAAAAAAAAAAAAAAAAAAAAAAAAAAAACamZmZmZm5PwAAAAAAAAAAAAAAAAAAAAAAAAAAAAAAAAAAAAAAAAAAAAAAAAAAAAAAAAAAAAAAAAAAAAAAAAAAAAAAAAAAAAAAAAAAAAAAAAAAAAAAAAAAAAAAAAAAAAAAAAAAAAAAAAAAAAAAAAAAAAAAAAAAAAAAAAAAAAAAAAAAAAAAAAAAAAAAAAAAAAAAAAAAAAAAAAAAAAAAAAAAAAAAAAAAAAAAAAAAAAAAAAAAAAAAAAAAEhiBERiBgT8AAAAAAAAAAAAAAAAAAAAAAAAAAAAAAAAAAAAAAAAAAAAAAAAAAAAAAAAAAAAAwD8AAAAAAAAAAOAXbu2N1Y8\\u002fFDuxEzuxo78RERERERGxPwAAAAAAAAAAAAAAAAAAAABGF1100UW3PwAAAAAAAAAAAAAAAAAAAAARERERERHBvwAAAAAAANC\\u002fAAAAAAAAAAAAAAAAAAAAAAAAAAAAAAAAAAAAAAAAAAA=\"},\"colorbar\":{\"title\":{\"text\":\"Sentiment Score\"}},\"colorscale\":[[0.0,\"rgb(165,0,38)\"],[0.1,\"rgb(215,48,39)\"],[0.2,\"rgb(244,109,67)\"],[0.3,\"rgb(253,174,97)\"],[0.4,\"rgb(254,224,139)\"],[0.5,\"rgb(255,255,191)\"],[0.6,\"rgb(217,239,139)\"],[0.7,\"rgb(166,217,106)\"],[0.8,\"rgb(102,189,99)\"],[0.9,\"rgb(26,152,80)\"],[1.0,\"rgb(0,104,55)\"]],\"opacity\":0.6,\"size\":6},\"mode\":\"markers\",\"name\":\"Text Complexity\",\"x\":{\"dtype\":\"i2\",\"bdata\":\"DgAcAAoASgCQAEoANgAeACAAKAAOAQ4AAgAOABAAGAAaAAYAIAACAAwANgAaAIYA1AAsAN4ACgCcAAIACgAuATAANAAUAIwAXgBMAAgBSgFQBBYBIgA2ABAARgAiAAoAEAAiACQAIgAGAAwAGAAUABYAIAAYAtABSAD+AGYAngPiABQAHgCqABAAagAUACAAHgAaACoAQgAIAEAADAAaACQAAgAQABAAFgAKAE4AGgAUABgAJgAcAA4A6gAWABQAIgAOABQAEACiAIIBNAAeAB4AEAAWADgAZAAeABAAKgAOABQAIgA=\"},\"y\":{\"dtype\":\"i2\",\"bdata\":\"RwClADEAhQHLAncB+wCTAJkAxwDtBVcACQA5AE0AgwChABkAuQAHAEEAQwGnABMDLQVFAb8EJwAlAwkAOwAPB\\u002fMAHQFtAI0C3wGRASUGcwdlGc0FsQAVAXkAaQGnADcATQC9AMEAyQAZADUAUQBpAHMAkwDPC+sITwHpBeEB7Rp3BIMApQBtA2UA3wFxALkAmwCTANMAZwE1AE0BOwCpAOMADwBdAEkAhwBNAHkBsQBXAIsAxQCxAEMAuwVjAG8AvQBJAGkAQwDvA28ICQGDAKkAVwBlACsB7QGPAE0A2wBLAGsAxwA=\"},\"type\":\"scatter\",\"xaxis\":\"x2\",\"yaxis\":\"y2\"},{\"hovertemplate\":\"Term: %{y}\\u003cbr\\u003eFrequency: %{x}\\u003cbr\\u003eRelative: %{x\\u002f115*100:.1f}%\\u003cextra\\u003e\\u003c\\u002fextra\\u003e\",\"marker\":{\"color\":\"#43e97b\"},\"name\":\"Key Terms\",\"orientation\":\"h\",\"x\":[82,46,36,26,26,22,22,20,20,18,18,18],\"y\":[\"what\",\"your\",\"about\",\"more\",\"paper\",\"data\",\"from\",\"tools\",\"change\",\"into\",\"while\",\"most\"],\"type\":\"bar\",\"xaxis\":\"x3\",\"yaxis\":\"y3\"},{\"hovertemplate\":\"Phrase: %{y}\\u003cbr\\u003eFrequency: %{x}\\u003cextra\\u003e\\u003c\\u002fextra\\u003e\",\"marker\":{\"color\":\"#9b59b6\"},\"name\":\"Key Phrases\",\"orientation\":\"h\",\"x\":[18,12,6,6,6,6,6,6],\"y\":[\"what your\",\"change change\",\"deep learning\",\"position paper\",\"small business\",\"higher higher\",\"synthetic research\",\"small businesses\"],\"type\":\"bar\",\"xaxis\":\"x4\",\"yaxis\":\"y4\"},{\"hovertemplate\":\"Sentiment: %{x:.3f}\\u003cbr\\u003eEngagement: %{y}\\u003cbr\\u003eWords: %{marker.color}\\u003cextra\\u003e\\u003c\\u002fextra\\u003e\",\"marker\":{\"color\":{\"dtype\":\"i2\",\"bdata\":\"DgAcAAoASgCQAEoANgAeACAAKAAOAQ4AAgAOABAAGAAaAAYAIAACAAwANgAaAIYA1AAsAN4ACgCcAAIACgAuATAANAAUAIwAXgBMAAgBSgFQBBYBIgA2ABAARgAiAAoAEAAiACQAIgAGAAwAGAAUABYAIAAYAtABSAD+AGYAngPiABQAHgCqABAAagAUACAAHgAaACoAQgAIAEAADAAaACQAAgAQABAAFgAKAE4AGgAUABgAJgAcAA4A6gAWABQAIgAOABQAEACiAIIBNAAeAB4AEAAWADgAZAAeABAAKgAOABQAIgA=\"},\"colorbar\":{\"title\":{\"text\":\"Word Count\"}},\"colorscale\":[[0.0,\"#440154\"],[0.1111111111111111,\"#482878\"],[0.2222222222222222,\"#3e4989\"],[0.3333333333333333,\"#31688e\"],[0.4444444444444444,\"#26828e\"],[0.5555555555555556,\"#1f9e89\"],[0.6666666666666666,\"#35b779\"],[0.7777777777777778,\"#6ece58\"],[0.8888888888888888,\"#b5de2b\"],[1.0,\"#fde725\"]],\"opacity\":0.7,\"size\":8},\"mode\":\"markers\",\"name\":\"Engagement Analysis\",\"x\":{\"dtype\":\"f8\",\"bdata\":\"AAAAAAAAAACSJEmSJEmyPwAAAAAAAAAA0LrBFPmsmz9yHMdxHMexvwAAAAAAAAAAAAAAAAAAAAAAAAAAAAAAAAAAAAAAAAAAAAAAAAAAAAB05QHJOld+vwAAAAAAAAAAAAAAAAAAAAAAAAAAAAAAAAAAAAAAAAAAAAAAAAAAAAAAAAAAAAAAAAAAAAAAAAAAAAAAAAAAAAAAAAAAAAAAAAAAAAAAAAAAAAAAAAAAAAAUO7ETO7GzP2e38KsxkZ4\\u002fAAAAAAAAAABGF1100UWnvzUngbhQc4I\\u002fAAAAAAAAAAAapEEapEGKPwAAAAAAAAAAAAAAAAAAAACjYFGwKFiUP1VVVVVVVaU\\u002fAAAAAAAAAAAAAAAAAAAAAB3UQR3UQZ0\\u002fVxCTK4jJlT8AAAAAAAAAAAAAAAAAAAAAnhLkKUGekj+gUeJnlPiJPzQsuFS2d32\\u002fAAAAAAAAAAAAAAAAAAAAAAAAAAAAAAAAHdRBHdRBnT8AAAAAAAAAAAAAAAAAAAAAAAAAAAAAAAAAAAAAAAAAAAAAAAAAAAAAAAAAAAAAAAAAAAAAAAAAAAAAAAAAAAAAAAAAAAAAAAAAAAAAAAAAAAAAAAAAAAAAAAAAAAAAAAAAAAAAAAAAAGG5pxGWe4o\\u002fAAAAAAAAAAAIBAKBQCCAPwAAAAAAAAAAHoq9quhYdD9M+OzBhM+OPwAAAAAAAAAAAAAAAAAAAAAAAAAAAAAAAAAAAAAAAAAAAAAAAAAAAACamZmZmZm5PwAAAAAAAAAAAAAAAAAAAAAAAAAAAAAAAAAAAAAAAAAAAAAAAAAAAAAAAAAAAAAAAAAAAAAAAAAAAAAAAAAAAAAAAAAAAAAAAAAAAAAAAAAAAAAAAAAAAAAAAAAAAAAAAAAAAAAAAAAAAAAAAAAAAAAAAAAAAAAAAAAAAAAAAAAAAAAAAAAAAAAAAAAAAAAAAAAAAAAAAAAAAAAAAAAAAAAAAAAAAAAAAAAAAAAAAAAAEhiBERiBgT8AAAAAAAAAAAAAAAAAAAAAAAAAAAAAAAAAAAAAAAAAAAAAAAAAAAAAAAAAAAAAwD8AAAAAAAAAAOAXbu2N1Y8\\u002fFDuxEzuxo78RERERERGxPwAAAAAAAAAAAAAAAAAAAABGF1100UW3PwAAAAAAAAAAAAAAAAAAAAARERERERHBvwAAAAAAANC\\u002fAAAAAAAAAAAAAAAAAAAAAAAAAAAAAAAAAAAAAAAAAAA=\"},\"y\":{\"dtype\":\"f8\",\"bdata\":\"AAAAAAAA+H8AAAAAAAD4fwAAAAAAAPh\\u002fAAAAAAAA+H8AAAAAAAD4fwAAAAAAAPh\\u002fAAAAAAAA8D8AAAAAAADwPwAAAAAAAPA\\u002fAAAAAAAA8D8AAAAAAAD4fwAAAAAAAAAAAAAAAAAA+H8AAAAAAAAwQAAAAAAAAABAAAAAAAAAJkAAAAAAAAAYQAAAAAAAAPh\\u002fAAAAAAAAAEAAAAAAAAD4fwAAAAAAAPh\\u002fAAAAAAAA+H8AAAAAAAAoQAAAAAAAAPh\\u002fAAAAAAAANkAAAAAAAAD4fwAAAAAAwFZAAAAAAAAA+H8AAAAAAAD4fwAAAAAAAPh\\u002fAAAAAAAA+H8AAAAAAAAAAAAAAAAAAPh\\u002fAAAAAAAAAEAAAAAAAAD4fwAAAAAAAChAAAAAAAAAHEAAAAAAAAD4fwAAAAAAAPh\\u002fAAAAAAAA+H8AAAAAAABSQAAAAAAAACJAAAAAAAAA+H8AAAAAAAD4fwAAAAAAAPA\\u002fAAAAAAAA+H8AAAAAAADwPwAAAAAAAPA\\u002fAAAAAAAA8D8AAAAAAADwPwAAAAAAAPh\\u002fAAAAAAAA+H8AAAAAAAD4fwAAAAAAABRAAAAAAAAA8D8AAAAAAADwPwAAAAAAAPA\\u002fAAAAAAAANkAAAAAAAIBTQAAAAAAAAPh\\u002fAAAAAAAA+H8AAAAAAADwPwAAAAAAAPh\\u002fAAAAAAAAIkAAAAAAAAD4fwAAAAAAsJpAAAAAAAAA+H8AAAAAAAD4fwAAAAAAkHtAAAAAAAAA+H8AAAAAAAD4fwAAAAAAAABAAAAAAAAA8D8AAAAAAADwPwAAAAAAAPh\\u002fAAAAAAAA+H8AAAAAAAD4fwAAAAAAAPA\\u002fAAAAAAAA8D8AAAAAAADwPwAAAAAAAPA\\u002fAAAAAAAA+H8AAAAAAAD4fwAAAAAAAPh\\u002fAAAAAAAAKEAAAAAAAAD4fwAAAAAAAPh\\u002fAAAAAACAS0AAAAAAAAD4fwAAAAAAAPA\\u002fAAAAAAAACEAAAAAAAADwPwAAAAAAAPh\\u002fAAAAAAAA+H8AAAAAAADwPwAAAAAAAPA\\u002fAAAAAAAA+H8AAAAAAADwPwAAAAAAAPA\\u002fAAAAAAAA8D8AAAAAAADwPwAAAAAAAABAAAAAAAAA8D8AAAAAAADwPwAAAAAAAPA\\u002fAAAAAAAA+H8AAAAAAADwPwAAAAAAAPh\\u002fAAAAAAAA+H8AAAAAAADwPwAAAAAAAPA\\u002fAAAAAAAA+H8AAAAAAADwPwAAAAAAAPA\\u002fAAAAAAAA8D8=\"},\"type\":\"scatter\",\"xaxis\":\"x5\",\"yaxis\":\"y5\"},{\"hole\":0.4,\"labels\":[\"Statements\",\"Questions\"],\"name\":\"Content Type\",\"values\":[65,50],\"type\":\"pie\",\"domain\":{\"x\":[0.0,0.2888888888888889],\"y\":[0.0,0.22222222222222224]}},{\"hovertemplate\":\"Author: %{y}\\u003cbr\\u003eTotal Engagement: %{x}\\u003cextra\\u003e\\u003c\\u002fextra\\u003e\",\"marker\":{\"color\":\"#1abc9c\"},\"name\":\"Top Contributors\",\"orientation\":\"h\",\"x\":{\"dtype\":\"f8\",\"bdata\":\"AAAAAAAANkAAAAAAAAA3QAAAAAAAgEtAAAAAAAAAUkAAAAAAAIBTQAAAAAAAwFZAAAAAAACQe0AAAAAAALCaQA==\"},\"y\":[\"AutoModerator\",\"Logical_Welder3467\",\"Aggravating_Money992\",\"GeorgeBird1\",\"Randomized0000\",\"corgibestie\",\"its-groit-craic\",\"Street_Anon\"],\"type\":\"bar\",\"xaxis\":\"x6\",\"yaxis\":\"y6\"},{\"hovertemplate\":\"Sentiment Range: %{x}\\u003cbr\\u003eCount: %{y}\\u003cextra\\u003e\\u003c\\u002fextra\\u003e\",\"marker\":{\"color\":\"#e67e22\"},\"name\":\"Sentiment Intensity\",\"nbinsx\":30,\"opacity\":0.7,\"x\":{\"dtype\":\"f8\",\"bdata\":\"AAAAAAAAAACSJEmSJEmyPwAAAAAAAAAA0LrBFPmsmz9yHMdxHMexvwAAAAAAAAAAAAAAAAAAAAAAAAAAAAAAAAAAAAAAAAAAAAAAAAAAAAB05QHJOld+vwAAAAAAAAAAAAAAAAAAAAAAAAAAAAAAAAAAAAAAAAAAAAAAAAAAAAAAAAAAAAAAAAAAAAAAAAAAAAAAAAAAAAAAAAAAAAAAAAAAAAAAAAAAAAAAAAAAAAAUO7ETO7GzP2e38KsxkZ4\\u002fAAAAAAAAAABGF1100UWnvzUngbhQc4I\\u002fAAAAAAAAAAAapEEapEGKPwAAAAAAAAAAAAAAAAAAAACjYFGwKFiUP1VVVVVVVaU\\u002fAAAAAAAAAAAAAAAAAAAAAB3UQR3UQZ0\\u002fVxCTK4jJlT8AAAAAAAAAAAAAAAAAAAAAnhLkKUGekj+gUeJnlPiJPzQsuFS2d32\\u002fAAAAAAAAAAAAAAAAAAAAAAAAAAAAAAAAHdRBHdRBnT8AAAAAAAAAAAAAAAAAAAAAAAAAAAAAAAAAAAAAAAAAAAAAAAAAAAAAAAAAAAAAAAAAAAAAAAAAAAAAAAAAAAAAAAAAAAAAAAAAAAAAAAAAAAAAAAAAAAAAAAAAAAAAAAAAAAAAAAAAAGG5pxGWe4o\\u002fAAAAAAAAAAAIBAKBQCCAPwAAAAAAAAAAHoq9quhYdD9M+OzBhM+OPwAAAAAAAAAAAAAAAAAAAAAAAAAAAAAAAAAAAAAAAAAAAAAAAAAAAACamZmZmZm5PwAAAAAAAAAAAAAAAAAAAAAAAAAAAAAAAAAAAAAAAAAAAAAAAAAAAAAAAAAAAAAAAAAAAAAAAAAAAAAAAAAAAAAAAAAAAAAAAAAAAAAAAAAAAAAAAAAAAAAAAAAAAAAAAAAAAAAAAAAAAAAAAAAAAAAAAAAAAAAAAAAAAAAAAAAAAAAAAAAAAAAAAAAAAAAAAAAAAAAAAAAAAAAAAAAAAAAAAAAAAAAAAAAAAAAAAAAAEhiBERiBgT8AAAAAAAAAAAAAAAAAAAAAAAAAAAAAAAAAAAAAAAAAAAAAAAAAAAAAAAAAAAAAwD8AAAAAAAAAAOAXbu2N1Y8\\u002fFDuxEzuxo78RERERERGxPwAAAAAAAAAAAAAAAAAAAABGF1100UW3PwAAAAAAAAAAAAAAAAAAAAARERERERHBvwAAAAAAANC\\u002fAAAAAAAAAAAAAAAAAAAAAAAAAAAAAAAAAAAAAAAAAAA=\"},\"type\":\"histogram\",\"xaxis\":\"x7\",\"yaxis\":\"y7\"}],                        {\"template\":{\"data\":{\"barpolar\":[{\"marker\":{\"line\":{\"color\":\"white\",\"width\":0.5},\"pattern\":{\"fillmode\":\"overlay\",\"size\":10,\"solidity\":0.2}},\"type\":\"barpolar\"}],\"bar\":[{\"error_x\":{\"color\":\"#2a3f5f\"},\"error_y\":{\"color\":\"#2a3f5f\"},\"marker\":{\"line\":{\"color\":\"white\",\"width\":0.5},\"pattern\":{\"fillmode\":\"overlay\",\"size\":10,\"solidity\":0.2}},\"type\":\"bar\"}],\"carpet\":[{\"aaxis\":{\"endlinecolor\":\"#2a3f5f\",\"gridcolor\":\"#C8D4E3\",\"linecolor\":\"#C8D4E3\",\"minorgridcolor\":\"#C8D4E3\",\"startlinecolor\":\"#2a3f5f\"},\"baxis\":{\"endlinecolor\":\"#2a3f5f\",\"gridcolor\":\"#C8D4E3\",\"linecolor\":\"#C8D4E3\",\"minorgridcolor\":\"#C8D4E3\",\"startlinecolor\":\"#2a3f5f\"},\"type\":\"carpet\"}],\"choropleth\":[{\"colorbar\":{\"outlinewidth\":0,\"ticks\":\"\"},\"type\":\"choropleth\"}],\"contourcarpet\":[{\"colorbar\":{\"outlinewidth\":0,\"ticks\":\"\"},\"type\":\"contourcarpet\"}],\"contour\":[{\"colorbar\":{\"outlinewidth\":0,\"ticks\":\"\"},\"colorscale\":[[0.0,\"#0d0887\"],[0.1111111111111111,\"#46039f\"],[0.2222222222222222,\"#7201a8\"],[0.3333333333333333,\"#9c179e\"],[0.4444444444444444,\"#bd3786\"],[0.5555555555555556,\"#d8576b\"],[0.6666666666666666,\"#ed7953\"],[0.7777777777777778,\"#fb9f3a\"],[0.8888888888888888,\"#fdca26\"],[1.0,\"#f0f921\"]],\"type\":\"contour\"}],\"heatmap\":[{\"colorbar\":{\"outlinewidth\":0,\"ticks\":\"\"},\"colorscale\":[[0.0,\"#0d0887\"],[0.1111111111111111,\"#46039f\"],[0.2222222222222222,\"#7201a8\"],[0.3333333333333333,\"#9c179e\"],[0.4444444444444444,\"#bd3786\"],[0.5555555555555556,\"#d8576b\"],[0.6666666666666666,\"#ed7953\"],[0.7777777777777778,\"#fb9f3a\"],[0.8888888888888888,\"#fdca26\"],[1.0,\"#f0f921\"]],\"type\":\"heatmap\"}],\"histogram2dcontour\":[{\"colorbar\":{\"outlinewidth\":0,\"ticks\":\"\"},\"colorscale\":[[0.0,\"#0d0887\"],[0.1111111111111111,\"#46039f\"],[0.2222222222222222,\"#7201a8\"],[0.3333333333333333,\"#9c179e\"],[0.4444444444444444,\"#bd3786\"],[0.5555555555555556,\"#d8576b\"],[0.6666666666666666,\"#ed7953\"],[0.7777777777777778,\"#fb9f3a\"],[0.8888888888888888,\"#fdca26\"],[1.0,\"#f0f921\"]],\"type\":\"histogram2dcontour\"}],\"histogram2d\":[{\"colorbar\":{\"outlinewidth\":0,\"ticks\":\"\"},\"colorscale\":[[0.0,\"#0d0887\"],[0.1111111111111111,\"#46039f\"],[0.2222222222222222,\"#7201a8\"],[0.3333333333333333,\"#9c179e\"],[0.4444444444444444,\"#bd3786\"],[0.5555555555555556,\"#d8576b\"],[0.6666666666666666,\"#ed7953\"],[0.7777777777777778,\"#fb9f3a\"],[0.8888888888888888,\"#fdca26\"],[1.0,\"#f0f921\"]],\"type\":\"histogram2d\"}],\"histogram\":[{\"marker\":{\"pattern\":{\"fillmode\":\"overlay\",\"size\":10,\"solidity\":0.2}},\"type\":\"histogram\"}],\"mesh3d\":[{\"colorbar\":{\"outlinewidth\":0,\"ticks\":\"\"},\"type\":\"mesh3d\"}],\"parcoords\":[{\"line\":{\"colorbar\":{\"outlinewidth\":0,\"ticks\":\"\"}},\"type\":\"parcoords\"}],\"pie\":[{\"automargin\":true,\"type\":\"pie\"}],\"scatter3d\":[{\"line\":{\"colorbar\":{\"outlinewidth\":0,\"ticks\":\"\"}},\"marker\":{\"colorbar\":{\"outlinewidth\":0,\"ticks\":\"\"}},\"type\":\"scatter3d\"}],\"scattercarpet\":[{\"marker\":{\"colorbar\":{\"outlinewidth\":0,\"ticks\":\"\"}},\"type\":\"scattercarpet\"}],\"scattergeo\":[{\"marker\":{\"colorbar\":{\"outlinewidth\":0,\"ticks\":\"\"}},\"type\":\"scattergeo\"}],\"scattergl\":[{\"marker\":{\"colorbar\":{\"outlinewidth\":0,\"ticks\":\"\"}},\"type\":\"scattergl\"}],\"scattermapbox\":[{\"marker\":{\"colorbar\":{\"outlinewidth\":0,\"ticks\":\"\"}},\"type\":\"scattermapbox\"}],\"scattermap\":[{\"marker\":{\"colorbar\":{\"outlinewidth\":0,\"ticks\":\"\"}},\"type\":\"scattermap\"}],\"scatterpolargl\":[{\"marker\":{\"colorbar\":{\"outlinewidth\":0,\"ticks\":\"\"}},\"type\":\"scatterpolargl\"}],\"scatterpolar\":[{\"marker\":{\"colorbar\":{\"outlinewidth\":0,\"ticks\":\"\"}},\"type\":\"scatterpolar\"}],\"scatter\":[{\"fillpattern\":{\"fillmode\":\"overlay\",\"size\":10,\"solidity\":0.2},\"type\":\"scatter\"}],\"scatterternary\":[{\"marker\":{\"colorbar\":{\"outlinewidth\":0,\"ticks\":\"\"}},\"type\":\"scatterternary\"}],\"surface\":[{\"colorbar\":{\"outlinewidth\":0,\"ticks\":\"\"},\"colorscale\":[[0.0,\"#0d0887\"],[0.1111111111111111,\"#46039f\"],[0.2222222222222222,\"#7201a8\"],[0.3333333333333333,\"#9c179e\"],[0.4444444444444444,\"#bd3786\"],[0.5555555555555556,\"#d8576b\"],[0.6666666666666666,\"#ed7953\"],[0.7777777777777778,\"#fb9f3a\"],[0.8888888888888888,\"#fdca26\"],[1.0,\"#f0f921\"]],\"type\":\"surface\"}],\"table\":[{\"cells\":{\"fill\":{\"color\":\"#EBF0F8\"},\"line\":{\"color\":\"white\"}},\"header\":{\"fill\":{\"color\":\"#C8D4E3\"},\"line\":{\"color\":\"white\"}},\"type\":\"table\"}]},\"layout\":{\"annotationdefaults\":{\"arrowcolor\":\"#2a3f5f\",\"arrowhead\":0,\"arrowwidth\":1},\"autotypenumbers\":\"strict\",\"coloraxis\":{\"colorbar\":{\"outlinewidth\":0,\"ticks\":\"\"}},\"colorscale\":{\"diverging\":[[0,\"#8e0152\"],[0.1,\"#c51b7d\"],[0.2,\"#de77ae\"],[0.3,\"#f1b6da\"],[0.4,\"#fde0ef\"],[0.5,\"#f7f7f7\"],[0.6,\"#e6f5d0\"],[0.7,\"#b8e186\"],[0.8,\"#7fbc41\"],[0.9,\"#4d9221\"],[1,\"#276419\"]],\"sequential\":[[0.0,\"#0d0887\"],[0.1111111111111111,\"#46039f\"],[0.2222222222222222,\"#7201a8\"],[0.3333333333333333,\"#9c179e\"],[0.4444444444444444,\"#bd3786\"],[0.5555555555555556,\"#d8576b\"],[0.6666666666666666,\"#ed7953\"],[0.7777777777777778,\"#fb9f3a\"],[0.8888888888888888,\"#fdca26\"],[1.0,\"#f0f921\"]],\"sequentialminus\":[[0.0,\"#0d0887\"],[0.1111111111111111,\"#46039f\"],[0.2222222222222222,\"#7201a8\"],[0.3333333333333333,\"#9c179e\"],[0.4444444444444444,\"#bd3786\"],[0.5555555555555556,\"#d8576b\"],[0.6666666666666666,\"#ed7953\"],[0.7777777777777778,\"#fb9f3a\"],[0.8888888888888888,\"#fdca26\"],[1.0,\"#f0f921\"]]},\"colorway\":[\"#636efa\",\"#EF553B\",\"#00cc96\",\"#ab63fa\",\"#FFA15A\",\"#19d3f3\",\"#FF6692\",\"#B6E880\",\"#FF97FF\",\"#FECB52\"],\"font\":{\"color\":\"#2a3f5f\"},\"geo\":{\"bgcolor\":\"white\",\"lakecolor\":\"white\",\"landcolor\":\"white\",\"showlakes\":true,\"showland\":true,\"subunitcolor\":\"#C8D4E3\"},\"hoverlabel\":{\"align\":\"left\"},\"hovermode\":\"closest\",\"mapbox\":{\"style\":\"light\"},\"paper_bgcolor\":\"white\",\"plot_bgcolor\":\"white\",\"polar\":{\"angularaxis\":{\"gridcolor\":\"#EBF0F8\",\"linecolor\":\"#EBF0F8\",\"ticks\":\"\"},\"bgcolor\":\"white\",\"radialaxis\":{\"gridcolor\":\"#EBF0F8\",\"linecolor\":\"#EBF0F8\",\"ticks\":\"\"}},\"scene\":{\"xaxis\":{\"backgroundcolor\":\"white\",\"gridcolor\":\"#DFE8F3\",\"gridwidth\":2,\"linecolor\":\"#EBF0F8\",\"showbackground\":true,\"ticks\":\"\",\"zerolinecolor\":\"#EBF0F8\"},\"yaxis\":{\"backgroundcolor\":\"white\",\"gridcolor\":\"#DFE8F3\",\"gridwidth\":2,\"linecolor\":\"#EBF0F8\",\"showbackground\":true,\"ticks\":\"\",\"zerolinecolor\":\"#EBF0F8\"},\"zaxis\":{\"backgroundcolor\":\"white\",\"gridcolor\":\"#DFE8F3\",\"gridwidth\":2,\"linecolor\":\"#EBF0F8\",\"showbackground\":true,\"ticks\":\"\",\"zerolinecolor\":\"#EBF0F8\"}},\"shapedefaults\":{\"line\":{\"color\":\"#2a3f5f\"}},\"ternary\":{\"aaxis\":{\"gridcolor\":\"#DFE8F3\",\"linecolor\":\"#A2B1C6\",\"ticks\":\"\"},\"baxis\":{\"gridcolor\":\"#DFE8F3\",\"linecolor\":\"#A2B1C6\",\"ticks\":\"\"},\"bgcolor\":\"white\",\"caxis\":{\"gridcolor\":\"#DFE8F3\",\"linecolor\":\"#A2B1C6\",\"ticks\":\"\"}},\"title\":{\"x\":0.05},\"xaxis\":{\"automargin\":true,\"gridcolor\":\"#EBF0F8\",\"linecolor\":\"#EBF0F8\",\"ticks\":\"\",\"title\":{\"standoff\":15},\"zerolinecolor\":\"#EBF0F8\",\"zerolinewidth\":2},\"yaxis\":{\"automargin\":true,\"gridcolor\":\"#EBF0F8\",\"linecolor\":\"#EBF0F8\",\"ticks\":\"\",\"title\":{\"standoff\":15},\"zerolinecolor\":\"#EBF0F8\",\"zerolinewidth\":2}}},\"xaxis\":{\"anchor\":\"y\",\"domain\":[0.0,0.2888888888888889]},\"yaxis\":{\"anchor\":\"x\",\"domain\":[0.7777777777777778,1.0]},\"xaxis2\":{\"anchor\":\"y2\",\"domain\":[0.7111111111111111,1.0]},\"yaxis2\":{\"anchor\":\"x2\",\"domain\":[0.7777777777777778,1.0]},\"xaxis3\":{\"anchor\":\"y3\",\"domain\":[0.0,0.2888888888888889]},\"yaxis3\":{\"anchor\":\"x3\",\"domain\":[0.3888888888888889,0.6111111111111112]},\"xaxis4\":{\"anchor\":\"y4\",\"domain\":[0.35555555555555557,0.6444444444444445]},\"yaxis4\":{\"anchor\":\"x4\",\"domain\":[0.3888888888888889,0.6111111111111112]},\"xaxis5\":{\"anchor\":\"y5\",\"domain\":[0.7111111111111111,1.0]},\"yaxis5\":{\"anchor\":\"x5\",\"domain\":[0.3888888888888889,0.6111111111111112]},\"xaxis6\":{\"anchor\":\"y6\",\"domain\":[0.35555555555555557,0.6444444444444445]},\"yaxis6\":{\"anchor\":\"x6\",\"domain\":[0.0,0.22222222222222224]},\"xaxis7\":{\"anchor\":\"y7\",\"domain\":[0.7111111111111111,1.0]},\"yaxis7\":{\"anchor\":\"x7\",\"domain\":[0.0,0.22222222222222224]},\"annotations\":[{\"font\":{\"size\":16},\"showarrow\":false,\"text\":\"\\ud83d\\udcca Enhanced Sentiment Distribution\",\"x\":0.14444444444444446,\"xanchor\":\"center\",\"xref\":\"paper\",\"y\":1.0,\"yanchor\":\"bottom\",\"yref\":\"paper\"},{\"font\":{\"size\":16},\"showarrow\":false,\"text\":\"\\ud83c\\udfaf Content Topics\",\"x\":0.5,\"xanchor\":\"center\",\"xref\":\"paper\",\"y\":1.0,\"yanchor\":\"bottom\",\"yref\":\"paper\"},{\"font\":{\"size\":16},\"showarrow\":false,\"text\":\"\\ud83d\\udcdd Text Complexity\",\"x\":0.8555555555555556,\"xanchor\":\"center\",\"xref\":\"paper\",\"y\":1.0,\"yanchor\":\"bottom\",\"yref\":\"paper\"},{\"font\":{\"size\":16},\"showarrow\":false,\"text\":\"\\ud83d\\udd24 Most Discussed Terms\",\"x\":0.14444444444444446,\"xanchor\":\"center\",\"xref\":\"paper\",\"y\":0.6111111111111112,\"yanchor\":\"bottom\",\"yref\":\"paper\"},{\"font\":{\"size\":16},\"showarrow\":false,\"text\":\"\\ud83d\\udd0d Popular Phrases\",\"x\":0.5,\"xanchor\":\"center\",\"xref\":\"paper\",\"y\":0.6111111111111112,\"yanchor\":\"bottom\",\"yref\":\"paper\"},{\"font\":{\"size\":16},\"showarrow\":false,\"text\":\"\\ud83d\\udcc8 Engagement vs Sentiment\",\"x\":0.8555555555555556,\"xanchor\":\"center\",\"xref\":\"paper\",\"y\":0.6111111111111112,\"yanchor\":\"bottom\",\"yref\":\"paper\"},{\"font\":{\"size\":16},\"showarrow\":false,\"text\":\"\\ud83d\\udcac Question vs Statement Ratio\",\"x\":0.14444444444444446,\"xanchor\":\"center\",\"xref\":\"paper\",\"y\":0.22222222222222224,\"yanchor\":\"bottom\",\"yref\":\"paper\"},{\"font\":{\"size\":16},\"showarrow\":false,\"text\":\"\\ud83d\\udcda Author Contribution\",\"x\":0.5,\"xanchor\":\"center\",\"xref\":\"paper\",\"y\":0.22222222222222224,\"yanchor\":\"bottom\",\"yref\":\"paper\"},{\"font\":{\"size\":16},\"showarrow\":false,\"text\":\"\\u2696\\ufe0f Sentiment Intensity Scale\",\"x\":0.8555555555555556,\"xanchor\":\"center\",\"xref\":\"paper\",\"y\":0.22222222222222224,\"yanchor\":\"bottom\",\"yref\":\"paper\"}],\"title\":{\"font\":{\"size\":24},\"text\":\"\\ud83e\\udde0 Enhanced Text Analytics Dashboard\",\"x\":0.5},\"font\":{\"size\":11},\"height\":1400,\"showlegend\":true},                        {\"responsive\": true}                    ).then(function(){\n",
       "                            \n",
       "var gd = document.getElementById('747fb7dc-d1da-4aec-bc3b-8b3d793dbc20');\n",
       "var x = new MutationObserver(function (mutations, observer) {{\n",
       "        var display = window.getComputedStyle(gd).display;\n",
       "        if (!display || display === 'none') {{\n",
       "            console.log([gd, 'removed!']);\n",
       "            Plotly.purge(gd);\n",
       "            observer.disconnect();\n",
       "        }}\n",
       "}});\n",
       "\n",
       "// Listen for the removal of the full notebook cells\n",
       "var notebookContainer = gd.closest('#notebook-container');\n",
       "if (notebookContainer) {{\n",
       "    x.observe(notebookContainer, {childList: true});\n",
       "}}\n",
       "\n",
       "// Listen for the clearing of the current output cell\n",
       "var outputEl = gd.closest('.output');\n",
       "if (outputEl) {{\n",
       "    x.observe(outputEl, {childList: true});\n",
       "}}\n",
       "\n",
       "                        })                };            </script>        </div>"
      ]
     },
     "metadata": {},
     "output_type": "display_data"
    },
    {
     "name": "stdout",
     "output_type": "stream",
     "text": [
      "\n",
      "🧠 ENHANCED TEXT ANALYTICS SUMMARY:\n",
      "======================================================================\n",
      "📊 Total Entries Analyzed: 115\n",
      "📝 Average Text Length: 490.1 characters (±990.8)\n",
      "🔤 Average Word Count: 86.1 words (±157.9)\n",
      "📚 Unique Terms Found: 1,617\n",
      "🔗 Unique Phrases Found: 2,700\n",
      "\n",
      "💭 DETAILED SENTIMENT ANALYSIS:\n",
      "   😞 Negative: 1 posts (0.9%)\n",
      "   😐 Neutral: 106 posts (92.2%)\n",
      "   😕 Slightly Negative: 2 posts (1.7%)\n",
      "   🙂 Slightly Positive: 6 posts (5.2%)\n",
      "\n",
      "📈 Sentiment Statistics:\n",
      "   • Average Score: 0.0026 (±0.0356)\n",
      "   • Score Range: -0.2500 to 0.1250\n",
      "\n",
      "🎯 TOPIC ANALYSIS:\n",
      "   📋 Question: 47 posts (40.9%)\n",
      "   📋 General: 40 posts (34.8%)\n",
      "   📋 Personal: 21 posts (18.3%)\n",
      "   📋 Technical: 4 posts (3.5%)\n",
      "   📋 News: 1 posts (0.9%)\n",
      "   📋 Gaming: 1 posts (0.9%)\n",
      "   📋 Discussion: 1 posts (0.9%)\n",
      "\n",
      "📈 ENGAGEMENT CORRELATIONS:\n",
      "   • Sentiment ↔ Engagement: 0.001\n",
      "   • Length ↔ Engagement: -0.017\n",
      "   📊 Sentiment shows minimal correlation with engagement\n",
      "\n",
      "💬 CONTENT INSIGHTS:\n",
      "   • Questions: 50 (43.5%)\n",
      "   • Statements: 65 (56.5%)\n",
      "\n",
      "🔝 Most Discussed Terms: 'what' (82), 'your' (46), 'about' (36), 'how' (34), 'not' (30)\n",
      "🔗 Key Phrases: \"what your\" (18), \"change change\" (12), \"deep learning\" (6)\n"
     ]
    }
   ],
   "source": [
    "def create_smart_text_analysis():\n",
    "    \"\"\"Create comprehensive text analysis with enhanced sentiment detection for nuanced content\"\"\"\n",
    "    \n",
    "    data = historical_raw if not historical_raw.empty else (raw_df if raw_df is not None else pd.DataFrame())\n",
    "    \n",
    "    if data is None or data.empty:\n",
    "        print(\"⚠️ No data available for text analysis\")\n",
    "        return\n",
    "    \n",
    "    # Prepare text data\n",
    "    text_columns = ['title', 'text', 'full_text', 'body', 'content']\n",
    "    available_text_cols = [col for col in text_columns if col in data.columns]\n",
    "    \n",
    "    if not available_text_cols:\n",
    "        print(\"⚠️ No text columns available for analysis\")\n",
    "        return\n",
    "    \n",
    "    print(f\"🔍 Analyzing text from columns: {available_text_cols}\")\n",
    "    \n",
    "    # Enhanced text preprocessing\n",
    "    def preprocess_text(text):\n",
    "        if pd.isna(text) or not str(text).strip():\n",
    "            return \"\"\n",
    "        \n",
    "        text = str(text)\n",
    "        \n",
    "        # Preserve some context while cleaning\n",
    "        text = re.sub(r'http\\S+|www\\S+|https\\S+', '[URL]', text, flags=re.MULTILINE)\n",
    "        text = re.sub(r'@\\w+', '[USER]', text)\n",
    "        text = re.sub(r'#\\w+', '[TAG]', text)\n",
    "        text = re.sub(r'[^\\w\\s\\[\\]]', ' ', text)\n",
    "        text = re.sub(r'\\s+', ' ', text).strip()\n",
    "        return text.lower()\n",
    "    \n",
    "    # EXPANDED and more nuanced sentiment word lists\n",
    "    strong_positive = set(['amazing', 'awesome', 'excellent', 'fantastic', 'incredible', 'outstanding', \n",
    "                          'brilliant', 'wonderful', 'perfect', 'superb', 'magnificent', 'spectacular'])\n",
    "    \n",
    "    positive_words = set(['good', 'great', 'nice', 'love', 'like', 'best', 'better', 'beautiful', \n",
    "                         'helpful', 'useful', 'cool', 'fun', 'interesting', 'solid', 'decent', \n",
    "                         'recommend', 'recommended', 'worth', 'quality', 'smooth', 'easy', 'clear',\n",
    "                         'glad', 'happy', 'pleased', 'satisfied', 'works', 'working', 'fixed'])\n",
    "    \n",
    "    mild_positive = set(['ok', 'okay', 'fine', 'alright', 'fair', 'reasonable', 'acceptable', 'adequate'])\n",
    "    \n",
    "    strong_negative = set(['terrible', 'awful', 'horrible', 'disgusting', 'pathetic', 'useless', \n",
    "                          'garbage', 'trash', 'worst', 'hate', 'despise', 'nightmare'])\n",
    "    \n",
    "    negative_words = set(['bad', 'worse', 'suck', 'sucks', 'annoying', 'stupid', 'dumb', 'ridiculous', \n",
    "                         'frustrating', 'disappointing', 'failed', 'broken', 'problem', 'problems',\n",
    "                         'issue', 'issues', 'wrong', 'error', 'bug', 'bugs', 'difficult', 'hard',\n",
    "                         'confusing', 'complicated', 'slow', 'laggy', 'glitch', 'crash', 'crashed'])\n",
    "    \n",
    "    mild_negative = set(['meh', 'boring', 'bland', 'mediocre', 'average', 'lacking', 'outdated'])\n",
    "    \n",
    "    # Context-aware sentiment analysis\n",
    "    def calculate_enhanced_sentiment(text):\n",
    "        words = text.lower().split()\n",
    "        \n",
    "        # Count different sentiment intensities\n",
    "        strong_pos = sum(1 for word in words if word in strong_positive)\n",
    "        pos_count = sum(1 for word in words if word in positive_words)\n",
    "        mild_pos = sum(1 for word in words if word in mild_positive)\n",
    "        \n",
    "        strong_neg = sum(1 for word in words if word in strong_negative) \n",
    "        neg_count = sum(1 for word in words if word in negative_words)\n",
    "        mild_neg = sum(1 for word in words if word in mild_negative)\n",
    "        \n",
    "        # Look for negation patterns\n",
    "        negation_words = {'not', 'no', 'never', 'dont', 'doesn', 'isn', 'aren', 'wasn', 'weren'}\n",
    "        negated_positive = 0\n",
    "        for i, word in enumerate(words):\n",
    "            if word in negation_words and i + 1 < len(words):\n",
    "                if words[i + 1] in positive_words or words[i + 1] in strong_positive:\n",
    "                    negated_positive += 1\n",
    "        \n",
    "        # Weighted sentiment calculation\n",
    "        sentiment_score = (\n",
    "            (strong_pos * 2.0) + (pos_count * 1.0) + (mild_pos * 0.3) -\n",
    "            (strong_neg * 2.0) - (neg_count * 1.0) - (mild_neg * 0.3) -\n",
    "            (negated_positive * 1.5)\n",
    "        )\n",
    "        \n",
    "        # Normalize by text length (but give minimum weight to avoid division issues)\n",
    "        text_length = max(len(words), 5)\n",
    "        normalized_score = sentiment_score / text_length\n",
    "        \n",
    "        return normalized_score\n",
    "    \n",
    "    # Enhanced topic detection using keyword clusters\n",
    "    topic_keywords = {\n",
    "        'technical': set(['code', 'programming', 'software', 'app', 'website', 'development', 'tech', 'bug', 'feature']),\n",
    "        'gaming': set(['game', 'gaming', 'play', 'player', 'level', 'fps', 'console', 'pc', 'steam']),\n",
    "        'question': set(['how', 'what', 'why', 'when', 'where', 'help', 'question', 'anyone', 'does']),\n",
    "        'discussion': set(['think', 'opinion', 'thoughts', 'discussion', 'debate', 'view', 'perspective']),\n",
    "        'news': set(['news', 'update', 'announcement', 'breaking', 'report', 'article', 'source']),\n",
    "        'personal': set(['my', 'me', 'i', 'personal', 'experience', 'story', 'happened', 'today'])\n",
    "    }\n",
    "    \n",
    "    def detect_topic(text):\n",
    "        words = set(text.lower().split())\n",
    "        topic_scores = {}\n",
    "        \n",
    "        for topic, keywords in topic_keywords.items():\n",
    "            score = len(words.intersection(keywords))\n",
    "            if score > 0:\n",
    "                topic_scores[topic] = score\n",
    "        \n",
    "        if topic_scores:\n",
    "            return max(topic_scores.items(), key=lambda x: x[1])[0]\n",
    "        return 'general'\n",
    "    \n",
    "    # Process all text data with enhanced metrics\n",
    "    text_data = []\n",
    "    \n",
    "    for idx, row in data.iterrows():\n",
    "        combined_text = []\n",
    "        for col in available_text_cols:\n",
    "            if pd.notna(row[col]) and str(row[col]).strip():\n",
    "                cleaned_text = preprocess_text(row[col])\n",
    "                if cleaned_text:\n",
    "                    combined_text.append(cleaned_text)\n",
    "        \n",
    "        if combined_text:\n",
    "            full_text = ' '.join(combined_text)\n",
    "            original_text = ' '.join([str(row[col]) for col in available_text_cols if pd.notna(row[col])])\n",
    "            \n",
    "            # Calculate enhanced metrics\n",
    "            word_count = len(full_text.split())\n",
    "            char_count = len(full_text)\n",
    "            sentiment = calculate_enhanced_sentiment(full_text)\n",
    "            topic = detect_topic(full_text)\n",
    "            \n",
    "            # More nuanced sentiment categories\n",
    "            if sentiment > 0.15:\n",
    "                sentiment_cat = 'positive'\n",
    "            elif sentiment > 0.05:\n",
    "                sentiment_cat = 'slightly_positive'\n",
    "            elif sentiment < -0.15:\n",
    "                sentiment_cat = 'negative'\n",
    "            elif sentiment < -0.05:\n",
    "                sentiment_cat = 'slightly_negative'\n",
    "            else:\n",
    "                sentiment_cat = 'neutral'\n",
    "            \n",
    "            text_data.append({\n",
    "                'text': full_text,\n",
    "                'original_text': original_text,\n",
    "                'length': char_count,\n",
    "                'word_count': word_count,\n",
    "                'subreddit': row.get('subreddit', 'unknown'),\n",
    "                'author': row.get('author', 'unknown'),\n",
    "                'score': row.get('score', 0),\n",
    "                'sentiment': sentiment,\n",
    "                'sentiment_category': sentiment_cat,\n",
    "                'topic': topic,\n",
    "                'has_question': any(word in full_text for word in ['?', 'how', 'what', 'why', 'help']),\n",
    "                'engagement_score': row.get('score', 0) + row.get('num_comments', 0) * 2  # Weighted engagement\n",
    "            })\n",
    "    \n",
    "    if not text_data:\n",
    "        print(\"⚠️ No valid text content found\")\n",
    "        return\n",
    "    \n",
    "    text_df = pd.DataFrame(text_data)\n",
    "    print(f\"✅ Processed {len(text_df)} text entries with enhanced analysis\")\n",
    "    \n",
    "    # Enhanced stop words (Reddit-specific additions)\n",
    "    stop_words = set(['the', 'and', 'or', 'but', 'in', 'on', 'at', 'to', 'for', 'of', 'with', 'by',\n",
    "                     'is', 'are', 'was', 'were', 'be', 'been', 'being', 'have', 'has', 'had',\n",
    "                     'do', 'does', 'did', 'will', 'would', 'could', 'should', 'may', 'might',\n",
    "                     'a', 'an', 'as', 'if', 'it', 'he', 'she', 'they', 'we', 'you', 'i', 'me',\n",
    "                     'my', 'myself', 'this', 'that', 'these', 'those', 'am', 'get', 'got', 'can', \n",
    "                     'just', 'like', 'one', 'also', 'even', 'way', 'use', 'used', 'using', 'make', \n",
    "                     'made', 'making', 'take', 'know', 'think', 'see', 'go', 'going', 'went', 'come',\n",
    "                     'now', 'time', 'people', 'than', 'first', 'been', 'its', 'who', 'user', 'tag', 'url'])\n",
    "    \n",
    "    # Extract meaningful content\n",
    "    all_words = []\n",
    "    bigrams = []\n",
    "    topics_found = []\n",
    "    \n",
    "    for idx, row in text_df.iterrows():\n",
    "        text = row['text']\n",
    "        topic = row['topic']\n",
    "        topics_found.append(topic)\n",
    "        \n",
    "        # Extract meaningful words (improved filtering)\n",
    "        words = re.findall(r'\\b[a-zA-Z]{3,}\\b', text)\n",
    "        meaningful_words = [word for word in words \n",
    "                          if word not in stop_words \n",
    "                          and not word.isdigit() \n",
    "                          and len(word) > 2\n",
    "                          and word not in ['user', 'tag', 'url']]\n",
    "        all_words.extend(meaningful_words)\n",
    "        \n",
    "        # Create contextual bigrams\n",
    "        for i in range(len(meaningful_words) - 1):\n",
    "            bigram = f\"{meaningful_words[i]} {meaningful_words[i+1]}\"\n",
    "            bigrams.append(bigram)\n",
    "    \n",
    "    # Create enhanced visualizations\n",
    "    fig = make_subplots(\n",
    "        rows=3, cols=3,\n",
    "        subplot_titles=(\n",
    "            '📊 Enhanced Sentiment Distribution', '🎯 Content Topics', '📝 Text Complexity',\n",
    "            '🔤 Most Discussed Terms', '🔍 Popular Phrases', '📈 Engagement vs Sentiment',\n",
    "            '💬 Question vs Statement Ratio', '📚 Author Contribution', '⚖️ Sentiment Intensity Scale'\n",
    "        ),\n",
    "        specs=[\n",
    "            [{\"type\": \"bar\"}, {\"type\": \"pie\"}, {\"type\": \"scatter\"}],\n",
    "            [{\"type\": \"bar\"}, {\"type\": \"bar\"}, {\"type\": \"scatter\"}],\n",
    "            [{\"type\": \"pie\"}, {\"type\": \"bar\"}, {\"type\": \"histogram\"}]\n",
    "        ]\n",
    "    )\n",
    "    \n",
    "    # 1. Enhanced Sentiment Distribution (with more categories)\n",
    "    sentiment_counts = text_df['sentiment_category'].value_counts()\n",
    "    sentiment_colors = {\n",
    "        'positive': '#27ae60', \n",
    "        'slightly_positive': '#58d68d',\n",
    "        'neutral': '#f39c12', \n",
    "        'slightly_negative': '#f1948a',\n",
    "        'negative': '#e74c3c'\n",
    "    }\n",
    "    \n",
    "    fig.add_trace(\n",
    "        go.Bar(x=sentiment_counts.index, y=sentiment_counts.values,\n",
    "               marker_color=[sentiment_colors.get(cat, '#95a5a6') for cat in sentiment_counts.index],\n",
    "               name='Enhanced Sentiment',\n",
    "               hovertemplate='Sentiment: %{x}<br>Count: %{y}<br>Percentage: %{y/' + str(len(text_df)) + '*100:.1f}%<extra></extra>'),\n",
    "        row=1, col=1\n",
    "    )\n",
    "    \n",
    "    # 2. Content Topics\n",
    "    topic_counts = Counter(topics_found)\n",
    "    fig.add_trace(\n",
    "        go.Pie(labels=list(topic_counts.keys()), values=list(topic_counts.values()),\n",
    "               name='Content Topics', hole=0.3,\n",
    "               hovertemplate='Topic: %{label}<br>Count: %{value}<br>Percentage: %{percent}<extra></extra>'),\n",
    "        row=1, col=2\n",
    "    )\n",
    "    \n",
    "    # 3. Text Complexity (Word Count vs Character Count)\n",
    "    fig.add_trace(\n",
    "        go.Scatter(x=text_df['word_count'], y=text_df['length'],\n",
    "                  mode='markers', name='Text Complexity',\n",
    "                  marker=dict(color=text_df['sentiment'], \n",
    "                            colorscale='RdYlGn',\n",
    "                            size=6, opacity=0.6,\n",
    "                            colorbar=dict(title=\"Sentiment Score\")),\n",
    "                  hovertemplate='Words: %{x}<br>Characters: %{y}<br>Sentiment: %{marker.color:.3f}<extra></extra>'),\n",
    "        row=1, col=3\n",
    "    )\n",
    "    \n",
    "    # 4. Most Discussed Terms (improved filtering)\n",
    "    if all_words:\n",
    "        word_freq = Counter(all_words)\n",
    "        # Filter out very common but meaningless words\n",
    "        meaningful_words = {word: count for word, count in word_freq.items() \n",
    "                          if count > 1 and len(word) > 3}\n",
    "        top_words = dict(Counter(meaningful_words).most_common(12))\n",
    "        \n",
    "        fig.add_trace(\n",
    "            go.Bar(x=list(top_words.values()), y=list(top_words.keys()),\n",
    "                   orientation='h', name='Key Terms',\n",
    "                   marker_color='#43e97b',\n",
    "                   hovertemplate='Term: %{y}<br>Frequency: %{x}<br>Relative: %{x/' + str(len(text_df)) + '*100:.1f}%<extra></extra>'),\n",
    "            row=2, col=1\n",
    "        )\n",
    "    \n",
    "    # 5. Popular Phrases (improved bigrams)\n",
    "    if bigrams:\n",
    "        bigram_freq = Counter(bigrams)\n",
    "        # Filter meaningful phrases\n",
    "        meaningful_bigrams = {phrase: count for phrase, count in bigram_freq.items() \n",
    "                            if count > 1}\n",
    "        top_bigrams = dict(Counter(meaningful_bigrams).most_common(8))\n",
    "        \n",
    "        fig.add_trace(\n",
    "            go.Bar(x=list(top_bigrams.values()), y=list(top_bigrams.keys()),\n",
    "                   orientation='h', name='Key Phrases',\n",
    "                   marker_color='#9b59b6',\n",
    "                   hovertemplate='Phrase: %{y}<br>Frequency: %{x}<extra></extra>'),\n",
    "            row=2, col=2\n",
    "        )\n",
    "    \n",
    "    # 6. Engagement vs Sentiment (enhanced)\n",
    "    fig.add_trace(\n",
    "        go.Scatter(x=text_df['sentiment'], y=text_df['engagement_score'],\n",
    "                  mode='markers', name='Engagement Analysis',\n",
    "                  marker=dict(color=text_df['word_count'], \n",
    "                            colorscale='viridis',\n",
    "                            size=8, opacity=0.7,\n",
    "                            colorbar=dict(title=\"Word Count\")),\n",
    "                  hovertemplate='Sentiment: %{x:.3f}<br>Engagement: %{y}<br>Words: %{marker.color}<extra></extra>'),\n",
    "        row=2, col=3\n",
    "    )\n",
    "    \n",
    "    # 7. Question vs Statement Analysis\n",
    "    question_ratio = text_df['has_question'].value_counts()\n",
    "    fig.add_trace(\n",
    "        go.Pie(labels=['Statements', 'Questions'], values=[question_ratio.get(False, 0), question_ratio.get(True, 0)],\n",
    "               name='Content Type', hole=0.4),\n",
    "        row=3, col=1\n",
    "    )\n",
    "    \n",
    "    # 8. Top Authors (if available)\n",
    "    if 'author' in text_df.columns and text_df['author'].nunique() > 1:\n",
    "        author_engagement = text_df.groupby('author')['engagement_score'].sum().sort_values(ascending=True).tail(8)\n",
    "        fig.add_trace(\n",
    "            go.Bar(x=author_engagement.values, y=author_engagement.index,\n",
    "                   orientation='h', name='Top Contributors',\n",
    "                   marker_color='#1abc9c',\n",
    "                   hovertemplate='Author: %{y}<br>Total Engagement: %{x}<extra></extra>'),\n",
    "            row=3, col=2\n",
    "        )\n",
    "    \n",
    "    # 9. Sentiment Intensity Distribution\n",
    "    fig.add_trace(\n",
    "        go.Histogram(x=text_df['sentiment'], nbinsx=30, name='Sentiment Intensity',\n",
    "                    marker_color='#e67e22', opacity=0.7,\n",
    "                    hovertemplate='Sentiment Range: %{x}<br>Count: %{y}<extra></extra>'),\n",
    "        row=3, col=3\n",
    "    )\n",
    "    \n",
    "    # Enhanced layout\n",
    "    fig.update_layout(\n",
    "        height=1400,\n",
    "        title_text=\"🧠 Enhanced Text Analytics Dashboard\",\n",
    "        title_x=0.5,\n",
    "        title_font_size=24,\n",
    "        showlegend=True,\n",
    "        template=\"plotly_white\",\n",
    "        font=dict(size=11)\n",
    "    )\n",
    "    \n",
    "    fig.show()\n",
    "    \n",
    "    # Enhanced Statistics Summary\n",
    "    print(f\"\\n🧠 ENHANCED TEXT ANALYTICS SUMMARY:\")\n",
    "    print(\"=\" * 70)\n",
    "    print(f\"📊 Total Entries Analyzed: {len(text_df):,}\")\n",
    "    print(f\"📝 Average Text Length: {text_df['length'].mean():.1f} characters (±{text_df['length'].std():.1f})\")\n",
    "    print(f\"🔤 Average Word Count: {text_df['word_count'].mean():.1f} words (±{text_df['word_count'].std():.1f})\")\n",
    "    print(f\"📚 Unique Terms Found: {len(set(all_words)):,}\")\n",
    "    print(f\"🔗 Unique Phrases Found: {len(set(bigrams)):,}\")\n",
    "    \n",
    "    # Enhanced sentiment analysis with distribution\n",
    "    print(f\"\\n💭 DETAILED SENTIMENT ANALYSIS:\")\n",
    "    sentiment_summary = text_df['sentiment_category'].value_counts().sort_index()\n",
    "    total_posts = len(text_df)\n",
    "    \n",
    "    sentiment_emojis = {\n",
    "        'positive': '😊', 'slightly_positive': '🙂', 'neutral': '😐',\n",
    "        'slightly_negative': '😕', 'negative': '😞'\n",
    "    }\n",
    "    \n",
    "    for sentiment, count in sentiment_summary.items():\n",
    "        percentage = (count / total_posts) * 100\n",
    "        emoji = sentiment_emojis.get(sentiment, '📊')\n",
    "        print(f\"   {emoji} {sentiment.replace('_', ' ').title()}: {count:,} posts ({percentage:.1f}%)\")\n",
    "    \n",
    "    # Sentiment statistics\n",
    "    avg_sentiment = text_df['sentiment'].mean()\n",
    "    sentiment_std = text_df['sentiment'].std()\n",
    "    print(f\"\\n📈 Sentiment Statistics:\")\n",
    "    print(f\"   • Average Score: {avg_sentiment:.4f} (±{sentiment_std:.4f})\")\n",
    "    print(f\"   • Score Range: {text_df['sentiment'].min():.4f} to {text_df['sentiment'].max():.4f}\")\n",
    "    \n",
    "    # Topic analysis\n",
    "    print(f\"\\n🎯 TOPIC ANALYSIS:\")\n",
    "    topic_summary = Counter(topics_found).most_common()\n",
    "    for topic, count in topic_summary:\n",
    "        percentage = (count / total_posts) * 100\n",
    "        print(f\"   📋 {topic.title()}: {count} posts ({percentage:.1f}%)\")\n",
    "    \n",
    "    # Enhanced insights with correlations\n",
    "    if 'score' in text_df.columns:\n",
    "        sentiment_corr = text_df['sentiment'].corr(text_df['engagement_score'])\n",
    "        length_corr = text_df['word_count'].corr(text_df['engagement_score'])\n",
    "        \n",
    "        print(f\"\\n📈 ENGAGEMENT CORRELATIONS:\")\n",
    "        print(f\"   • Sentiment ↔ Engagement: {sentiment_corr:.3f}\")\n",
    "        print(f\"   • Length ↔ Engagement: {length_corr:.3f}\")\n",
    "        \n",
    "        # More nuanced insights\n",
    "        if abs(sentiment_corr) > 0.1:\n",
    "            direction = \"positively\" if sentiment_corr > 0 else \"negatively\"\n",
    "            strength = \"strongly\" if abs(sentiment_corr) > 0.3 else \"moderately\" if abs(sentiment_corr) > 0.2 else \"weakly\"\n",
    "            print(f\"   💡 Sentiment {strength} correlates {direction} with engagement\")\n",
    "        else:\n",
    "            print(f\"   📊 Sentiment shows minimal correlation with engagement\")\n",
    "        \n",
    "        if abs(length_corr) > 0.1:\n",
    "            direction = \"longer\" if length_corr > 0 else \"shorter\"\n",
    "            strength = \"strongly\" if abs(length_corr) > 0.3 else \"moderately\" if abs(length_corr) > 0.2 else \"slightly\"\n",
    "            print(f\"   💡 {direction.title()} posts {strength} correlate with higher engagement\")\n",
    "    \n",
    "    # Content insights\n",
    "    questions_pct = (text_df['has_question'].sum() / len(text_df)) * 100\n",
    "    print(f\"\\n💬 CONTENT INSIGHTS:\")\n",
    "    print(f\"   • Questions: {text_df['has_question'].sum()} ({questions_pct:.1f}%)\")\n",
    "    print(f\"   • Statements: {(~text_df['has_question']).sum()} ({100-questions_pct:.1f}%)\")\n",
    "    \n",
    "    # Top terms and phrases\n",
    "    if all_words:\n",
    "        top_5_words = Counter(all_words).most_common(5)\n",
    "        word_list = ', '.join([f\"'{word}' ({count})\" for word, count in top_5_words])\n",
    "        print(f\"\\n🔝 Most Discussed Terms: {word_list}\")\n",
    "    \n",
    "    if bigrams:\n",
    "        top_3_bigrams = Counter(bigrams).most_common(3)\n",
    "        phrase_list = ', '.join([f'\"{phrase}\" ({count})' for phrase, count in top_3_bigrams])\n",
    "        print(f\"🔗 Key Phrases: {phrase_list}\")\n",
    "\n",
    "# Run the enhanced analysis\n",
    "create_smart_text_analysis()"
   ]
  },
  {
   "cell_type": "code",
   "execution_count": 26,
   "id": "7ae4fa1a-be82-47a8-b4b7-9bdda9fd77ac",
   "metadata": {
    "editable": true,
    "slideshow": {
     "slide_type": ""
    },
    "tags": []
   },
   "outputs": [
    {
     "name": "stdout",
     "output_type": "stream",
     "text": [
      "✅ Analyzing 99 unique authors\n"
     ]
    },
    {
     "data": {
      "application/vnd.plotly.v1+json": {
       "config": {
        "plotlyServerURL": "https://plot.ly"
       },
       "data": [
        {
         "marker": {
          "color": "#667eea"
         },
         "name": "Total Score",
         "text": {
          "bdata": "AAAAAAAwmEAAAAAAAPB4QAAAAAAAQHNAAAAAAACAV0AAAAAAAIBFQAAAAAAAAERAAAAAAACAQUAAAAAAAAA/QAAAAAAAADZAAAAAAAAANEA=",
          "dtype": "f8"
         },
         "textposition": "auto",
         "type": "bar",
         "x": [
          "Street_Anon",
          "its-groit-craic",
          "EndofGods",
          "whatareyousomekinda",
          "Datashot",
          "Aggravating_Money992",
          "corgibestie",
          "hammer-jon",
          "dr-steve",
          "snozburger"
         ],
         "xaxis": "x",
         "y": {
          "bdata": "DAYAAI8BAAA0AQAAXgAAACsAAAAoAAAAIwAAAB8AAAAWAAAAFAAAAA==",
          "dtype": "i4"
         },
         "yaxis": "y"
        },
        {
         "marker": {
          "color": "#f093fb"
         },
         "name": "Avg Score Distribution",
         "nbinsx": 25,
         "opacity": 0.7,
         "type": "histogram",
         "x": {
          "bdata": "AAAAAAAwmEAAAAAAAPB4QAAAAAAAQHNAAAAAAACAV0AAAAAAAIBFQAAAAAAAADRAAAAAAACAQUAAAAAAAAA/QAAAAAAAADZAAAAAAAAANEAAAAAAAAAyQAAAAAAAAB5AAAAAAAAAJkAAAAAAAAAgQAAAAAAAACBAAAAAAAAAHEAAAAAAAAAcQAAAAAAAABxAAAAAAAAAGEAAAAAAAADwPwAAAAAAABhAAAAAAAAAFEAAAAAAAAAQQAAAAAAAABBAAAAAAAAAAEAAAAAAAAD4PwAAAAAAAPg/AAAAAAAA8D8AAAAAAAAIQAAAAAAAAABAAAAAAAAA8D8AAAAAAAAAQAAAAAAAAABAAAAAAAAA8D8AAAAAAADwPwAAAAAAAABAAAAAAAAAAEAAAAAAAADwPwAAAAAAAPA/AAAAAAAA8D8AAAAAAADwPwAAAAAAAPA/AAAAAAAA8D8AAAAAAADwPwAAAAAAAPA/AAAAAAAA8D8AAAAAAADwPwAAAAAAAPA/AAAAAAAA8D8AAAAAAADwPwAAAAAAAPA/AAAAAAAA8D8AAAAAAADwPwAAAAAAAPA/AAAAAAAA8D8AAAAAAADwPwAAAAAAAPA/AAAAAAAA8D8AAAAAAADwPwAAAAAAAPA/AAAAAAAA8D8AAAAAAADwPwAAAAAAAPA/AAAAAAAA8D8AAAAAAADwPwAAAAAAAPA/AAAAAAAA8D8AAAAAAADwPwAAAAAAAPA/AAAAAAAA8D8AAAAAAADwPwAAAAAAAPA/AAAAAAAA8D8AAAAAAADwPwAAAAAAAPA/AAAAAAAA8D8AAAAAAADwPwAAAAAAAPA/AAAAAAAA8D8AAAAAAADwPwAAAAAAAPA/AAAAAAAA4D8AAAAAAADwPwAAAAAAAPA/AAAAAAAA8D8AAAAAAADwPwAAAAAAAPA/AAAAAAAA8D8AAAAAAADwPwAAAAAAAPA/AAAAAAAA8D8AAAAAAADwPwAAAAAAAPA/AAAAAAAAAAAAAAAAAAAAAAAAAAAAAAAAAAAAAAAAAAAAAAAAAAAAAAAAAAAAAAAA",
          "dtype": "f8"
         },
         "xaxis": "x2",
         "yaxis": "y2"
        },
        {
         "marker": {
          "color": {
           "bdata": "DAYAAI8BAAA0AQAAXgAAACsAAAAoAAAAIwAAAB8AAAAWAAAAFAAAABIAAAAPAAAACwAAAAgAAAAIAAAABwAAAAcAAAAHAAAABgAAAAYAAAAGAAAABQAAAAQAAAAEAAAABAAAAAMAAAADAAAAAwAAAAMAAAACAAAAAgAAAAIAAAACAAAAAgAAAAIAAAACAAAAAgAAAAEAAAABAAAAAQAAAAEAAAABAAAAAQAAAAEAAAABAAAAAQAAAAEAAAABAAAAAQAAAAEAAAABAAAAAQAAAAEAAAABAAAAAQAAAAEAAAABAAAAAQAAAAEAAAABAAAAAQAAAAEAAAABAAAAAQAAAAEAAAABAAAAAQAAAAEAAAABAAAAAQAAAAEAAAABAAAAAQAAAAEAAAABAAAAAQAAAAEAAAABAAAAAQAAAAEAAAABAAAAAQAAAAEAAAABAAAAAQAAAAEAAAABAAAAAQAAAAEAAAABAAAAAQAAAAEAAAABAAAAAAAAAAAAAAAAAAAAAAAAAAAAAAAAAAAA",
           "dtype": "i4"
          },
          "colorbar": {
           "title": {
            "text": "Total Score"
           }
          },
          "colorscale": [
           [
            0,
            "#440154"
           ],
           [
            0.1111111111111111,
            "#482878"
           ],
           [
            0.2222222222222222,
            "#3e4989"
           ],
           [
            0.3333333333333333,
            "#31688e"
           ],
           [
            0.4444444444444444,
            "#26828e"
           ],
           [
            0.5555555555555556,
            "#1f9e89"
           ],
           [
            0.6666666666666666,
            "#35b779"
           ],
           [
            0.7777777777777778,
            "#6ece58"
           ],
           [
            0.8888888888888888,
            "#b5de2b"
           ],
           [
            1,
            "#fde725"
           ]
          ],
          "showscale": true,
          "size": 8
         },
         "mode": "markers",
         "name": "User Activity",
         "text": [
          "Street_Anon",
          "its-groit-craic",
          "EndofGods",
          "whatareyousomekinda",
          "Datashot",
          "Aggravating_Money992",
          "corgibestie",
          "hammer-jon",
          "dr-steve",
          "snozburger",
          "Randomized0000",
          "Logical_Welder3467",
          "sukkj",
          "AutoModerator",
          "canbooo",
          "Competitive-Dot-3333",
          "quicksilver53",
          "StayingUp4AFeeling",
          "Chance-Business",
          "Original_Garbage8557",
          "didj0",
          "Foreign_Sympathy2863",
          "AdSpecialist6598",
          "NOTWorthless",
          "fullgoopy_alchemist",
          "rezwenn",
          "Economy-Mud-6626",
          "airreps",
          "tariban",
          "stmoreau",
          "Kinky_introverts",
          "GeorgeBird1",
          "Strict-Ebb-8959",
          "geometer_girl",
          "Scottburning",
          "MagicalEloquence",
          "zelkovamoon",
          "chocobomog",
          "alexiajj",
          "critiqueextension",
          "arkam_uzumaki",
          "cambyses-nebu",
          "dfGobBluth",
          "mellyuh",
          "enterisys",
          "livelaughoral",
          "WhosThis85",
          "minty_bloom",
          "muffin_vibe",
          "npmaker",
          "pkbutcher09",
          "solsticesx",
          "speedschisss",
          "straygoat193",
          "tytds",
          "upyoars",
          "xEdwin23x",
          "Wowthefrea",
          "ABucin",
          "Trekkeris",
          "JuniXe",
          "SydRA_",
          "Hot_Potato121",
          "Hot-Section1805",
          "HanSooloo",
          "Googy21",
          "FriendshipBudget1341",
          "Erratic_Error",
          "ElGuano",
          "Dry_Contract_628",
          "DrThomasBuro",
          "Crazy_Objective_3770",
          "BlitzWing1985",
          "BlazingIT01",
          "BetImaginary4945",
          "Alternative-Signal67",
          "Independent_Slip551",
          "Ill_Donut555",
          "LachlanMcConchie",
          "PurrSassy",
          "Superchecker",
          "Smooth-Raisin9332",
          "Sieraphien",
          "Academic_Two_5814",
          "RetoricEuphoric",
          "LegitimateJeweler126",
          "Quite_Kielbasa",
          "OwnMathematician9775",
          "OkChildhood2261",
          "Mean-Listen-7010",
          "M___D___",
          "Leighhh09",
          "SevenMachoMania7",
          "SandAlternative6026",
          "phicreative1997",
          "BagBeneficial7527",
          "vikashgraja",
          "ggStrift",
          "Adventurous-Salt8514"
         ],
         "textposition": "top center",
         "type": "scatter",
         "x": {
          "bdata": "AQEBAQECAQEBAQECAQEBAQEBAQYBAQEBAgICAwEBAgEBAgIBAQEBAQEBAQEBAQEBAQEBAQEBAQEBAQEBAQEBAQEBAQEBAQEBAQEBAQEBAQEBAgEBAQEBAQEBAQEBAQEBAQEB",
          "dtype": "i1"
         },
         "xaxis": "x3",
         "y": {
          "bdata": "AAAAAAAwmEAAAAAAAPB4QAAAAAAAQHNAAAAAAACAV0AAAAAAAIBFQAAAAAAAADRAAAAAAACAQUAAAAAAAAA/QAAAAAAAADZAAAAAAAAANEAAAAAAAAAyQAAAAAAAAB5AAAAAAAAAJkAAAAAAAAAgQAAAAAAAACBAAAAAAAAAHEAAAAAAAAAcQAAAAAAAABxAAAAAAAAAGEAAAAAAAADwPwAAAAAAABhAAAAAAAAAFEAAAAAAAAAQQAAAAAAAABBAAAAAAAAAAEAAAAAAAAD4PwAAAAAAAPg/AAAAAAAA8D8AAAAAAAAIQAAAAAAAAABAAAAAAAAA8D8AAAAAAAAAQAAAAAAAAABAAAAAAAAA8D8AAAAAAADwPwAAAAAAAABAAAAAAAAAAEAAAAAAAADwPwAAAAAAAPA/AAAAAAAA8D8AAAAAAADwPwAAAAAAAPA/AAAAAAAA8D8AAAAAAADwPwAAAAAAAPA/AAAAAAAA8D8AAAAAAADwPwAAAAAAAPA/AAAAAAAA8D8AAAAAAADwPwAAAAAAAPA/AAAAAAAA8D8AAAAAAADwPwAAAAAAAPA/AAAAAAAA8D8AAAAAAADwPwAAAAAAAPA/AAAAAAAA8D8AAAAAAADwPwAAAAAAAPA/AAAAAAAA8D8AAAAAAADwPwAAAAAAAPA/AAAAAAAA8D8AAAAAAADwPwAAAAAAAPA/AAAAAAAA8D8AAAAAAADwPwAAAAAAAPA/AAAAAAAA8D8AAAAAAADwPwAAAAAAAPA/AAAAAAAA8D8AAAAAAADwPwAAAAAAAPA/AAAAAAAA8D8AAAAAAADwPwAAAAAAAPA/AAAAAAAA8D8AAAAAAADwPwAAAAAAAPA/AAAAAAAA4D8AAAAAAADwPwAAAAAAAPA/AAAAAAAA8D8AAAAAAADwPwAAAAAAAPA/AAAAAAAA8D8AAAAAAADwPwAAAAAAAPA/AAAAAAAA8D8AAAAAAADwPwAAAAAAAPA/AAAAAAAAAAAAAAAAAAAAAAAAAAAAAAAAAAAAAAAAAAAAAAAAAAAAAAAAAAAAAAAA",
          "dtype": "f8"
         },
         "yaxis": "y3"
        },
        {
         "domain": {
          "x": [
           0.55,
           1
          ],
          "y": [
           0,
           0.375
          ]
         },
         "hole": 0.4,
         "labels": [
          "Single Post",
          "Low (2-3)",
          "Medium (4-10)",
          "High (10+)"
         ],
         "marker": {
          "colors": [
           "#43e97b",
           "#4facfe",
           "#f093fb",
           "#667eea"
          ]
         },
         "name": "Activity Levels",
         "type": "pie",
         "values": {
          "bdata": "WAoBAA==",
          "dtype": "i1"
         }
        }
       ],
       "layout": {
        "annotations": [
         {
          "font": {
           "size": 16
          },
          "showarrow": false,
          "text": "🏆 Top Users by Total Score",
          "x": 0.225,
          "xanchor": "center",
          "xref": "paper",
          "y": 1,
          "yanchor": "bottom",
          "yref": "paper"
         },
         {
          "font": {
           "size": 16
          },
          "showarrow": false,
          "text": "⭐ Average Score Distribution",
          "x": 0.775,
          "xanchor": "center",
          "xref": "paper",
          "y": 1,
          "yanchor": "bottom",
          "yref": "paper"
         },
         {
          "font": {
           "size": 16
          },
          "showarrow": false,
          "text": "📊 Posts vs Average Score",
          "x": 0.225,
          "xanchor": "center",
          "xref": "paper",
          "y": 0.375,
          "yanchor": "bottom",
          "yref": "paper"
         },
         {
          "font": {
           "size": 16
          },
          "showarrow": false,
          "text": "🎯 User Activity Levels",
          "x": 0.775,
          "xanchor": "center",
          "xref": "paper",
          "y": 0.375,
          "yanchor": "bottom",
          "yref": "paper"
         }
        ],
        "height": 900,
        "template": {
         "data": {
          "bar": [
           {
            "error_x": {
             "color": "#2a3f5f"
            },
            "error_y": {
             "color": "#2a3f5f"
            },
            "marker": {
             "line": {
              "color": "white",
              "width": 0.5
             },
             "pattern": {
              "fillmode": "overlay",
              "size": 10,
              "solidity": 0.2
             }
            },
            "type": "bar"
           }
          ],
          "barpolar": [
           {
            "marker": {
             "line": {
              "color": "white",
              "width": 0.5
             },
             "pattern": {
              "fillmode": "overlay",
              "size": 10,
              "solidity": 0.2
             }
            },
            "type": "barpolar"
           }
          ],
          "carpet": [
           {
            "aaxis": {
             "endlinecolor": "#2a3f5f",
             "gridcolor": "#C8D4E3",
             "linecolor": "#C8D4E3",
             "minorgridcolor": "#C8D4E3",
             "startlinecolor": "#2a3f5f"
            },
            "baxis": {
             "endlinecolor": "#2a3f5f",
             "gridcolor": "#C8D4E3",
             "linecolor": "#C8D4E3",
             "minorgridcolor": "#C8D4E3",
             "startlinecolor": "#2a3f5f"
            },
            "type": "carpet"
           }
          ],
          "choropleth": [
           {
            "colorbar": {
             "outlinewidth": 0,
             "ticks": ""
            },
            "type": "choropleth"
           }
          ],
          "contour": [
           {
            "colorbar": {
             "outlinewidth": 0,
             "ticks": ""
            },
            "colorscale": [
             [
              0,
              "#0d0887"
             ],
             [
              0.1111111111111111,
              "#46039f"
             ],
             [
              0.2222222222222222,
              "#7201a8"
             ],
             [
              0.3333333333333333,
              "#9c179e"
             ],
             [
              0.4444444444444444,
              "#bd3786"
             ],
             [
              0.5555555555555556,
              "#d8576b"
             ],
             [
              0.6666666666666666,
              "#ed7953"
             ],
             [
              0.7777777777777778,
              "#fb9f3a"
             ],
             [
              0.8888888888888888,
              "#fdca26"
             ],
             [
              1,
              "#f0f921"
             ]
            ],
            "type": "contour"
           }
          ],
          "contourcarpet": [
           {
            "colorbar": {
             "outlinewidth": 0,
             "ticks": ""
            },
            "type": "contourcarpet"
           }
          ],
          "heatmap": [
           {
            "colorbar": {
             "outlinewidth": 0,
             "ticks": ""
            },
            "colorscale": [
             [
              0,
              "#0d0887"
             ],
             [
              0.1111111111111111,
              "#46039f"
             ],
             [
              0.2222222222222222,
              "#7201a8"
             ],
             [
              0.3333333333333333,
              "#9c179e"
             ],
             [
              0.4444444444444444,
              "#bd3786"
             ],
             [
              0.5555555555555556,
              "#d8576b"
             ],
             [
              0.6666666666666666,
              "#ed7953"
             ],
             [
              0.7777777777777778,
              "#fb9f3a"
             ],
             [
              0.8888888888888888,
              "#fdca26"
             ],
             [
              1,
              "#f0f921"
             ]
            ],
            "type": "heatmap"
           }
          ],
          "histogram": [
           {
            "marker": {
             "pattern": {
              "fillmode": "overlay",
              "size": 10,
              "solidity": 0.2
             }
            },
            "type": "histogram"
           }
          ],
          "histogram2d": [
           {
            "colorbar": {
             "outlinewidth": 0,
             "ticks": ""
            },
            "colorscale": [
             [
              0,
              "#0d0887"
             ],
             [
              0.1111111111111111,
              "#46039f"
             ],
             [
              0.2222222222222222,
              "#7201a8"
             ],
             [
              0.3333333333333333,
              "#9c179e"
             ],
             [
              0.4444444444444444,
              "#bd3786"
             ],
             [
              0.5555555555555556,
              "#d8576b"
             ],
             [
              0.6666666666666666,
              "#ed7953"
             ],
             [
              0.7777777777777778,
              "#fb9f3a"
             ],
             [
              0.8888888888888888,
              "#fdca26"
             ],
             [
              1,
              "#f0f921"
             ]
            ],
            "type": "histogram2d"
           }
          ],
          "histogram2dcontour": [
           {
            "colorbar": {
             "outlinewidth": 0,
             "ticks": ""
            },
            "colorscale": [
             [
              0,
              "#0d0887"
             ],
             [
              0.1111111111111111,
              "#46039f"
             ],
             [
              0.2222222222222222,
              "#7201a8"
             ],
             [
              0.3333333333333333,
              "#9c179e"
             ],
             [
              0.4444444444444444,
              "#bd3786"
             ],
             [
              0.5555555555555556,
              "#d8576b"
             ],
             [
              0.6666666666666666,
              "#ed7953"
             ],
             [
              0.7777777777777778,
              "#fb9f3a"
             ],
             [
              0.8888888888888888,
              "#fdca26"
             ],
             [
              1,
              "#f0f921"
             ]
            ],
            "type": "histogram2dcontour"
           }
          ],
          "mesh3d": [
           {
            "colorbar": {
             "outlinewidth": 0,
             "ticks": ""
            },
            "type": "mesh3d"
           }
          ],
          "parcoords": [
           {
            "line": {
             "colorbar": {
              "outlinewidth": 0,
              "ticks": ""
             }
            },
            "type": "parcoords"
           }
          ],
          "pie": [
           {
            "automargin": true,
            "type": "pie"
           }
          ],
          "scatter": [
           {
            "fillpattern": {
             "fillmode": "overlay",
             "size": 10,
             "solidity": 0.2
            },
            "type": "scatter"
           }
          ],
          "scatter3d": [
           {
            "line": {
             "colorbar": {
              "outlinewidth": 0,
              "ticks": ""
             }
            },
            "marker": {
             "colorbar": {
              "outlinewidth": 0,
              "ticks": ""
             }
            },
            "type": "scatter3d"
           }
          ],
          "scattercarpet": [
           {
            "marker": {
             "colorbar": {
              "outlinewidth": 0,
              "ticks": ""
             }
            },
            "type": "scattercarpet"
           }
          ],
          "scattergeo": [
           {
            "marker": {
             "colorbar": {
              "outlinewidth": 0,
              "ticks": ""
             }
            },
            "type": "scattergeo"
           }
          ],
          "scattergl": [
           {
            "marker": {
             "colorbar": {
              "outlinewidth": 0,
              "ticks": ""
             }
            },
            "type": "scattergl"
           }
          ],
          "scattermap": [
           {
            "marker": {
             "colorbar": {
              "outlinewidth": 0,
              "ticks": ""
             }
            },
            "type": "scattermap"
           }
          ],
          "scattermapbox": [
           {
            "marker": {
             "colorbar": {
              "outlinewidth": 0,
              "ticks": ""
             }
            },
            "type": "scattermapbox"
           }
          ],
          "scatterpolar": [
           {
            "marker": {
             "colorbar": {
              "outlinewidth": 0,
              "ticks": ""
             }
            },
            "type": "scatterpolar"
           }
          ],
          "scatterpolargl": [
           {
            "marker": {
             "colorbar": {
              "outlinewidth": 0,
              "ticks": ""
             }
            },
            "type": "scatterpolargl"
           }
          ],
          "scatterternary": [
           {
            "marker": {
             "colorbar": {
              "outlinewidth": 0,
              "ticks": ""
             }
            },
            "type": "scatterternary"
           }
          ],
          "surface": [
           {
            "colorbar": {
             "outlinewidth": 0,
             "ticks": ""
            },
            "colorscale": [
             [
              0,
              "#0d0887"
             ],
             [
              0.1111111111111111,
              "#46039f"
             ],
             [
              0.2222222222222222,
              "#7201a8"
             ],
             [
              0.3333333333333333,
              "#9c179e"
             ],
             [
              0.4444444444444444,
              "#bd3786"
             ],
             [
              0.5555555555555556,
              "#d8576b"
             ],
             [
              0.6666666666666666,
              "#ed7953"
             ],
             [
              0.7777777777777778,
              "#fb9f3a"
             ],
             [
              0.8888888888888888,
              "#fdca26"
             ],
             [
              1,
              "#f0f921"
             ]
            ],
            "type": "surface"
           }
          ],
          "table": [
           {
            "cells": {
             "fill": {
              "color": "#EBF0F8"
             },
             "line": {
              "color": "white"
             }
            },
            "header": {
             "fill": {
              "color": "#C8D4E3"
             },
             "line": {
              "color": "white"
             }
            },
            "type": "table"
           }
          ]
         },
         "layout": {
          "annotationdefaults": {
           "arrowcolor": "#2a3f5f",
           "arrowhead": 0,
           "arrowwidth": 1
          },
          "autotypenumbers": "strict",
          "coloraxis": {
           "colorbar": {
            "outlinewidth": 0,
            "ticks": ""
           }
          },
          "colorscale": {
           "diverging": [
            [
             0,
             "#8e0152"
            ],
            [
             0.1,
             "#c51b7d"
            ],
            [
             0.2,
             "#de77ae"
            ],
            [
             0.3,
             "#f1b6da"
            ],
            [
             0.4,
             "#fde0ef"
            ],
            [
             0.5,
             "#f7f7f7"
            ],
            [
             0.6,
             "#e6f5d0"
            ],
            [
             0.7,
             "#b8e186"
            ],
            [
             0.8,
             "#7fbc41"
            ],
            [
             0.9,
             "#4d9221"
            ],
            [
             1,
             "#276419"
            ]
           ],
           "sequential": [
            [
             0,
             "#0d0887"
            ],
            [
             0.1111111111111111,
             "#46039f"
            ],
            [
             0.2222222222222222,
             "#7201a8"
            ],
            [
             0.3333333333333333,
             "#9c179e"
            ],
            [
             0.4444444444444444,
             "#bd3786"
            ],
            [
             0.5555555555555556,
             "#d8576b"
            ],
            [
             0.6666666666666666,
             "#ed7953"
            ],
            [
             0.7777777777777778,
             "#fb9f3a"
            ],
            [
             0.8888888888888888,
             "#fdca26"
            ],
            [
             1,
             "#f0f921"
            ]
           ],
           "sequentialminus": [
            [
             0,
             "#0d0887"
            ],
            [
             0.1111111111111111,
             "#46039f"
            ],
            [
             0.2222222222222222,
             "#7201a8"
            ],
            [
             0.3333333333333333,
             "#9c179e"
            ],
            [
             0.4444444444444444,
             "#bd3786"
            ],
            [
             0.5555555555555556,
             "#d8576b"
            ],
            [
             0.6666666666666666,
             "#ed7953"
            ],
            [
             0.7777777777777778,
             "#fb9f3a"
            ],
            [
             0.8888888888888888,
             "#fdca26"
            ],
            [
             1,
             "#f0f921"
            ]
           ]
          },
          "colorway": [
           "#636efa",
           "#EF553B",
           "#00cc96",
           "#ab63fa",
           "#FFA15A",
           "#19d3f3",
           "#FF6692",
           "#B6E880",
           "#FF97FF",
           "#FECB52"
          ],
          "font": {
           "color": "#2a3f5f"
          },
          "geo": {
           "bgcolor": "white",
           "lakecolor": "white",
           "landcolor": "white",
           "showlakes": true,
           "showland": true,
           "subunitcolor": "#C8D4E3"
          },
          "hoverlabel": {
           "align": "left"
          },
          "hovermode": "closest",
          "mapbox": {
           "style": "light"
          },
          "paper_bgcolor": "white",
          "plot_bgcolor": "white",
          "polar": {
           "angularaxis": {
            "gridcolor": "#EBF0F8",
            "linecolor": "#EBF0F8",
            "ticks": ""
           },
           "bgcolor": "white",
           "radialaxis": {
            "gridcolor": "#EBF0F8",
            "linecolor": "#EBF0F8",
            "ticks": ""
           }
          },
          "scene": {
           "xaxis": {
            "backgroundcolor": "white",
            "gridcolor": "#DFE8F3",
            "gridwidth": 2,
            "linecolor": "#EBF0F8",
            "showbackground": true,
            "ticks": "",
            "zerolinecolor": "#EBF0F8"
           },
           "yaxis": {
            "backgroundcolor": "white",
            "gridcolor": "#DFE8F3",
            "gridwidth": 2,
            "linecolor": "#EBF0F8",
            "showbackground": true,
            "ticks": "",
            "zerolinecolor": "#EBF0F8"
           },
           "zaxis": {
            "backgroundcolor": "white",
            "gridcolor": "#DFE8F3",
            "gridwidth": 2,
            "linecolor": "#EBF0F8",
            "showbackground": true,
            "ticks": "",
            "zerolinecolor": "#EBF0F8"
           }
          },
          "shapedefaults": {
           "line": {
            "color": "#2a3f5f"
           }
          },
          "ternary": {
           "aaxis": {
            "gridcolor": "#DFE8F3",
            "linecolor": "#A2B1C6",
            "ticks": ""
           },
           "baxis": {
            "gridcolor": "#DFE8F3",
            "linecolor": "#A2B1C6",
            "ticks": ""
           },
           "bgcolor": "white",
           "caxis": {
            "gridcolor": "#DFE8F3",
            "linecolor": "#A2B1C6",
            "ticks": ""
           }
          },
          "title": {
           "x": 0.05
          },
          "xaxis": {
           "automargin": true,
           "gridcolor": "#EBF0F8",
           "linecolor": "#EBF0F8",
           "ticks": "",
           "title": {
            "standoff": 15
           },
           "zerolinecolor": "#EBF0F8",
           "zerolinewidth": 2
          },
          "yaxis": {
           "automargin": true,
           "gridcolor": "#EBF0F8",
           "linecolor": "#EBF0F8",
           "ticks": "",
           "title": {
            "standoff": 15
           },
           "zerolinecolor": "#EBF0F8",
           "zerolinewidth": 2
          }
         }
        },
        "title": {
         "text": "👥 User Activity & Score Analysis",
         "x": 0.5
        },
        "xaxis": {
         "anchor": "y",
         "domain": [
          0,
          0.45
         ],
         "tickangle": 45
        },
        "xaxis2": {
         "anchor": "y2",
         "domain": [
          0.55,
          1
         ]
        },
        "xaxis3": {
         "anchor": "y3",
         "domain": [
          0,
          0.45
         ]
        },
        "yaxis": {
         "anchor": "x",
         "domain": [
          0.625,
          1
         ]
        },
        "yaxis2": {
         "anchor": "x2",
         "domain": [
          0.625,
          1
         ]
        },
        "yaxis3": {
         "anchor": "x3",
         "domain": [
          0,
          0.375
         ]
        }
       }
      },
      "text/html": [
       "<div>            <script src=\"https://cdnjs.cloudflare.com/ajax/libs/mathjax/2.7.5/MathJax.js?config=TeX-AMS-MML_SVG\"></script><script type=\"text/javascript\">if (window.MathJax && window.MathJax.Hub && window.MathJax.Hub.Config) {window.MathJax.Hub.Config({SVG: {font: \"STIX-Web\"}});}</script>                <script type=\"text/javascript\">window.PlotlyConfig = {MathJaxConfig: 'local'};</script>\n",
       "        <script charset=\"utf-8\" src=\"https://cdn.plot.ly/plotly-3.0.1.min.js\"></script>                <div id=\"cc231238-2e32-4474-a177-ffc85392c17d\" class=\"plotly-graph-div\" style=\"height:900px; width:100%;\"></div>            <script type=\"text/javascript\">                window.PLOTLYENV=window.PLOTLYENV || {};                                if (document.getElementById(\"cc231238-2e32-4474-a177-ffc85392c17d\")) {                    Plotly.newPlot(                        \"cc231238-2e32-4474-a177-ffc85392c17d\",                        [{\"marker\":{\"color\":\"#667eea\"},\"name\":\"Total Score\",\"text\":{\"dtype\":\"f8\",\"bdata\":\"AAAAAAAwmEAAAAAAAPB4QAAAAAAAQHNAAAAAAACAV0AAAAAAAIBFQAAAAAAAAERAAAAAAACAQUAAAAAAAAA\\u002fQAAAAAAAADZAAAAAAAAANEA=\"},\"textposition\":\"auto\",\"x\":[\"Street_Anon\",\"its-groit-craic\",\"EndofGods\",\"whatareyousomekinda\",\"Datashot\",\"Aggravating_Money992\",\"corgibestie\",\"hammer-jon\",\"dr-steve\",\"snozburger\"],\"y\":{\"dtype\":\"i4\",\"bdata\":\"DAYAAI8BAAA0AQAAXgAAACsAAAAoAAAAIwAAAB8AAAAWAAAAFAAAAA==\"},\"type\":\"bar\",\"xaxis\":\"x\",\"yaxis\":\"y\"},{\"marker\":{\"color\":\"#f093fb\"},\"name\":\"Avg Score Distribution\",\"nbinsx\":25,\"opacity\":0.7,\"x\":{\"dtype\":\"f8\",\"bdata\":\"AAAAAAAwmEAAAAAAAPB4QAAAAAAAQHNAAAAAAACAV0AAAAAAAIBFQAAAAAAAADRAAAAAAACAQUAAAAAAAAA\\u002fQAAAAAAAADZAAAAAAAAANEAAAAAAAAAyQAAAAAAAAB5AAAAAAAAAJkAAAAAAAAAgQAAAAAAAACBAAAAAAAAAHEAAAAAAAAAcQAAAAAAAABxAAAAAAAAAGEAAAAAAAADwPwAAAAAAABhAAAAAAAAAFEAAAAAAAAAQQAAAAAAAABBAAAAAAAAAAEAAAAAAAAD4PwAAAAAAAPg\\u002fAAAAAAAA8D8AAAAAAAAIQAAAAAAAAABAAAAAAAAA8D8AAAAAAAAAQAAAAAAAAABAAAAAAAAA8D8AAAAAAADwPwAAAAAAAABAAAAAAAAAAEAAAAAAAADwPwAAAAAAAPA\\u002fAAAAAAAA8D8AAAAAAADwPwAAAAAAAPA\\u002fAAAAAAAA8D8AAAAAAADwPwAAAAAAAPA\\u002fAAAAAAAA8D8AAAAAAADwPwAAAAAAAPA\\u002fAAAAAAAA8D8AAAAAAADwPwAAAAAAAPA\\u002fAAAAAAAA8D8AAAAAAADwPwAAAAAAAPA\\u002fAAAAAAAA8D8AAAAAAADwPwAAAAAAAPA\\u002fAAAAAAAA8D8AAAAAAADwPwAAAAAAAPA\\u002fAAAAAAAA8D8AAAAAAADwPwAAAAAAAPA\\u002fAAAAAAAA8D8AAAAAAADwPwAAAAAAAPA\\u002fAAAAAAAA8D8AAAAAAADwPwAAAAAAAPA\\u002fAAAAAAAA8D8AAAAAAADwPwAAAAAAAPA\\u002fAAAAAAAA8D8AAAAAAADwPwAAAAAAAPA\\u002fAAAAAAAA8D8AAAAAAADwPwAAAAAAAPA\\u002fAAAAAAAA8D8AAAAAAADwPwAAAAAAAPA\\u002fAAAAAAAA4D8AAAAAAADwPwAAAAAAAPA\\u002fAAAAAAAA8D8AAAAAAADwPwAAAAAAAPA\\u002fAAAAAAAA8D8AAAAAAADwPwAAAAAAAPA\\u002fAAAAAAAA8D8AAAAAAADwPwAAAAAAAPA\\u002fAAAAAAAAAAAAAAAAAAAAAAAAAAAAAAAAAAAAAAAAAAAAAAAAAAAAAAAAAAAAAAAA\"},\"type\":\"histogram\",\"xaxis\":\"x2\",\"yaxis\":\"y2\"},{\"marker\":{\"color\":{\"dtype\":\"i4\",\"bdata\":\"DAYAAI8BAAA0AQAAXgAAACsAAAAoAAAAIwAAAB8AAAAWAAAAFAAAABIAAAAPAAAACwAAAAgAAAAIAAAABwAAAAcAAAAHAAAABgAAAAYAAAAGAAAABQAAAAQAAAAEAAAABAAAAAMAAAADAAAAAwAAAAMAAAACAAAAAgAAAAIAAAACAAAAAgAAAAIAAAACAAAAAgAAAAEAAAABAAAAAQAAAAEAAAABAAAAAQAAAAEAAAABAAAAAQAAAAEAAAABAAAAAQAAAAEAAAABAAAAAQAAAAEAAAABAAAAAQAAAAEAAAABAAAAAQAAAAEAAAABAAAAAQAAAAEAAAABAAAAAQAAAAEAAAABAAAAAQAAAAEAAAABAAAAAQAAAAEAAAABAAAAAQAAAAEAAAABAAAAAQAAAAEAAAABAAAAAQAAAAEAAAABAAAAAQAAAAEAAAABAAAAAQAAAAEAAAABAAAAAQAAAAEAAAABAAAAAQAAAAEAAAABAAAAAAAAAAAAAAAAAAAAAAAAAAAAAAAAAAAA\"},\"colorbar\":{\"title\":{\"text\":\"Total Score\"}},\"colorscale\":[[0.0,\"#440154\"],[0.1111111111111111,\"#482878\"],[0.2222222222222222,\"#3e4989\"],[0.3333333333333333,\"#31688e\"],[0.4444444444444444,\"#26828e\"],[0.5555555555555556,\"#1f9e89\"],[0.6666666666666666,\"#35b779\"],[0.7777777777777778,\"#6ece58\"],[0.8888888888888888,\"#b5de2b\"],[1.0,\"#fde725\"]],\"showscale\":true,\"size\":8},\"mode\":\"markers\",\"name\":\"User Activity\",\"text\":[\"Street_Anon\",\"its-groit-craic\",\"EndofGods\",\"whatareyousomekinda\",\"Datashot\",\"Aggravating_Money992\",\"corgibestie\",\"hammer-jon\",\"dr-steve\",\"snozburger\",\"Randomized0000\",\"Logical_Welder3467\",\"sukkj\",\"AutoModerator\",\"canbooo\",\"Competitive-Dot-3333\",\"quicksilver53\",\"StayingUp4AFeeling\",\"Chance-Business\",\"Original_Garbage8557\",\"didj0\",\"Foreign_Sympathy2863\",\"AdSpecialist6598\",\"NOTWorthless\",\"fullgoopy_alchemist\",\"rezwenn\",\"Economy-Mud-6626\",\"airreps\",\"tariban\",\"stmoreau\",\"Kinky_introverts\",\"GeorgeBird1\",\"Strict-Ebb-8959\",\"geometer_girl\",\"Scottburning\",\"MagicalEloquence\",\"zelkovamoon\",\"chocobomog\",\"alexiajj\",\"critiqueextension\",\"arkam_uzumaki\",\"cambyses-nebu\",\"dfGobBluth\",\"mellyuh\",\"enterisys\",\"livelaughoral\",\"WhosThis85\",\"minty_bloom\",\"muffin_vibe\",\"npmaker\",\"pkbutcher09\",\"solsticesx\",\"speedschisss\",\"straygoat193\",\"tytds\",\"upyoars\",\"xEdwin23x\",\"Wowthefrea\",\"ABucin\",\"Trekkeris\",\"JuniXe\",\"SydRA_\",\"Hot_Potato121\",\"Hot-Section1805\",\"HanSooloo\",\"Googy21\",\"FriendshipBudget1341\",\"Erratic_Error\",\"ElGuano\",\"Dry_Contract_628\",\"DrThomasBuro\",\"Crazy_Objective_3770\",\"BlitzWing1985\",\"BlazingIT01\",\"BetImaginary4945\",\"Alternative-Signal67\",\"Independent_Slip551\",\"Ill_Donut555\",\"LachlanMcConchie\",\"PurrSassy\",\"Superchecker\",\"Smooth-Raisin9332\",\"Sieraphien\",\"Academic_Two_5814\",\"RetoricEuphoric\",\"LegitimateJeweler126\",\"Quite_Kielbasa\",\"OwnMathematician9775\",\"OkChildhood2261\",\"Mean-Listen-7010\",\"M___D___\",\"Leighhh09\",\"SevenMachoMania7\",\"SandAlternative6026\",\"phicreative1997\",\"BagBeneficial7527\",\"vikashgraja\",\"ggStrift\",\"Adventurous-Salt8514\"],\"textposition\":\"top center\",\"x\":{\"dtype\":\"i1\",\"bdata\":\"AQEBAQECAQEBAQECAQEBAQEBAQYBAQEBAgICAwEBAgEBAgIBAQEBAQEBAQEBAQEBAQEBAQEBAQEBAQEBAQEBAQEBAQEBAQEBAQEBAQEBAQEBAgEBAQEBAQEBAQEBAQEBAQEB\"},\"y\":{\"dtype\":\"f8\",\"bdata\":\"AAAAAAAwmEAAAAAAAPB4QAAAAAAAQHNAAAAAAACAV0AAAAAAAIBFQAAAAAAAADRAAAAAAACAQUAAAAAAAAA\\u002fQAAAAAAAADZAAAAAAAAANEAAAAAAAAAyQAAAAAAAAB5AAAAAAAAAJkAAAAAAAAAgQAAAAAAAACBAAAAAAAAAHEAAAAAAAAAcQAAAAAAAABxAAAAAAAAAGEAAAAAAAADwPwAAAAAAABhAAAAAAAAAFEAAAAAAAAAQQAAAAAAAABBAAAAAAAAAAEAAAAAAAAD4PwAAAAAAAPg\\u002fAAAAAAAA8D8AAAAAAAAIQAAAAAAAAABAAAAAAAAA8D8AAAAAAAAAQAAAAAAAAABAAAAAAAAA8D8AAAAAAADwPwAAAAAAAABAAAAAAAAAAEAAAAAAAADwPwAAAAAAAPA\\u002fAAAAAAAA8D8AAAAAAADwPwAAAAAAAPA\\u002fAAAAAAAA8D8AAAAAAADwPwAAAAAAAPA\\u002fAAAAAAAA8D8AAAAAAADwPwAAAAAAAPA\\u002fAAAAAAAA8D8AAAAAAADwPwAAAAAAAPA\\u002fAAAAAAAA8D8AAAAAAADwPwAAAAAAAPA\\u002fAAAAAAAA8D8AAAAAAADwPwAAAAAAAPA\\u002fAAAAAAAA8D8AAAAAAADwPwAAAAAAAPA\\u002fAAAAAAAA8D8AAAAAAADwPwAAAAAAAPA\\u002fAAAAAAAA8D8AAAAAAADwPwAAAAAAAPA\\u002fAAAAAAAA8D8AAAAAAADwPwAAAAAAAPA\\u002fAAAAAAAA8D8AAAAAAADwPwAAAAAAAPA\\u002fAAAAAAAA8D8AAAAAAADwPwAAAAAAAPA\\u002fAAAAAAAA8D8AAAAAAADwPwAAAAAAAPA\\u002fAAAAAAAA8D8AAAAAAADwPwAAAAAAAPA\\u002fAAAAAAAA4D8AAAAAAADwPwAAAAAAAPA\\u002fAAAAAAAA8D8AAAAAAADwPwAAAAAAAPA\\u002fAAAAAAAA8D8AAAAAAADwPwAAAAAAAPA\\u002fAAAAAAAA8D8AAAAAAADwPwAAAAAAAPA\\u002fAAAAAAAAAAAAAAAAAAAAAAAAAAAAAAAAAAAAAAAAAAAAAAAAAAAAAAAAAAAAAAAA\"},\"type\":\"scatter\",\"xaxis\":\"x3\",\"yaxis\":\"y3\"},{\"hole\":0.4,\"labels\":[\"Single Post\",\"Low (2-3)\",\"Medium (4-10)\",\"High (10+)\"],\"marker\":{\"colors\":[\"#43e97b\",\"#4facfe\",\"#f093fb\",\"#667eea\"]},\"name\":\"Activity Levels\",\"values\":{\"dtype\":\"i1\",\"bdata\":\"WAoBAA==\"},\"type\":\"pie\",\"domain\":{\"x\":[0.55,1.0],\"y\":[0.0,0.375]}}],                        {\"template\":{\"data\":{\"barpolar\":[{\"marker\":{\"line\":{\"color\":\"white\",\"width\":0.5},\"pattern\":{\"fillmode\":\"overlay\",\"size\":10,\"solidity\":0.2}},\"type\":\"barpolar\"}],\"bar\":[{\"error_x\":{\"color\":\"#2a3f5f\"},\"error_y\":{\"color\":\"#2a3f5f\"},\"marker\":{\"line\":{\"color\":\"white\",\"width\":0.5},\"pattern\":{\"fillmode\":\"overlay\",\"size\":10,\"solidity\":0.2}},\"type\":\"bar\"}],\"carpet\":[{\"aaxis\":{\"endlinecolor\":\"#2a3f5f\",\"gridcolor\":\"#C8D4E3\",\"linecolor\":\"#C8D4E3\",\"minorgridcolor\":\"#C8D4E3\",\"startlinecolor\":\"#2a3f5f\"},\"baxis\":{\"endlinecolor\":\"#2a3f5f\",\"gridcolor\":\"#C8D4E3\",\"linecolor\":\"#C8D4E3\",\"minorgridcolor\":\"#C8D4E3\",\"startlinecolor\":\"#2a3f5f\"},\"type\":\"carpet\"}],\"choropleth\":[{\"colorbar\":{\"outlinewidth\":0,\"ticks\":\"\"},\"type\":\"choropleth\"}],\"contourcarpet\":[{\"colorbar\":{\"outlinewidth\":0,\"ticks\":\"\"},\"type\":\"contourcarpet\"}],\"contour\":[{\"colorbar\":{\"outlinewidth\":0,\"ticks\":\"\"},\"colorscale\":[[0.0,\"#0d0887\"],[0.1111111111111111,\"#46039f\"],[0.2222222222222222,\"#7201a8\"],[0.3333333333333333,\"#9c179e\"],[0.4444444444444444,\"#bd3786\"],[0.5555555555555556,\"#d8576b\"],[0.6666666666666666,\"#ed7953\"],[0.7777777777777778,\"#fb9f3a\"],[0.8888888888888888,\"#fdca26\"],[1.0,\"#f0f921\"]],\"type\":\"contour\"}],\"heatmap\":[{\"colorbar\":{\"outlinewidth\":0,\"ticks\":\"\"},\"colorscale\":[[0.0,\"#0d0887\"],[0.1111111111111111,\"#46039f\"],[0.2222222222222222,\"#7201a8\"],[0.3333333333333333,\"#9c179e\"],[0.4444444444444444,\"#bd3786\"],[0.5555555555555556,\"#d8576b\"],[0.6666666666666666,\"#ed7953\"],[0.7777777777777778,\"#fb9f3a\"],[0.8888888888888888,\"#fdca26\"],[1.0,\"#f0f921\"]],\"type\":\"heatmap\"}],\"histogram2dcontour\":[{\"colorbar\":{\"outlinewidth\":0,\"ticks\":\"\"},\"colorscale\":[[0.0,\"#0d0887\"],[0.1111111111111111,\"#46039f\"],[0.2222222222222222,\"#7201a8\"],[0.3333333333333333,\"#9c179e\"],[0.4444444444444444,\"#bd3786\"],[0.5555555555555556,\"#d8576b\"],[0.6666666666666666,\"#ed7953\"],[0.7777777777777778,\"#fb9f3a\"],[0.8888888888888888,\"#fdca26\"],[1.0,\"#f0f921\"]],\"type\":\"histogram2dcontour\"}],\"histogram2d\":[{\"colorbar\":{\"outlinewidth\":0,\"ticks\":\"\"},\"colorscale\":[[0.0,\"#0d0887\"],[0.1111111111111111,\"#46039f\"],[0.2222222222222222,\"#7201a8\"],[0.3333333333333333,\"#9c179e\"],[0.4444444444444444,\"#bd3786\"],[0.5555555555555556,\"#d8576b\"],[0.6666666666666666,\"#ed7953\"],[0.7777777777777778,\"#fb9f3a\"],[0.8888888888888888,\"#fdca26\"],[1.0,\"#f0f921\"]],\"type\":\"histogram2d\"}],\"histogram\":[{\"marker\":{\"pattern\":{\"fillmode\":\"overlay\",\"size\":10,\"solidity\":0.2}},\"type\":\"histogram\"}],\"mesh3d\":[{\"colorbar\":{\"outlinewidth\":0,\"ticks\":\"\"},\"type\":\"mesh3d\"}],\"parcoords\":[{\"line\":{\"colorbar\":{\"outlinewidth\":0,\"ticks\":\"\"}},\"type\":\"parcoords\"}],\"pie\":[{\"automargin\":true,\"type\":\"pie\"}],\"scatter3d\":[{\"line\":{\"colorbar\":{\"outlinewidth\":0,\"ticks\":\"\"}},\"marker\":{\"colorbar\":{\"outlinewidth\":0,\"ticks\":\"\"}},\"type\":\"scatter3d\"}],\"scattercarpet\":[{\"marker\":{\"colorbar\":{\"outlinewidth\":0,\"ticks\":\"\"}},\"type\":\"scattercarpet\"}],\"scattergeo\":[{\"marker\":{\"colorbar\":{\"outlinewidth\":0,\"ticks\":\"\"}},\"type\":\"scattergeo\"}],\"scattergl\":[{\"marker\":{\"colorbar\":{\"outlinewidth\":0,\"ticks\":\"\"}},\"type\":\"scattergl\"}],\"scattermapbox\":[{\"marker\":{\"colorbar\":{\"outlinewidth\":0,\"ticks\":\"\"}},\"type\":\"scattermapbox\"}],\"scattermap\":[{\"marker\":{\"colorbar\":{\"outlinewidth\":0,\"ticks\":\"\"}},\"type\":\"scattermap\"}],\"scatterpolargl\":[{\"marker\":{\"colorbar\":{\"outlinewidth\":0,\"ticks\":\"\"}},\"type\":\"scatterpolargl\"}],\"scatterpolar\":[{\"marker\":{\"colorbar\":{\"outlinewidth\":0,\"ticks\":\"\"}},\"type\":\"scatterpolar\"}],\"scatter\":[{\"fillpattern\":{\"fillmode\":\"overlay\",\"size\":10,\"solidity\":0.2},\"type\":\"scatter\"}],\"scatterternary\":[{\"marker\":{\"colorbar\":{\"outlinewidth\":0,\"ticks\":\"\"}},\"type\":\"scatterternary\"}],\"surface\":[{\"colorbar\":{\"outlinewidth\":0,\"ticks\":\"\"},\"colorscale\":[[0.0,\"#0d0887\"],[0.1111111111111111,\"#46039f\"],[0.2222222222222222,\"#7201a8\"],[0.3333333333333333,\"#9c179e\"],[0.4444444444444444,\"#bd3786\"],[0.5555555555555556,\"#d8576b\"],[0.6666666666666666,\"#ed7953\"],[0.7777777777777778,\"#fb9f3a\"],[0.8888888888888888,\"#fdca26\"],[1.0,\"#f0f921\"]],\"type\":\"surface\"}],\"table\":[{\"cells\":{\"fill\":{\"color\":\"#EBF0F8\"},\"line\":{\"color\":\"white\"}},\"header\":{\"fill\":{\"color\":\"#C8D4E3\"},\"line\":{\"color\":\"white\"}},\"type\":\"table\"}]},\"layout\":{\"annotationdefaults\":{\"arrowcolor\":\"#2a3f5f\",\"arrowhead\":0,\"arrowwidth\":1},\"autotypenumbers\":\"strict\",\"coloraxis\":{\"colorbar\":{\"outlinewidth\":0,\"ticks\":\"\"}},\"colorscale\":{\"diverging\":[[0,\"#8e0152\"],[0.1,\"#c51b7d\"],[0.2,\"#de77ae\"],[0.3,\"#f1b6da\"],[0.4,\"#fde0ef\"],[0.5,\"#f7f7f7\"],[0.6,\"#e6f5d0\"],[0.7,\"#b8e186\"],[0.8,\"#7fbc41\"],[0.9,\"#4d9221\"],[1,\"#276419\"]],\"sequential\":[[0.0,\"#0d0887\"],[0.1111111111111111,\"#46039f\"],[0.2222222222222222,\"#7201a8\"],[0.3333333333333333,\"#9c179e\"],[0.4444444444444444,\"#bd3786\"],[0.5555555555555556,\"#d8576b\"],[0.6666666666666666,\"#ed7953\"],[0.7777777777777778,\"#fb9f3a\"],[0.8888888888888888,\"#fdca26\"],[1.0,\"#f0f921\"]],\"sequentialminus\":[[0.0,\"#0d0887\"],[0.1111111111111111,\"#46039f\"],[0.2222222222222222,\"#7201a8\"],[0.3333333333333333,\"#9c179e\"],[0.4444444444444444,\"#bd3786\"],[0.5555555555555556,\"#d8576b\"],[0.6666666666666666,\"#ed7953\"],[0.7777777777777778,\"#fb9f3a\"],[0.8888888888888888,\"#fdca26\"],[1.0,\"#f0f921\"]]},\"colorway\":[\"#636efa\",\"#EF553B\",\"#00cc96\",\"#ab63fa\",\"#FFA15A\",\"#19d3f3\",\"#FF6692\",\"#B6E880\",\"#FF97FF\",\"#FECB52\"],\"font\":{\"color\":\"#2a3f5f\"},\"geo\":{\"bgcolor\":\"white\",\"lakecolor\":\"white\",\"landcolor\":\"white\",\"showlakes\":true,\"showland\":true,\"subunitcolor\":\"#C8D4E3\"},\"hoverlabel\":{\"align\":\"left\"},\"hovermode\":\"closest\",\"mapbox\":{\"style\":\"light\"},\"paper_bgcolor\":\"white\",\"plot_bgcolor\":\"white\",\"polar\":{\"angularaxis\":{\"gridcolor\":\"#EBF0F8\",\"linecolor\":\"#EBF0F8\",\"ticks\":\"\"},\"bgcolor\":\"white\",\"radialaxis\":{\"gridcolor\":\"#EBF0F8\",\"linecolor\":\"#EBF0F8\",\"ticks\":\"\"}},\"scene\":{\"xaxis\":{\"backgroundcolor\":\"white\",\"gridcolor\":\"#DFE8F3\",\"gridwidth\":2,\"linecolor\":\"#EBF0F8\",\"showbackground\":true,\"ticks\":\"\",\"zerolinecolor\":\"#EBF0F8\"},\"yaxis\":{\"backgroundcolor\":\"white\",\"gridcolor\":\"#DFE8F3\",\"gridwidth\":2,\"linecolor\":\"#EBF0F8\",\"showbackground\":true,\"ticks\":\"\",\"zerolinecolor\":\"#EBF0F8\"},\"zaxis\":{\"backgroundcolor\":\"white\",\"gridcolor\":\"#DFE8F3\",\"gridwidth\":2,\"linecolor\":\"#EBF0F8\",\"showbackground\":true,\"ticks\":\"\",\"zerolinecolor\":\"#EBF0F8\"}},\"shapedefaults\":{\"line\":{\"color\":\"#2a3f5f\"}},\"ternary\":{\"aaxis\":{\"gridcolor\":\"#DFE8F3\",\"linecolor\":\"#A2B1C6\",\"ticks\":\"\"},\"baxis\":{\"gridcolor\":\"#DFE8F3\",\"linecolor\":\"#A2B1C6\",\"ticks\":\"\"},\"bgcolor\":\"white\",\"caxis\":{\"gridcolor\":\"#DFE8F3\",\"linecolor\":\"#A2B1C6\",\"ticks\":\"\"}},\"title\":{\"x\":0.05},\"xaxis\":{\"automargin\":true,\"gridcolor\":\"#EBF0F8\",\"linecolor\":\"#EBF0F8\",\"ticks\":\"\",\"title\":{\"standoff\":15},\"zerolinecolor\":\"#EBF0F8\",\"zerolinewidth\":2},\"yaxis\":{\"automargin\":true,\"gridcolor\":\"#EBF0F8\",\"linecolor\":\"#EBF0F8\",\"ticks\":\"\",\"title\":{\"standoff\":15},\"zerolinecolor\":\"#EBF0F8\",\"zerolinewidth\":2}}},\"xaxis\":{\"anchor\":\"y\",\"domain\":[0.0,0.45],\"tickangle\":45},\"yaxis\":{\"anchor\":\"x\",\"domain\":[0.625,1.0]},\"xaxis2\":{\"anchor\":\"y2\",\"domain\":[0.55,1.0]},\"yaxis2\":{\"anchor\":\"x2\",\"domain\":[0.625,1.0]},\"xaxis3\":{\"anchor\":\"y3\",\"domain\":[0.0,0.45]},\"yaxis3\":{\"anchor\":\"x3\",\"domain\":[0.0,0.375]},\"annotations\":[{\"font\":{\"size\":16},\"showarrow\":false,\"text\":\"\\ud83c\\udfc6 Top Users by Total Score\",\"x\":0.225,\"xanchor\":\"center\",\"xref\":\"paper\",\"y\":1.0,\"yanchor\":\"bottom\",\"yref\":\"paper\"},{\"font\":{\"size\":16},\"showarrow\":false,\"text\":\"\\u2b50 Average Score Distribution\",\"x\":0.775,\"xanchor\":\"center\",\"xref\":\"paper\",\"y\":1.0,\"yanchor\":\"bottom\",\"yref\":\"paper\"},{\"font\":{\"size\":16},\"showarrow\":false,\"text\":\"\\ud83d\\udcca Posts vs Average Score\",\"x\":0.225,\"xanchor\":\"center\",\"xref\":\"paper\",\"y\":0.375,\"yanchor\":\"bottom\",\"yref\":\"paper\"},{\"font\":{\"size\":16},\"showarrow\":false,\"text\":\"\\ud83c\\udfaf User Activity Levels\",\"x\":0.775,\"xanchor\":\"center\",\"xref\":\"paper\",\"y\":0.375,\"yanchor\":\"bottom\",\"yref\":\"paper\"}],\"title\":{\"text\":\"\\ud83d\\udc65 User Activity & Score Analysis\",\"x\":0.5},\"height\":900},                        {\"responsive\": true}                    ).then(function(){\n",
       "                            \n",
       "var gd = document.getElementById('cc231238-2e32-4474-a177-ffc85392c17d');\n",
       "var x = new MutationObserver(function (mutations, observer) {{\n",
       "        var display = window.getComputedStyle(gd).display;\n",
       "        if (!display || display === 'none') {{\n",
       "            console.log([gd, 'removed!']);\n",
       "            Plotly.purge(gd);\n",
       "            observer.disconnect();\n",
       "        }}\n",
       "}});\n",
       "\n",
       "// Listen for the removal of the full notebook cells\n",
       "var notebookContainer = gd.closest('#notebook-container');\n",
       "if (notebookContainer) {{\n",
       "    x.observe(notebookContainer, {childList: true});\n",
       "}}\n",
       "\n",
       "// Listen for the clearing of the current output cell\n",
       "var outputEl = gd.closest('.output');\n",
       "if (outputEl) {{\n",
       "    x.observe(outputEl, {childList: true});\n",
       "}}\n",
       "\n",
       "                        })                };            </script>        </div>"
      ]
     },
     "metadata": {},
     "output_type": "display_data"
    },
    {
     "name": "stdout",
     "output_type": "stream",
     "text": [
      "\n",
      "🏆 Top 10 Users by Total Score:\n"
     ]
    },
    {
     "data": {
      "text/html": [
       "<div>\n",
       "<style scoped>\n",
       "    .dataframe tbody tr th:only-of-type {\n",
       "        vertical-align: middle;\n",
       "    }\n",
       "\n",
       "    .dataframe tbody tr th {\n",
       "        vertical-align: top;\n",
       "    }\n",
       "\n",
       "    .dataframe thead th {\n",
       "        text-align: right;\n",
       "    }\n",
       "</style>\n",
       "<table border=\"1\" class=\"dataframe\">\n",
       "  <thead>\n",
       "    <tr style=\"text-align: right;\">\n",
       "      <th></th>\n",
       "      <th>Post_Count</th>\n",
       "      <th>Total_Score</th>\n",
       "      <th>Avg_Score</th>\n",
       "    </tr>\n",
       "    <tr>\n",
       "      <th>author</th>\n",
       "      <th></th>\n",
       "      <th></th>\n",
       "      <th></th>\n",
       "    </tr>\n",
       "  </thead>\n",
       "  <tbody>\n",
       "    <tr>\n",
       "      <th>Street_Anon</th>\n",
       "      <td>1</td>\n",
       "      <td>1548</td>\n",
       "      <td>1548.0</td>\n",
       "    </tr>\n",
       "    <tr>\n",
       "      <th>its-groit-craic</th>\n",
       "      <td>1</td>\n",
       "      <td>399</td>\n",
       "      <td>399.0</td>\n",
       "    </tr>\n",
       "    <tr>\n",
       "      <th>EndofGods</th>\n",
       "      <td>1</td>\n",
       "      <td>308</td>\n",
       "      <td>308.0</td>\n",
       "    </tr>\n",
       "    <tr>\n",
       "      <th>whatareyousomekinda</th>\n",
       "      <td>1</td>\n",
       "      <td>94</td>\n",
       "      <td>94.0</td>\n",
       "    </tr>\n",
       "    <tr>\n",
       "      <th>Datashot</th>\n",
       "      <td>1</td>\n",
       "      <td>43</td>\n",
       "      <td>43.0</td>\n",
       "    </tr>\n",
       "    <tr>\n",
       "      <th>Aggravating_Money992</th>\n",
       "      <td>2</td>\n",
       "      <td>40</td>\n",
       "      <td>20.0</td>\n",
       "    </tr>\n",
       "    <tr>\n",
       "      <th>corgibestie</th>\n",
       "      <td>1</td>\n",
       "      <td>35</td>\n",
       "      <td>35.0</td>\n",
       "    </tr>\n",
       "    <tr>\n",
       "      <th>hammer-jon</th>\n",
       "      <td>1</td>\n",
       "      <td>31</td>\n",
       "      <td>31.0</td>\n",
       "    </tr>\n",
       "    <tr>\n",
       "      <th>dr-steve</th>\n",
       "      <td>1</td>\n",
       "      <td>22</td>\n",
       "      <td>22.0</td>\n",
       "    </tr>\n",
       "    <tr>\n",
       "      <th>snozburger</th>\n",
       "      <td>1</td>\n",
       "      <td>20</td>\n",
       "      <td>20.0</td>\n",
       "    </tr>\n",
       "  </tbody>\n",
       "</table>\n",
       "</div>"
      ],
      "text/plain": [
       "                      Post_Count  Total_Score  Avg_Score\n",
       "author                                                  \n",
       "Street_Anon                    1         1548     1548.0\n",
       "its-groit-craic                1          399      399.0\n",
       "EndofGods                      1          308      308.0\n",
       "whatareyousomekinda            1           94       94.0\n",
       "Datashot                       1           43       43.0\n",
       "Aggravating_Money992           2           40       20.0\n",
       "corgibestie                    1           35       35.0\n",
       "hammer-jon                     1           31       31.0\n",
       "dr-steve                       1           22       22.0\n",
       "snozburger                     1           20       20.0"
      ]
     },
     "metadata": {},
     "output_type": "display_data"
    },
    {
     "name": "stdout",
     "output_type": "stream",
     "text": [
      "\n",
      "📈 User Activity Summary:\n",
      "   • Total unique authors: 99\n",
      "   • Average posts per user: 1.2\n",
      "   • Average score per user: 27.24\n",
      "   • Most active user: Original_Garbage8557 (6 posts)\n",
      "   • Highest scoring user: Street_Anon (1548 total score)\n"
     ]
    }
   ],
   "source": [
    "def create_user_score_analysis():\n",
    "    \"\"\"Analyze user activity and scoring patterns\"\"\"\n",
    "    \n",
    "    data = historical_raw if not historical_raw.empty else (raw_df if raw_df is not None else pd.DataFrame())\n",
    "    \n",
    "    if data is None or data.empty:\n",
    "        print(\"⚠️ No data available for user analysis\")\n",
    "        return\n",
    "    \n",
    "    required_cols = ['author', 'score']\n",
    "    if not all(col in data.columns for col in required_cols):\n",
    "        print(f\"⚠️ Missing required columns. Available: {list(data.columns)}\")\n",
    "        return\n",
    "    \n",
    "    # User statistics\n",
    "    user_stats = data.groupby('author').agg({\n",
    "        'score': ['count', 'sum', 'mean', 'std'],\n",
    "        'id': 'count'\n",
    "    }).round(2)\n",
    "    \n",
    "    user_stats.columns = ['Score_Count', 'Total_Score', 'Avg_Score', 'Score_StdDev', 'Post_Count']\n",
    "    user_stats = user_stats.sort_values('Total_Score', ascending=False)\n",
    "    \n",
    "    # Remove any users with null/invalid names\n",
    "    user_stats = user_stats[user_stats.index.notna()]\n",
    "    \n",
    "    print(f\"✅ Analyzing {len(user_stats)} unique authors\")\n",
    "    \n",
    "    # Create visualizations\n",
    "    fig = make_subplots(\n",
    "        rows=2, cols=2,\n",
    "        subplot_titles=('🏆 Top Users by Total Score', '⭐ Average Score Distribution',\n",
    "                       '📊 Posts vs Average Score', '🎯 User Activity Levels'),\n",
    "        specs=[[{\"type\": \"bar\"}, {\"type\": \"histogram\"}],\n",
    "               [{\"type\": \"scatter\"}, {\"type\": \"pie\"}]]\n",
    "    )\n",
    "    \n",
    "    # Top users by total score\n",
    "    top_users = user_stats.head(10)\n",
    "    fig.add_trace(\n",
    "        go.Bar(x=top_users.index, y=top_users['Total_Score'],\n",
    "               name='Total Score', marker_color='#667eea',\n",
    "               text=top_users['Total_Score'], textposition='auto'),\n",
    "        row=1, col=1\n",
    "    )\n",
    "    \n",
    "    # Average score distribution\n",
    "    fig.add_trace(\n",
    "        go.Histogram(x=user_stats['Avg_Score'], nbinsx=25, \n",
    "                    name='Avg Score Distribution', \n",
    "                    marker_color='#f093fb', opacity=0.7),\n",
    "        row=1, col=2\n",
    "    )\n",
    "    \n",
    "    # Posts vs Average Score scatter\n",
    "    # Sample data if too many points\n",
    "    sample_size = min(100, len(user_stats))\n",
    "    sampled_users = user_stats.sample(sample_size) if len(user_stats) > sample_size else user_stats\n",
    "    \n",
    "    fig.add_trace(\n",
    "        go.Scatter(x=sampled_users['Post_Count'], y=sampled_users['Avg_Score'],\n",
    "                   mode='markers', name='User Activity',\n",
    "                   marker=dict(size=8, color=sampled_users['Total_Score'],\n",
    "                              colorscale='Viridis', showscale=True,\n",
    "                              colorbar=dict(title=\"Total Score\")),\n",
    "                   text=sampled_users.index, textposition=\"top center\"),\n",
    "        row=2, col=1\n",
    "    )\n",
    "    \n",
    "    # User activity levels pie chart\n",
    "    activity_levels = pd.cut(user_stats['Post_Count'], \n",
    "                           bins=[0, 1, 3, 10, float('inf')],\n",
    "                           labels=['Single Post', 'Low (2-3)', 'Medium (4-10)', 'High (10+)'])\n",
    "    activity_counts = activity_levels.value_counts()\n",
    "    \n",
    "    fig.add_trace(\n",
    "        go.Pie(labels=activity_counts.index, values=activity_counts.values,\n",
    "               name=\"Activity Levels\", hole=0.4,\n",
    "               marker_colors=['#43e97b', '#4facfe', '#f093fb', '#667eea']),\n",
    "        row=2, col=2\n",
    "    )\n",
    "    \n",
    "    fig.update_layout(\n",
    "        height=900,\n",
    "        title_text=\"👥 User Activity & Score Analysis\",\n",
    "        title_x=0.5,\n",
    "        template=\"plotly_white\"\n",
    "    )\n",
    "    \n",
    "    # Update x-axes for better readability\n",
    "    fig.update_xaxes(tickangle=45, row=1, col=1)\n",
    "    \n",
    "    fig.show()\n",
    "    \n",
    "    # Display top performers table\n",
    "    print(\"\\n🏆 Top 10 Users by Total Score:\")\n",
    "    display(top_users[['Post_Count', 'Total_Score', 'Avg_Score']].head(10))\n",
    "    \n",
    "    # Summary statistics\n",
    "    print(f\"\\n📈 User Activity Summary:\")\n",
    "    print(f\"   • Total unique authors: {len(user_stats)}\")\n",
    "    print(f\"   • Average posts per user: {user_stats['Post_Count'].mean():.1f}\")\n",
    "    print(f\"   • Average score per user: {user_stats['Avg_Score'].mean():.2f}\")\n",
    "    print(f\"   • Most active user: {user_stats['Post_Count'].idxmax()} ({user_stats['Post_Count'].max()} posts)\")\n",
    "    print(f\"   • Highest scoring user: {user_stats['Total_Score'].idxmax()} ({user_stats['Total_Score'].max()} total score)\")\n",
    "\n",
    "create_user_score_analysis()"
   ]
  },
  {
   "cell_type": "code",
   "execution_count": 27,
   "id": "9257082b-c189-4489-b3d6-d672f09d1e20",
   "metadata": {
    "editable": true,
    "slideshow": {
     "slide_type": ""
    },
    "tags": []
   },
   "outputs": [
    {
     "name": "stdout",
     "output_type": "stream",
     "text": [
      "🔍 STARTING HISTORICAL ANALYSIS\n",
      "==================================================\n",
      "📊 Dataset contains: 115 records\n",
      "📋 Available columns: ['id', 'type', 'title', 'text', 'full_text', 'author', 'score', 'upvote_ratio', 'num_comments', 'created_utc', 'created_datetime', 'url', 'permalink', 'post_id', 'is_self', 'is_submitter', 'over_18', 'spoiler', 'locked', 'user_references', 'subreddit_references', 'url_references', 'timestamp_received', 'spark_timestamp', 'processing_timestamp', 'batch_number', 'file_path', 'file_timestamp']\n",
      "✅ Batch Tracker: Using 'batch_number' column\n",
      "✅ Content Score: Using 'score' column\n",
      "✅ Content Type: Using 'type' column\n",
      "⚠️ Community: Column 'subreddit' not found\n",
      "✅ User: Using 'author' column\n",
      "✅ Timestamp: Using 'file_timestamp' column\n",
      "✅ Identifier: Using 'id' column\n",
      "📦 Found 23 different batches to analyze\n",
      "\n",
      "🧮 CALCULATING STATISTICS...\n",
      "✅ Generated 23 summary records\n",
      "\n",
      "📊 CREATING VISUALIZATIONS...\n"
     ]
    },
    {
     "data": {
      "application/vnd.plotly.v1+json": {
       "config": {
        "plotlyServerURL": "https://plot.ly"
       },
       "data": [
        {
         "line": {
          "color": "#e74c3c",
          "width": 3
         },
         "mode": "lines+markers",
         "name": "Data Volume",
         "type": "scatter",
         "x": {
          "bdata": "AQIDBAUGBwgJCgsMDQ4PEBESExQVFhc=",
          "dtype": "i1"
         },
         "xaxis": "x",
         "y": {
          "bdata": "DRQSBwQBAwUFAQMEBQQBBgEDBAECAwE=",
          "dtype": "i1"
         },
         "yaxis": "y"
        },
        {
         "marker": {
          "color": "#3498db"
         },
         "name": "batch_number",
         "type": "bar",
         "x": {
          "bdata": "AQIDBAUGBwgJCgsMDQ4PEBESExQVFhc=",
          "dtype": "i1"
         },
         "xaxis": "x2",
         "y": {
          "bdata": "AQIDBAUGBwgJCgsMDQ4PEBESExQVFhc=",
          "dtype": "i1"
         },
         "yaxis": "y2"
        },
        {
         "boxpoints": "outliers",
         "name": "Batch 16",
         "type": "box",
         "xaxis": "x3",
         "y": {
          "bdata": "AQAAAAEAAAABAAAAAQAAAAEAAAABAAAA",
          "dtype": "i4"
         },
         "yaxis": "y3"
        },
        {
         "boxpoints": "outliers",
         "name": "Batch 12",
         "type": "box",
         "xaxis": "x3",
         "y": {
          "bdata": "AQAAAAEAAAABAAAAAQAAAA==",
          "dtype": "i4"
         },
         "yaxis": "y3"
        },
        {
         "boxpoints": "outliers",
         "name": "Batch 2",
         "type": "box",
         "xaxis": "x3",
         "y": {
          "bdata": "FgAAAAAAAAAfAAAAAAAAAAIAAAALAAAABAAAAAEAAAACAAAABwAAAAEAAAArAAAAAAAAAAEAAAAIAAAACAAAACMAAAACAAAABAAAAAYAAAA=",
          "dtype": "i4"
         },
         "yaxis": "y3"
        },
        {
         "boxpoints": "outliers",
         "name": "Batch 1",
         "type": "box",
         "xaxis": "x3",
         "y": {
          "bdata": "AQAAAAAAAAABAAAAAAAAAAsAAAAAAAAAAwAAAAEAAAADAAAABwAAAAIAAAAFAAAAAQAAAA==",
          "dtype": "i4"
         },
         "yaxis": "y3"
        },
        {
         "boxpoints": "outliers",
         "name": "Batch 14",
         "type": "box",
         "xaxis": "x3",
         "y": {
          "bdata": "AQAAAAEAAAABAAAAAQAAAA==",
          "dtype": "i4"
         },
         "yaxis": "y3"
        },
        {
         "boxpoints": "outliers",
         "name": "Batch 9",
         "type": "box",
         "xaxis": "x3",
         "y": {
          "bdata": "AQAAAAEAAAABAAAAAQAAAAEAAAA=",
          "dtype": "i4"
         },
         "yaxis": "y3"
        },
        {
         "boxpoints": "outliers",
         "name": "Batch 20",
         "type": "box",
         "xaxis": "x3",
         "y": {
          "bdata": "AQAAAA==",
          "dtype": "i4"
         },
         "yaxis": "y3"
        },
        {
         "boxpoints": "outliers",
         "name": "Batch 15",
         "type": "box",
         "xaxis": "x3",
         "y": {
          "bdata": "AQAAAA==",
          "dtype": "i4"
         },
         "yaxis": "y3"
        },
        {
         "fill": "tonexty",
         "line": {
          "color": "#27ae60"
         },
         "name": "Unique Users",
         "type": "scatter",
         "x": {
          "bdata": "AQIDBAUGBwgJCgsMDQ4PEBESExQVFhc=",
          "dtype": "i1"
         },
         "xaxis": "x4",
         "y": {
          "bdata": "CxQSBgQBAwUFAQMEBQQBBQEDBAECAgE=",
          "dtype": "i1"
         },
         "yaxis": "y4"
        },
        {
         "name": "Score (Std)",
         "type": "bar",
         "x": {
          "bdata": "AQIDBAUGBwgJCgsMDQ4PEBESExQVFhc=",
          "dtype": "i1"
         },
         "xaxis": "x5",
         "y": {
          "bdata": "AAAAAAAACkCuR+F6FK4pQBSuR+F6LHdAcT0K16NwLEAAAAAAAAAAAAAAAAAAAPh/AAAAAAAAAAAAAAAAAAAAAAAAAAAAAAAAAAAAAAAA+H8AAAAAAAAAAAAAAAAAAAAAAAAAAAAAAAAAAAAAAAAAAAAAAAAAAPh/AAAAAAAAAAAAAAAAAAD4fwAAAAAAAAAAAAAAAAAAAAAAAAAAAAD4fwAAAAAAAAAAAAAAAAAAAAAAAAAAAAD4fw==",
          "dtype": "f8"
         },
         "yaxis": "y5"
        },
        {
         "name": "Score (Min)",
         "type": "bar",
         "x": {
          "bdata": "AQIDBAUGBwgJCgsMDQ4PEBESExQVFhc=",
          "dtype": "i1"
         },
         "xaxis": "x6",
         "y": {
          "bdata": "AAAAAAAAAAAAAAAAAQAAAAEAAAACAAAAAQAAAAEAAAABAAAAAQAAAAEAAAABAAAAAQAAAAEAAAABAAAAAQAAAAEAAAABAAAAAQAAAAEAAAABAAAAAQAAAAEAAAA=",
          "dtype": "i4"
         },
         "yaxis": "y6"
        }
       ],
       "layout": {
        "annotations": [
         {
          "font": {
           "size": 16
          },
          "showarrow": false,
          "text": "Timeline Analysis",
          "x": 0.225,
          "xanchor": "center",
          "xref": "paper",
          "y": 1,
          "yanchor": "bottom",
          "yref": "paper"
         },
         {
          "font": {
           "size": 16
          },
          "showarrow": false,
          "text": "Batch Comparison",
          "x": 0.775,
          "xanchor": "center",
          "xref": "paper",
          "y": 1,
          "yanchor": "bottom",
          "yref": "paper"
         },
         {
          "font": {
           "size": 16
          },
          "showarrow": false,
          "text": "Score Distribution",
          "x": 0.225,
          "xanchor": "center",
          "xref": "paper",
          "y": 0.6111111111111112,
          "yanchor": "bottom",
          "yref": "paper"
         },
         {
          "font": {
           "size": 16
          },
          "showarrow": false,
          "text": "Growth Trends",
          "x": 0.775,
          "xanchor": "center",
          "xref": "paper",
          "y": 0.6111111111111112,
          "yanchor": "bottom",
          "yref": "paper"
         },
         {
          "font": {
           "size": 16
          },
          "showarrow": false,
          "text": "Community Analysis",
          "x": 0.225,
          "xanchor": "center",
          "xref": "paper",
          "y": 0.22222222222222224,
          "yanchor": "bottom",
          "yref": "paper"
         },
         {
          "font": {
           "size": 16
          },
          "showarrow": false,
          "text": "User Activity",
          "x": 0.775,
          "xanchor": "center",
          "xref": "paper",
          "y": 0.22222222222222224,
          "yanchor": "bottom",
          "yref": "paper"
         }
        ],
        "height": 1000,
        "showlegend": true,
        "template": {
         "data": {
          "bar": [
           {
            "error_x": {
             "color": "#2a3f5f"
            },
            "error_y": {
             "color": "#2a3f5f"
            },
            "marker": {
             "line": {
              "color": "white",
              "width": 0.5
             },
             "pattern": {
              "fillmode": "overlay",
              "size": 10,
              "solidity": 0.2
             }
            },
            "type": "bar"
           }
          ],
          "barpolar": [
           {
            "marker": {
             "line": {
              "color": "white",
              "width": 0.5
             },
             "pattern": {
              "fillmode": "overlay",
              "size": 10,
              "solidity": 0.2
             }
            },
            "type": "barpolar"
           }
          ],
          "carpet": [
           {
            "aaxis": {
             "endlinecolor": "#2a3f5f",
             "gridcolor": "#C8D4E3",
             "linecolor": "#C8D4E3",
             "minorgridcolor": "#C8D4E3",
             "startlinecolor": "#2a3f5f"
            },
            "baxis": {
             "endlinecolor": "#2a3f5f",
             "gridcolor": "#C8D4E3",
             "linecolor": "#C8D4E3",
             "minorgridcolor": "#C8D4E3",
             "startlinecolor": "#2a3f5f"
            },
            "type": "carpet"
           }
          ],
          "choropleth": [
           {
            "colorbar": {
             "outlinewidth": 0,
             "ticks": ""
            },
            "type": "choropleth"
           }
          ],
          "contour": [
           {
            "colorbar": {
             "outlinewidth": 0,
             "ticks": ""
            },
            "colorscale": [
             [
              0,
              "#0d0887"
             ],
             [
              0.1111111111111111,
              "#46039f"
             ],
             [
              0.2222222222222222,
              "#7201a8"
             ],
             [
              0.3333333333333333,
              "#9c179e"
             ],
             [
              0.4444444444444444,
              "#bd3786"
             ],
             [
              0.5555555555555556,
              "#d8576b"
             ],
             [
              0.6666666666666666,
              "#ed7953"
             ],
             [
              0.7777777777777778,
              "#fb9f3a"
             ],
             [
              0.8888888888888888,
              "#fdca26"
             ],
             [
              1,
              "#f0f921"
             ]
            ],
            "type": "contour"
           }
          ],
          "contourcarpet": [
           {
            "colorbar": {
             "outlinewidth": 0,
             "ticks": ""
            },
            "type": "contourcarpet"
           }
          ],
          "heatmap": [
           {
            "colorbar": {
             "outlinewidth": 0,
             "ticks": ""
            },
            "colorscale": [
             [
              0,
              "#0d0887"
             ],
             [
              0.1111111111111111,
              "#46039f"
             ],
             [
              0.2222222222222222,
              "#7201a8"
             ],
             [
              0.3333333333333333,
              "#9c179e"
             ],
             [
              0.4444444444444444,
              "#bd3786"
             ],
             [
              0.5555555555555556,
              "#d8576b"
             ],
             [
              0.6666666666666666,
              "#ed7953"
             ],
             [
              0.7777777777777778,
              "#fb9f3a"
             ],
             [
              0.8888888888888888,
              "#fdca26"
             ],
             [
              1,
              "#f0f921"
             ]
            ],
            "type": "heatmap"
           }
          ],
          "histogram": [
           {
            "marker": {
             "pattern": {
              "fillmode": "overlay",
              "size": 10,
              "solidity": 0.2
             }
            },
            "type": "histogram"
           }
          ],
          "histogram2d": [
           {
            "colorbar": {
             "outlinewidth": 0,
             "ticks": ""
            },
            "colorscale": [
             [
              0,
              "#0d0887"
             ],
             [
              0.1111111111111111,
              "#46039f"
             ],
             [
              0.2222222222222222,
              "#7201a8"
             ],
             [
              0.3333333333333333,
              "#9c179e"
             ],
             [
              0.4444444444444444,
              "#bd3786"
             ],
             [
              0.5555555555555556,
              "#d8576b"
             ],
             [
              0.6666666666666666,
              "#ed7953"
             ],
             [
              0.7777777777777778,
              "#fb9f3a"
             ],
             [
              0.8888888888888888,
              "#fdca26"
             ],
             [
              1,
              "#f0f921"
             ]
            ],
            "type": "histogram2d"
           }
          ],
          "histogram2dcontour": [
           {
            "colorbar": {
             "outlinewidth": 0,
             "ticks": ""
            },
            "colorscale": [
             [
              0,
              "#0d0887"
             ],
             [
              0.1111111111111111,
              "#46039f"
             ],
             [
              0.2222222222222222,
              "#7201a8"
             ],
             [
              0.3333333333333333,
              "#9c179e"
             ],
             [
              0.4444444444444444,
              "#bd3786"
             ],
             [
              0.5555555555555556,
              "#d8576b"
             ],
             [
              0.6666666666666666,
              "#ed7953"
             ],
             [
              0.7777777777777778,
              "#fb9f3a"
             ],
             [
              0.8888888888888888,
              "#fdca26"
             ],
             [
              1,
              "#f0f921"
             ]
            ],
            "type": "histogram2dcontour"
           }
          ],
          "mesh3d": [
           {
            "colorbar": {
             "outlinewidth": 0,
             "ticks": ""
            },
            "type": "mesh3d"
           }
          ],
          "parcoords": [
           {
            "line": {
             "colorbar": {
              "outlinewidth": 0,
              "ticks": ""
             }
            },
            "type": "parcoords"
           }
          ],
          "pie": [
           {
            "automargin": true,
            "type": "pie"
           }
          ],
          "scatter": [
           {
            "fillpattern": {
             "fillmode": "overlay",
             "size": 10,
             "solidity": 0.2
            },
            "type": "scatter"
           }
          ],
          "scatter3d": [
           {
            "line": {
             "colorbar": {
              "outlinewidth": 0,
              "ticks": ""
             }
            },
            "marker": {
             "colorbar": {
              "outlinewidth": 0,
              "ticks": ""
             }
            },
            "type": "scatter3d"
           }
          ],
          "scattercarpet": [
           {
            "marker": {
             "colorbar": {
              "outlinewidth": 0,
              "ticks": ""
             }
            },
            "type": "scattercarpet"
           }
          ],
          "scattergeo": [
           {
            "marker": {
             "colorbar": {
              "outlinewidth": 0,
              "ticks": ""
             }
            },
            "type": "scattergeo"
           }
          ],
          "scattergl": [
           {
            "marker": {
             "colorbar": {
              "outlinewidth": 0,
              "ticks": ""
             }
            },
            "type": "scattergl"
           }
          ],
          "scattermap": [
           {
            "marker": {
             "colorbar": {
              "outlinewidth": 0,
              "ticks": ""
             }
            },
            "type": "scattermap"
           }
          ],
          "scattermapbox": [
           {
            "marker": {
             "colorbar": {
              "outlinewidth": 0,
              "ticks": ""
             }
            },
            "type": "scattermapbox"
           }
          ],
          "scatterpolar": [
           {
            "marker": {
             "colorbar": {
              "outlinewidth": 0,
              "ticks": ""
             }
            },
            "type": "scatterpolar"
           }
          ],
          "scatterpolargl": [
           {
            "marker": {
             "colorbar": {
              "outlinewidth": 0,
              "ticks": ""
             }
            },
            "type": "scatterpolargl"
           }
          ],
          "scatterternary": [
           {
            "marker": {
             "colorbar": {
              "outlinewidth": 0,
              "ticks": ""
             }
            },
            "type": "scatterternary"
           }
          ],
          "surface": [
           {
            "colorbar": {
             "outlinewidth": 0,
             "ticks": ""
            },
            "colorscale": [
             [
              0,
              "#0d0887"
             ],
             [
              0.1111111111111111,
              "#46039f"
             ],
             [
              0.2222222222222222,
              "#7201a8"
             ],
             [
              0.3333333333333333,
              "#9c179e"
             ],
             [
              0.4444444444444444,
              "#bd3786"
             ],
             [
              0.5555555555555556,
              "#d8576b"
             ],
             [
              0.6666666666666666,
              "#ed7953"
             ],
             [
              0.7777777777777778,
              "#fb9f3a"
             ],
             [
              0.8888888888888888,
              "#fdca26"
             ],
             [
              1,
              "#f0f921"
             ]
            ],
            "type": "surface"
           }
          ],
          "table": [
           {
            "cells": {
             "fill": {
              "color": "#EBF0F8"
             },
             "line": {
              "color": "white"
             }
            },
            "header": {
             "fill": {
              "color": "#C8D4E3"
             },
             "line": {
              "color": "white"
             }
            },
            "type": "table"
           }
          ]
         },
         "layout": {
          "annotationdefaults": {
           "arrowcolor": "#2a3f5f",
           "arrowhead": 0,
           "arrowwidth": 1
          },
          "autotypenumbers": "strict",
          "coloraxis": {
           "colorbar": {
            "outlinewidth": 0,
            "ticks": ""
           }
          },
          "colorscale": {
           "diverging": [
            [
             0,
             "#8e0152"
            ],
            [
             0.1,
             "#c51b7d"
            ],
            [
             0.2,
             "#de77ae"
            ],
            [
             0.3,
             "#f1b6da"
            ],
            [
             0.4,
             "#fde0ef"
            ],
            [
             0.5,
             "#f7f7f7"
            ],
            [
             0.6,
             "#e6f5d0"
            ],
            [
             0.7,
             "#b8e186"
            ],
            [
             0.8,
             "#7fbc41"
            ],
            [
             0.9,
             "#4d9221"
            ],
            [
             1,
             "#276419"
            ]
           ],
           "sequential": [
            [
             0,
             "#0d0887"
            ],
            [
             0.1111111111111111,
             "#46039f"
            ],
            [
             0.2222222222222222,
             "#7201a8"
            ],
            [
             0.3333333333333333,
             "#9c179e"
            ],
            [
             0.4444444444444444,
             "#bd3786"
            ],
            [
             0.5555555555555556,
             "#d8576b"
            ],
            [
             0.6666666666666666,
             "#ed7953"
            ],
            [
             0.7777777777777778,
             "#fb9f3a"
            ],
            [
             0.8888888888888888,
             "#fdca26"
            ],
            [
             1,
             "#f0f921"
            ]
           ],
           "sequentialminus": [
            [
             0,
             "#0d0887"
            ],
            [
             0.1111111111111111,
             "#46039f"
            ],
            [
             0.2222222222222222,
             "#7201a8"
            ],
            [
             0.3333333333333333,
             "#9c179e"
            ],
            [
             0.4444444444444444,
             "#bd3786"
            ],
            [
             0.5555555555555556,
             "#d8576b"
            ],
            [
             0.6666666666666666,
             "#ed7953"
            ],
            [
             0.7777777777777778,
             "#fb9f3a"
            ],
            [
             0.8888888888888888,
             "#fdca26"
            ],
            [
             1,
             "#f0f921"
            ]
           ]
          },
          "colorway": [
           "#636efa",
           "#EF553B",
           "#00cc96",
           "#ab63fa",
           "#FFA15A",
           "#19d3f3",
           "#FF6692",
           "#B6E880",
           "#FF97FF",
           "#FECB52"
          ],
          "font": {
           "color": "#2a3f5f"
          },
          "geo": {
           "bgcolor": "white",
           "lakecolor": "white",
           "landcolor": "white",
           "showlakes": true,
           "showland": true,
           "subunitcolor": "#C8D4E3"
          },
          "hoverlabel": {
           "align": "left"
          },
          "hovermode": "closest",
          "mapbox": {
           "style": "light"
          },
          "paper_bgcolor": "white",
          "plot_bgcolor": "white",
          "polar": {
           "angularaxis": {
            "gridcolor": "#EBF0F8",
            "linecolor": "#EBF0F8",
            "ticks": ""
           },
           "bgcolor": "white",
           "radialaxis": {
            "gridcolor": "#EBF0F8",
            "linecolor": "#EBF0F8",
            "ticks": ""
           }
          },
          "scene": {
           "xaxis": {
            "backgroundcolor": "white",
            "gridcolor": "#DFE8F3",
            "gridwidth": 2,
            "linecolor": "#EBF0F8",
            "showbackground": true,
            "ticks": "",
            "zerolinecolor": "#EBF0F8"
           },
           "yaxis": {
            "backgroundcolor": "white",
            "gridcolor": "#DFE8F3",
            "gridwidth": 2,
            "linecolor": "#EBF0F8",
            "showbackground": true,
            "ticks": "",
            "zerolinecolor": "#EBF0F8"
           },
           "zaxis": {
            "backgroundcolor": "white",
            "gridcolor": "#DFE8F3",
            "gridwidth": 2,
            "linecolor": "#EBF0F8",
            "showbackground": true,
            "ticks": "",
            "zerolinecolor": "#EBF0F8"
           }
          },
          "shapedefaults": {
           "line": {
            "color": "#2a3f5f"
           }
          },
          "ternary": {
           "aaxis": {
            "gridcolor": "#DFE8F3",
            "linecolor": "#A2B1C6",
            "ticks": ""
           },
           "baxis": {
            "gridcolor": "#DFE8F3",
            "linecolor": "#A2B1C6",
            "ticks": ""
           },
           "bgcolor": "white",
           "caxis": {
            "gridcolor": "#DFE8F3",
            "linecolor": "#A2B1C6",
            "ticks": ""
           }
          },
          "title": {
           "x": 0.05
          },
          "xaxis": {
           "automargin": true,
           "gridcolor": "#EBF0F8",
           "linecolor": "#EBF0F8",
           "ticks": "",
           "title": {
            "standoff": 15
           },
           "zerolinecolor": "#EBF0F8",
           "zerolinewidth": 2
          },
          "yaxis": {
           "automargin": true,
           "gridcolor": "#EBF0F8",
           "linecolor": "#EBF0F8",
           "ticks": "",
           "title": {
            "standoff": 15
           },
           "zerolinecolor": "#EBF0F8",
           "zerolinewidth": 2
          }
         }
        },
        "title": {
         "text": "📈 Historical Reddit Data Analysis Dashboard",
         "x": 0.5
        },
        "xaxis": {
         "anchor": "y",
         "domain": [
          0,
          0.45
         ]
        },
        "xaxis2": {
         "anchor": "y2",
         "domain": [
          0.55,
          1
         ]
        },
        "xaxis3": {
         "anchor": "y3",
         "domain": [
          0,
          0.45
         ]
        },
        "xaxis4": {
         "anchor": "y4",
         "domain": [
          0.55,
          1
         ]
        },
        "xaxis5": {
         "anchor": "y5",
         "domain": [
          0,
          0.45
         ]
        },
        "xaxis6": {
         "anchor": "y6",
         "domain": [
          0.55,
          1
         ]
        },
        "yaxis": {
         "anchor": "x",
         "domain": [
          0.7777777777777778,
          1
         ]
        },
        "yaxis2": {
         "anchor": "x2",
         "domain": [
          0.7777777777777778,
          1
         ]
        },
        "yaxis3": {
         "anchor": "x3",
         "domain": [
          0.3888888888888889,
          0.6111111111111112
         ]
        },
        "yaxis4": {
         "anchor": "x4",
         "domain": [
          0.3888888888888889,
          0.6111111111111112
         ]
        },
        "yaxis5": {
         "anchor": "x5",
         "domain": [
          0,
          0.22222222222222224
         ]
        },
        "yaxis6": {
         "anchor": "x6",
         "domain": [
          0,
          0.22222222222222224
         ]
        }
       }
      },
      "text/html": [
       "<div>            <script src=\"https://cdnjs.cloudflare.com/ajax/libs/mathjax/2.7.5/MathJax.js?config=TeX-AMS-MML_SVG\"></script><script type=\"text/javascript\">if (window.MathJax && window.MathJax.Hub && window.MathJax.Hub.Config) {window.MathJax.Hub.Config({SVG: {font: \"STIX-Web\"}});}</script>                <script type=\"text/javascript\">window.PlotlyConfig = {MathJaxConfig: 'local'};</script>\n",
       "        <script charset=\"utf-8\" src=\"https://cdn.plot.ly/plotly-3.0.1.min.js\"></script>                <div id=\"83024ba7-ee64-49e2-83be-4fe1c08685ff\" class=\"plotly-graph-div\" style=\"height:1000px; width:100%;\"></div>            <script type=\"text/javascript\">                window.PLOTLYENV=window.PLOTLYENV || {};                                if (document.getElementById(\"83024ba7-ee64-49e2-83be-4fe1c08685ff\")) {                    Plotly.newPlot(                        \"83024ba7-ee64-49e2-83be-4fe1c08685ff\",                        [{\"line\":{\"color\":\"#e74c3c\",\"width\":3},\"mode\":\"lines+markers\",\"name\":\"Data Volume\",\"x\":{\"dtype\":\"i1\",\"bdata\":\"AQIDBAUGBwgJCgsMDQ4PEBESExQVFhc=\"},\"y\":{\"dtype\":\"i1\",\"bdata\":\"DRQSBwQBAwUFAQMEBQQBBgEDBAECAwE=\"},\"type\":\"scatter\",\"xaxis\":\"x\",\"yaxis\":\"y\"},{\"marker\":{\"color\":\"#3498db\"},\"name\":\"batch_number\",\"x\":{\"dtype\":\"i1\",\"bdata\":\"AQIDBAUGBwgJCgsMDQ4PEBESExQVFhc=\"},\"y\":{\"dtype\":\"i1\",\"bdata\":\"AQIDBAUGBwgJCgsMDQ4PEBESExQVFhc=\"},\"type\":\"bar\",\"xaxis\":\"x2\",\"yaxis\":\"y2\"},{\"boxpoints\":\"outliers\",\"name\":\"Batch 16\",\"y\":{\"dtype\":\"i4\",\"bdata\":\"AQAAAAEAAAABAAAAAQAAAAEAAAABAAAA\"},\"type\":\"box\",\"xaxis\":\"x3\",\"yaxis\":\"y3\"},{\"boxpoints\":\"outliers\",\"name\":\"Batch 12\",\"y\":{\"dtype\":\"i4\",\"bdata\":\"AQAAAAEAAAABAAAAAQAAAA==\"},\"type\":\"box\",\"xaxis\":\"x3\",\"yaxis\":\"y3\"},{\"boxpoints\":\"outliers\",\"name\":\"Batch 2\",\"y\":{\"dtype\":\"i4\",\"bdata\":\"FgAAAAAAAAAfAAAAAAAAAAIAAAALAAAABAAAAAEAAAACAAAABwAAAAEAAAArAAAAAAAAAAEAAAAIAAAACAAAACMAAAACAAAABAAAAAYAAAA=\"},\"type\":\"box\",\"xaxis\":\"x3\",\"yaxis\":\"y3\"},{\"boxpoints\":\"outliers\",\"name\":\"Batch 1\",\"y\":{\"dtype\":\"i4\",\"bdata\":\"AQAAAAAAAAABAAAAAAAAAAsAAAAAAAAAAwAAAAEAAAADAAAABwAAAAIAAAAFAAAAAQAAAA==\"},\"type\":\"box\",\"xaxis\":\"x3\",\"yaxis\":\"y3\"},{\"boxpoints\":\"outliers\",\"name\":\"Batch 14\",\"y\":{\"dtype\":\"i4\",\"bdata\":\"AQAAAAEAAAABAAAAAQAAAA==\"},\"type\":\"box\",\"xaxis\":\"x3\",\"yaxis\":\"y3\"},{\"boxpoints\":\"outliers\",\"name\":\"Batch 9\",\"y\":{\"dtype\":\"i4\",\"bdata\":\"AQAAAAEAAAABAAAAAQAAAAEAAAA=\"},\"type\":\"box\",\"xaxis\":\"x3\",\"yaxis\":\"y3\"},{\"boxpoints\":\"outliers\",\"name\":\"Batch 20\",\"y\":{\"dtype\":\"i4\",\"bdata\":\"AQAAAA==\"},\"type\":\"box\",\"xaxis\":\"x3\",\"yaxis\":\"y3\"},{\"boxpoints\":\"outliers\",\"name\":\"Batch 15\",\"y\":{\"dtype\":\"i4\",\"bdata\":\"AQAAAA==\"},\"type\":\"box\",\"xaxis\":\"x3\",\"yaxis\":\"y3\"},{\"fill\":\"tonexty\",\"line\":{\"color\":\"#27ae60\"},\"name\":\"Unique Users\",\"x\":{\"dtype\":\"i1\",\"bdata\":\"AQIDBAUGBwgJCgsMDQ4PEBESExQVFhc=\"},\"y\":{\"dtype\":\"i1\",\"bdata\":\"CxQSBgQBAwUFAQMEBQQBBQEDBAECAgE=\"},\"type\":\"scatter\",\"xaxis\":\"x4\",\"yaxis\":\"y4\"},{\"name\":\"Score (Std)\",\"x\":{\"dtype\":\"i1\",\"bdata\":\"AQIDBAUGBwgJCgsMDQ4PEBESExQVFhc=\"},\"y\":{\"dtype\":\"f8\",\"bdata\":\"AAAAAAAACkCuR+F6FK4pQBSuR+F6LHdAcT0K16NwLEAAAAAAAAAAAAAAAAAAAPh\\u002fAAAAAAAAAAAAAAAAAAAAAAAAAAAAAAAAAAAAAAAA+H8AAAAAAAAAAAAAAAAAAAAAAAAAAAAAAAAAAAAAAAAAAAAAAAAAAPh\\u002fAAAAAAAAAAAAAAAAAAD4fwAAAAAAAAAAAAAAAAAAAAAAAAAAAAD4fwAAAAAAAAAAAAAAAAAAAAAAAAAAAAD4fw==\"},\"type\":\"bar\",\"xaxis\":\"x5\",\"yaxis\":\"y5\"},{\"name\":\"Score (Min)\",\"x\":{\"dtype\":\"i1\",\"bdata\":\"AQIDBAUGBwgJCgsMDQ4PEBESExQVFhc=\"},\"y\":{\"dtype\":\"i4\",\"bdata\":\"AAAAAAAAAAAAAAAAAQAAAAEAAAACAAAAAQAAAAEAAAABAAAAAQAAAAEAAAABAAAAAQAAAAEAAAABAAAAAQAAAAEAAAABAAAAAQAAAAEAAAABAAAAAQAAAAEAAAA=\"},\"type\":\"bar\",\"xaxis\":\"x6\",\"yaxis\":\"y6\"}],                        {\"template\":{\"data\":{\"barpolar\":[{\"marker\":{\"line\":{\"color\":\"white\",\"width\":0.5},\"pattern\":{\"fillmode\":\"overlay\",\"size\":10,\"solidity\":0.2}},\"type\":\"barpolar\"}],\"bar\":[{\"error_x\":{\"color\":\"#2a3f5f\"},\"error_y\":{\"color\":\"#2a3f5f\"},\"marker\":{\"line\":{\"color\":\"white\",\"width\":0.5},\"pattern\":{\"fillmode\":\"overlay\",\"size\":10,\"solidity\":0.2}},\"type\":\"bar\"}],\"carpet\":[{\"aaxis\":{\"endlinecolor\":\"#2a3f5f\",\"gridcolor\":\"#C8D4E3\",\"linecolor\":\"#C8D4E3\",\"minorgridcolor\":\"#C8D4E3\",\"startlinecolor\":\"#2a3f5f\"},\"baxis\":{\"endlinecolor\":\"#2a3f5f\",\"gridcolor\":\"#C8D4E3\",\"linecolor\":\"#C8D4E3\",\"minorgridcolor\":\"#C8D4E3\",\"startlinecolor\":\"#2a3f5f\"},\"type\":\"carpet\"}],\"choropleth\":[{\"colorbar\":{\"outlinewidth\":0,\"ticks\":\"\"},\"type\":\"choropleth\"}],\"contourcarpet\":[{\"colorbar\":{\"outlinewidth\":0,\"ticks\":\"\"},\"type\":\"contourcarpet\"}],\"contour\":[{\"colorbar\":{\"outlinewidth\":0,\"ticks\":\"\"},\"colorscale\":[[0.0,\"#0d0887\"],[0.1111111111111111,\"#46039f\"],[0.2222222222222222,\"#7201a8\"],[0.3333333333333333,\"#9c179e\"],[0.4444444444444444,\"#bd3786\"],[0.5555555555555556,\"#d8576b\"],[0.6666666666666666,\"#ed7953\"],[0.7777777777777778,\"#fb9f3a\"],[0.8888888888888888,\"#fdca26\"],[1.0,\"#f0f921\"]],\"type\":\"contour\"}],\"heatmap\":[{\"colorbar\":{\"outlinewidth\":0,\"ticks\":\"\"},\"colorscale\":[[0.0,\"#0d0887\"],[0.1111111111111111,\"#46039f\"],[0.2222222222222222,\"#7201a8\"],[0.3333333333333333,\"#9c179e\"],[0.4444444444444444,\"#bd3786\"],[0.5555555555555556,\"#d8576b\"],[0.6666666666666666,\"#ed7953\"],[0.7777777777777778,\"#fb9f3a\"],[0.8888888888888888,\"#fdca26\"],[1.0,\"#f0f921\"]],\"type\":\"heatmap\"}],\"histogram2dcontour\":[{\"colorbar\":{\"outlinewidth\":0,\"ticks\":\"\"},\"colorscale\":[[0.0,\"#0d0887\"],[0.1111111111111111,\"#46039f\"],[0.2222222222222222,\"#7201a8\"],[0.3333333333333333,\"#9c179e\"],[0.4444444444444444,\"#bd3786\"],[0.5555555555555556,\"#d8576b\"],[0.6666666666666666,\"#ed7953\"],[0.7777777777777778,\"#fb9f3a\"],[0.8888888888888888,\"#fdca26\"],[1.0,\"#f0f921\"]],\"type\":\"histogram2dcontour\"}],\"histogram2d\":[{\"colorbar\":{\"outlinewidth\":0,\"ticks\":\"\"},\"colorscale\":[[0.0,\"#0d0887\"],[0.1111111111111111,\"#46039f\"],[0.2222222222222222,\"#7201a8\"],[0.3333333333333333,\"#9c179e\"],[0.4444444444444444,\"#bd3786\"],[0.5555555555555556,\"#d8576b\"],[0.6666666666666666,\"#ed7953\"],[0.7777777777777778,\"#fb9f3a\"],[0.8888888888888888,\"#fdca26\"],[1.0,\"#f0f921\"]],\"type\":\"histogram2d\"}],\"histogram\":[{\"marker\":{\"pattern\":{\"fillmode\":\"overlay\",\"size\":10,\"solidity\":0.2}},\"type\":\"histogram\"}],\"mesh3d\":[{\"colorbar\":{\"outlinewidth\":0,\"ticks\":\"\"},\"type\":\"mesh3d\"}],\"parcoords\":[{\"line\":{\"colorbar\":{\"outlinewidth\":0,\"ticks\":\"\"}},\"type\":\"parcoords\"}],\"pie\":[{\"automargin\":true,\"type\":\"pie\"}],\"scatter3d\":[{\"line\":{\"colorbar\":{\"outlinewidth\":0,\"ticks\":\"\"}},\"marker\":{\"colorbar\":{\"outlinewidth\":0,\"ticks\":\"\"}},\"type\":\"scatter3d\"}],\"scattercarpet\":[{\"marker\":{\"colorbar\":{\"outlinewidth\":0,\"ticks\":\"\"}},\"type\":\"scattercarpet\"}],\"scattergeo\":[{\"marker\":{\"colorbar\":{\"outlinewidth\":0,\"ticks\":\"\"}},\"type\":\"scattergeo\"}],\"scattergl\":[{\"marker\":{\"colorbar\":{\"outlinewidth\":0,\"ticks\":\"\"}},\"type\":\"scattergl\"}],\"scattermapbox\":[{\"marker\":{\"colorbar\":{\"outlinewidth\":0,\"ticks\":\"\"}},\"type\":\"scattermapbox\"}],\"scattermap\":[{\"marker\":{\"colorbar\":{\"outlinewidth\":0,\"ticks\":\"\"}},\"type\":\"scattermap\"}],\"scatterpolargl\":[{\"marker\":{\"colorbar\":{\"outlinewidth\":0,\"ticks\":\"\"}},\"type\":\"scatterpolargl\"}],\"scatterpolar\":[{\"marker\":{\"colorbar\":{\"outlinewidth\":0,\"ticks\":\"\"}},\"type\":\"scatterpolar\"}],\"scatter\":[{\"fillpattern\":{\"fillmode\":\"overlay\",\"size\":10,\"solidity\":0.2},\"type\":\"scatter\"}],\"scatterternary\":[{\"marker\":{\"colorbar\":{\"outlinewidth\":0,\"ticks\":\"\"}},\"type\":\"scatterternary\"}],\"surface\":[{\"colorbar\":{\"outlinewidth\":0,\"ticks\":\"\"},\"colorscale\":[[0.0,\"#0d0887\"],[0.1111111111111111,\"#46039f\"],[0.2222222222222222,\"#7201a8\"],[0.3333333333333333,\"#9c179e\"],[0.4444444444444444,\"#bd3786\"],[0.5555555555555556,\"#d8576b\"],[0.6666666666666666,\"#ed7953\"],[0.7777777777777778,\"#fb9f3a\"],[0.8888888888888888,\"#fdca26\"],[1.0,\"#f0f921\"]],\"type\":\"surface\"}],\"table\":[{\"cells\":{\"fill\":{\"color\":\"#EBF0F8\"},\"line\":{\"color\":\"white\"}},\"header\":{\"fill\":{\"color\":\"#C8D4E3\"},\"line\":{\"color\":\"white\"}},\"type\":\"table\"}]},\"layout\":{\"annotationdefaults\":{\"arrowcolor\":\"#2a3f5f\",\"arrowhead\":0,\"arrowwidth\":1},\"autotypenumbers\":\"strict\",\"coloraxis\":{\"colorbar\":{\"outlinewidth\":0,\"ticks\":\"\"}},\"colorscale\":{\"diverging\":[[0,\"#8e0152\"],[0.1,\"#c51b7d\"],[0.2,\"#de77ae\"],[0.3,\"#f1b6da\"],[0.4,\"#fde0ef\"],[0.5,\"#f7f7f7\"],[0.6,\"#e6f5d0\"],[0.7,\"#b8e186\"],[0.8,\"#7fbc41\"],[0.9,\"#4d9221\"],[1,\"#276419\"]],\"sequential\":[[0.0,\"#0d0887\"],[0.1111111111111111,\"#46039f\"],[0.2222222222222222,\"#7201a8\"],[0.3333333333333333,\"#9c179e\"],[0.4444444444444444,\"#bd3786\"],[0.5555555555555556,\"#d8576b\"],[0.6666666666666666,\"#ed7953\"],[0.7777777777777778,\"#fb9f3a\"],[0.8888888888888888,\"#fdca26\"],[1.0,\"#f0f921\"]],\"sequentialminus\":[[0.0,\"#0d0887\"],[0.1111111111111111,\"#46039f\"],[0.2222222222222222,\"#7201a8\"],[0.3333333333333333,\"#9c179e\"],[0.4444444444444444,\"#bd3786\"],[0.5555555555555556,\"#d8576b\"],[0.6666666666666666,\"#ed7953\"],[0.7777777777777778,\"#fb9f3a\"],[0.8888888888888888,\"#fdca26\"],[1.0,\"#f0f921\"]]},\"colorway\":[\"#636efa\",\"#EF553B\",\"#00cc96\",\"#ab63fa\",\"#FFA15A\",\"#19d3f3\",\"#FF6692\",\"#B6E880\",\"#FF97FF\",\"#FECB52\"],\"font\":{\"color\":\"#2a3f5f\"},\"geo\":{\"bgcolor\":\"white\",\"lakecolor\":\"white\",\"landcolor\":\"white\",\"showlakes\":true,\"showland\":true,\"subunitcolor\":\"#C8D4E3\"},\"hoverlabel\":{\"align\":\"left\"},\"hovermode\":\"closest\",\"mapbox\":{\"style\":\"light\"},\"paper_bgcolor\":\"white\",\"plot_bgcolor\":\"white\",\"polar\":{\"angularaxis\":{\"gridcolor\":\"#EBF0F8\",\"linecolor\":\"#EBF0F8\",\"ticks\":\"\"},\"bgcolor\":\"white\",\"radialaxis\":{\"gridcolor\":\"#EBF0F8\",\"linecolor\":\"#EBF0F8\",\"ticks\":\"\"}},\"scene\":{\"xaxis\":{\"backgroundcolor\":\"white\",\"gridcolor\":\"#DFE8F3\",\"gridwidth\":2,\"linecolor\":\"#EBF0F8\",\"showbackground\":true,\"ticks\":\"\",\"zerolinecolor\":\"#EBF0F8\"},\"yaxis\":{\"backgroundcolor\":\"white\",\"gridcolor\":\"#DFE8F3\",\"gridwidth\":2,\"linecolor\":\"#EBF0F8\",\"showbackground\":true,\"ticks\":\"\",\"zerolinecolor\":\"#EBF0F8\"},\"zaxis\":{\"backgroundcolor\":\"white\",\"gridcolor\":\"#DFE8F3\",\"gridwidth\":2,\"linecolor\":\"#EBF0F8\",\"showbackground\":true,\"ticks\":\"\",\"zerolinecolor\":\"#EBF0F8\"}},\"shapedefaults\":{\"line\":{\"color\":\"#2a3f5f\"}},\"ternary\":{\"aaxis\":{\"gridcolor\":\"#DFE8F3\",\"linecolor\":\"#A2B1C6\",\"ticks\":\"\"},\"baxis\":{\"gridcolor\":\"#DFE8F3\",\"linecolor\":\"#A2B1C6\",\"ticks\":\"\"},\"bgcolor\":\"white\",\"caxis\":{\"gridcolor\":\"#DFE8F3\",\"linecolor\":\"#A2B1C6\",\"ticks\":\"\"}},\"title\":{\"x\":0.05},\"xaxis\":{\"automargin\":true,\"gridcolor\":\"#EBF0F8\",\"linecolor\":\"#EBF0F8\",\"ticks\":\"\",\"title\":{\"standoff\":15},\"zerolinecolor\":\"#EBF0F8\",\"zerolinewidth\":2},\"yaxis\":{\"automargin\":true,\"gridcolor\":\"#EBF0F8\",\"linecolor\":\"#EBF0F8\",\"ticks\":\"\",\"title\":{\"standoff\":15},\"zerolinecolor\":\"#EBF0F8\",\"zerolinewidth\":2}}},\"xaxis\":{\"anchor\":\"y\",\"domain\":[0.0,0.45]},\"yaxis\":{\"anchor\":\"x\",\"domain\":[0.7777777777777778,1.0]},\"xaxis2\":{\"anchor\":\"y2\",\"domain\":[0.55,1.0]},\"yaxis2\":{\"anchor\":\"x2\",\"domain\":[0.7777777777777778,1.0]},\"xaxis3\":{\"anchor\":\"y3\",\"domain\":[0.0,0.45]},\"yaxis3\":{\"anchor\":\"x3\",\"domain\":[0.3888888888888889,0.6111111111111112]},\"xaxis4\":{\"anchor\":\"y4\",\"domain\":[0.55,1.0]},\"yaxis4\":{\"anchor\":\"x4\",\"domain\":[0.3888888888888889,0.6111111111111112]},\"xaxis5\":{\"anchor\":\"y5\",\"domain\":[0.0,0.45]},\"yaxis5\":{\"anchor\":\"x5\",\"domain\":[0.0,0.22222222222222224]},\"xaxis6\":{\"anchor\":\"y6\",\"domain\":[0.55,1.0]},\"yaxis6\":{\"anchor\":\"x6\",\"domain\":[0.0,0.22222222222222224]},\"annotations\":[{\"font\":{\"size\":16},\"showarrow\":false,\"text\":\"Timeline Analysis\",\"x\":0.225,\"xanchor\":\"center\",\"xref\":\"paper\",\"y\":1.0,\"yanchor\":\"bottom\",\"yref\":\"paper\"},{\"font\":{\"size\":16},\"showarrow\":false,\"text\":\"Batch Comparison\",\"x\":0.775,\"xanchor\":\"center\",\"xref\":\"paper\",\"y\":1.0,\"yanchor\":\"bottom\",\"yref\":\"paper\"},{\"font\":{\"size\":16},\"showarrow\":false,\"text\":\"Score Distribution\",\"x\":0.225,\"xanchor\":\"center\",\"xref\":\"paper\",\"y\":0.6111111111111112,\"yanchor\":\"bottom\",\"yref\":\"paper\"},{\"font\":{\"size\":16},\"showarrow\":false,\"text\":\"Growth Trends\",\"x\":0.775,\"xanchor\":\"center\",\"xref\":\"paper\",\"y\":0.6111111111111112,\"yanchor\":\"bottom\",\"yref\":\"paper\"},{\"font\":{\"size\":16},\"showarrow\":false,\"text\":\"Community Analysis\",\"x\":0.225,\"xanchor\":\"center\",\"xref\":\"paper\",\"y\":0.22222222222222224,\"yanchor\":\"bottom\",\"yref\":\"paper\"},{\"font\":{\"size\":16},\"showarrow\":false,\"text\":\"User Activity\",\"x\":0.775,\"xanchor\":\"center\",\"xref\":\"paper\",\"y\":0.22222222222222224,\"yanchor\":\"bottom\",\"yref\":\"paper\"}],\"title\":{\"text\":\"\\ud83d\\udcc8 Historical Reddit Data Analysis Dashboard\",\"x\":0.5},\"showlegend\":true,\"height\":1000},                        {\"responsive\": true}                    ).then(function(){\n",
       "                            \n",
       "var gd = document.getElementById('83024ba7-ee64-49e2-83be-4fe1c08685ff');\n",
       "var x = new MutationObserver(function (mutations, observer) {{\n",
       "        var display = window.getComputedStyle(gd).display;\n",
       "        if (!display || display === 'none') {{\n",
       "            console.log([gd, 'removed!']);\n",
       "            Plotly.purge(gd);\n",
       "            observer.disconnect();\n",
       "        }}\n",
       "}});\n",
       "\n",
       "// Listen for the removal of the full notebook cells\n",
       "var notebookContainer = gd.closest('#notebook-container');\n",
       "if (notebookContainer) {{\n",
       "    x.observe(notebookContainer, {childList: true});\n",
       "}}\n",
       "\n",
       "// Listen for the clearing of the current output cell\n",
       "var outputEl = gd.closest('.output');\n",
       "if (outputEl) {{\n",
       "    x.observe(outputEl, {childList: true});\n",
       "}}\n",
       "\n",
       "                        })                };            </script>        </div>"
      ]
     },
     "metadata": {},
     "output_type": "display_data"
    },
    {
     "name": "stdout",
     "output_type": "stream",
     "text": [
      "\n",
      "📊 SUMMARY STATISTICS TABLE:\n",
      "================================================================================\n"
     ]
    },
    {
     "data": {
      "text/html": [
       "<div>\n",
       "<style scoped>\n",
       "    .dataframe tbody tr th:only-of-type {\n",
       "        vertical-align: middle;\n",
       "    }\n",
       "\n",
       "    .dataframe tbody tr th {\n",
       "        vertical-align: top;\n",
       "    }\n",
       "\n",
       "    .dataframe thead th {\n",
       "        text-align: right;\n",
       "    }\n",
       "</style>\n",
       "<table border=\"1\" class=\"dataframe\">\n",
       "  <thead>\n",
       "    <tr style=\"text-align: right;\">\n",
       "      <th></th>\n",
       "      <th>batch_number</th>\n",
       "      <th>Id (Count)</th>\n",
       "      <th>Score (Mean)</th>\n",
       "      <th>Score (Median)</th>\n",
       "      <th>Score (Std)</th>\n",
       "      <th>Score (Min)</th>\n",
       "      <th>Score (Max)</th>\n",
       "      <th>Type (Posts)</th>\n",
       "      <th>Author (Nunique)</th>\n",
       "    </tr>\n",
       "  </thead>\n",
       "  <tbody>\n",
       "    <tr>\n",
       "      <th>0</th>\n",
       "      <td>1</td>\n",
       "      <td>13</td>\n",
       "      <td>2.69</td>\n",
       "      <td>1.0</td>\n",
       "      <td>3.25</td>\n",
       "      <td>0</td>\n",
       "      <td>11</td>\n",
       "      <td>6</td>\n",
       "      <td>11</td>\n",
       "    </tr>\n",
       "    <tr>\n",
       "      <th>1</th>\n",
       "      <td>2</td>\n",
       "      <td>20</td>\n",
       "      <td>9.40</td>\n",
       "      <td>4.0</td>\n",
       "      <td>12.84</td>\n",
       "      <td>0</td>\n",
       "      <td>43</td>\n",
       "      <td>9</td>\n",
       "      <td>20</td>\n",
       "    </tr>\n",
       "    <tr>\n",
       "      <th>2</th>\n",
       "      <td>3</td>\n",
       "      <td>18</td>\n",
       "      <td>133.94</td>\n",
       "      <td>2.0</td>\n",
       "      <td>370.78</td>\n",
       "      <td>0</td>\n",
       "      <td>1548</td>\n",
       "      <td>10</td>\n",
       "      <td>18</td>\n",
       "    </tr>\n",
       "    <tr>\n",
       "      <th>3</th>\n",
       "      <td>4</td>\n",
       "      <td>7</td>\n",
       "      <td>6.86</td>\n",
       "      <td>1.0</td>\n",
       "      <td>14.22</td>\n",
       "      <td>1</td>\n",
       "      <td>39</td>\n",
       "      <td>2</td>\n",
       "      <td>6</td>\n",
       "    </tr>\n",
       "    <tr>\n",
       "      <th>4</th>\n",
       "      <td>5</td>\n",
       "      <td>4</td>\n",
       "      <td>1.00</td>\n",
       "      <td>1.0</td>\n",
       "      <td>0.00</td>\n",
       "      <td>1</td>\n",
       "      <td>1</td>\n",
       "      <td>3</td>\n",
       "      <td>4</td>\n",
       "    </tr>\n",
       "    <tr>\n",
       "      <th>5</th>\n",
       "      <td>6</td>\n",
       "      <td>1</td>\n",
       "      <td>2.00</td>\n",
       "      <td>2.0</td>\n",
       "      <td>NaN</td>\n",
       "      <td>2</td>\n",
       "      <td>2</td>\n",
       "      <td>1</td>\n",
       "      <td>1</td>\n",
       "    </tr>\n",
       "    <tr>\n",
       "      <th>6</th>\n",
       "      <td>7</td>\n",
       "      <td>3</td>\n",
       "      <td>1.00</td>\n",
       "      <td>1.0</td>\n",
       "      <td>0.00</td>\n",
       "      <td>1</td>\n",
       "      <td>1</td>\n",
       "      <td>3</td>\n",
       "      <td>3</td>\n",
       "    </tr>\n",
       "    <tr>\n",
       "      <th>7</th>\n",
       "      <td>8</td>\n",
       "      <td>5</td>\n",
       "      <td>1.00</td>\n",
       "      <td>1.0</td>\n",
       "      <td>0.00</td>\n",
       "      <td>1</td>\n",
       "      <td>1</td>\n",
       "      <td>2</td>\n",
       "      <td>5</td>\n",
       "    </tr>\n",
       "    <tr>\n",
       "      <th>8</th>\n",
       "      <td>9</td>\n",
       "      <td>5</td>\n",
       "      <td>1.00</td>\n",
       "      <td>1.0</td>\n",
       "      <td>0.00</td>\n",
       "      <td>1</td>\n",
       "      <td>1</td>\n",
       "      <td>3</td>\n",
       "      <td>5</td>\n",
       "    </tr>\n",
       "    <tr>\n",
       "      <th>9</th>\n",
       "      <td>10</td>\n",
       "      <td>1</td>\n",
       "      <td>1.00</td>\n",
       "      <td>1.0</td>\n",
       "      <td>NaN</td>\n",
       "      <td>1</td>\n",
       "      <td>1</td>\n",
       "      <td>1</td>\n",
       "      <td>1</td>\n",
       "    </tr>\n",
       "    <tr>\n",
       "      <th>10</th>\n",
       "      <td>11</td>\n",
       "      <td>3</td>\n",
       "      <td>1.00</td>\n",
       "      <td>1.0</td>\n",
       "      <td>0.00</td>\n",
       "      <td>1</td>\n",
       "      <td>1</td>\n",
       "      <td>2</td>\n",
       "      <td>3</td>\n",
       "    </tr>\n",
       "    <tr>\n",
       "      <th>11</th>\n",
       "      <td>12</td>\n",
       "      <td>4</td>\n",
       "      <td>1.00</td>\n",
       "      <td>1.0</td>\n",
       "      <td>0.00</td>\n",
       "      <td>1</td>\n",
       "      <td>1</td>\n",
       "      <td>4</td>\n",
       "      <td>4</td>\n",
       "    </tr>\n",
       "    <tr>\n",
       "      <th>12</th>\n",
       "      <td>13</td>\n",
       "      <td>5</td>\n",
       "      <td>1.00</td>\n",
       "      <td>1.0</td>\n",
       "      <td>0.00</td>\n",
       "      <td>1</td>\n",
       "      <td>1</td>\n",
       "      <td>3</td>\n",
       "      <td>5</td>\n",
       "    </tr>\n",
       "    <tr>\n",
       "      <th>13</th>\n",
       "      <td>14</td>\n",
       "      <td>4</td>\n",
       "      <td>1.00</td>\n",
       "      <td>1.0</td>\n",
       "      <td>0.00</td>\n",
       "      <td>1</td>\n",
       "      <td>1</td>\n",
       "      <td>2</td>\n",
       "      <td>4</td>\n",
       "    </tr>\n",
       "    <tr>\n",
       "      <th>14</th>\n",
       "      <td>15</td>\n",
       "      <td>1</td>\n",
       "      <td>1.00</td>\n",
       "      <td>1.0</td>\n",
       "      <td>NaN</td>\n",
       "      <td>1</td>\n",
       "      <td>1</td>\n",
       "      <td>1</td>\n",
       "      <td>1</td>\n",
       "    </tr>\n",
       "    <tr>\n",
       "      <th>15</th>\n",
       "      <td>16</td>\n",
       "      <td>6</td>\n",
       "      <td>1.00</td>\n",
       "      <td>1.0</td>\n",
       "      <td>0.00</td>\n",
       "      <td>1</td>\n",
       "      <td>1</td>\n",
       "      <td>0</td>\n",
       "      <td>5</td>\n",
       "    </tr>\n",
       "    <tr>\n",
       "      <th>16</th>\n",
       "      <td>17</td>\n",
       "      <td>1</td>\n",
       "      <td>1.00</td>\n",
       "      <td>1.0</td>\n",
       "      <td>NaN</td>\n",
       "      <td>1</td>\n",
       "      <td>1</td>\n",
       "      <td>1</td>\n",
       "      <td>1</td>\n",
       "    </tr>\n",
       "    <tr>\n",
       "      <th>17</th>\n",
       "      <td>18</td>\n",
       "      <td>3</td>\n",
       "      <td>1.00</td>\n",
       "      <td>1.0</td>\n",
       "      <td>0.00</td>\n",
       "      <td>1</td>\n",
       "      <td>1</td>\n",
       "      <td>1</td>\n",
       "      <td>3</td>\n",
       "    </tr>\n",
       "    <tr>\n",
       "      <th>18</th>\n",
       "      <td>19</td>\n",
       "      <td>4</td>\n",
       "      <td>1.00</td>\n",
       "      <td>1.0</td>\n",
       "      <td>0.00</td>\n",
       "      <td>1</td>\n",
       "      <td>1</td>\n",
       "      <td>4</td>\n",
       "      <td>4</td>\n",
       "    </tr>\n",
       "    <tr>\n",
       "      <th>19</th>\n",
       "      <td>20</td>\n",
       "      <td>1</td>\n",
       "      <td>1.00</td>\n",
       "      <td>1.0</td>\n",
       "      <td>NaN</td>\n",
       "      <td>1</td>\n",
       "      <td>1</td>\n",
       "      <td>0</td>\n",
       "      <td>1</td>\n",
       "    </tr>\n",
       "    <tr>\n",
       "      <th>20</th>\n",
       "      <td>21</td>\n",
       "      <td>2</td>\n",
       "      <td>1.00</td>\n",
       "      <td>1.0</td>\n",
       "      <td>0.00</td>\n",
       "      <td>1</td>\n",
       "      <td>1</td>\n",
       "      <td>2</td>\n",
       "      <td>2</td>\n",
       "    </tr>\n",
       "    <tr>\n",
       "      <th>21</th>\n",
       "      <td>22</td>\n",
       "      <td>3</td>\n",
       "      <td>1.00</td>\n",
       "      <td>1.0</td>\n",
       "      <td>0.00</td>\n",
       "      <td>1</td>\n",
       "      <td>1</td>\n",
       "      <td>2</td>\n",
       "      <td>2</td>\n",
       "    </tr>\n",
       "    <tr>\n",
       "      <th>22</th>\n",
       "      <td>23</td>\n",
       "      <td>1</td>\n",
       "      <td>1.00</td>\n",
       "      <td>1.0</td>\n",
       "      <td>NaN</td>\n",
       "      <td>1</td>\n",
       "      <td>1</td>\n",
       "      <td>0</td>\n",
       "      <td>1</td>\n",
       "    </tr>\n",
       "  </tbody>\n",
       "</table>\n",
       "</div>"
      ],
      "text/plain": [
       "    batch_number  Id (Count)  Score (Mean)  Score (Median)  Score (Std)  \\\n",
       "0              1          13          2.69             1.0         3.25   \n",
       "1              2          20          9.40             4.0        12.84   \n",
       "2              3          18        133.94             2.0       370.78   \n",
       "3              4           7          6.86             1.0        14.22   \n",
       "4              5           4          1.00             1.0         0.00   \n",
       "5              6           1          2.00             2.0          NaN   \n",
       "6              7           3          1.00             1.0         0.00   \n",
       "7              8           5          1.00             1.0         0.00   \n",
       "8              9           5          1.00             1.0         0.00   \n",
       "9             10           1          1.00             1.0          NaN   \n",
       "10            11           3          1.00             1.0         0.00   \n",
       "11            12           4          1.00             1.0         0.00   \n",
       "12            13           5          1.00             1.0         0.00   \n",
       "13            14           4          1.00             1.0         0.00   \n",
       "14            15           1          1.00             1.0          NaN   \n",
       "15            16           6          1.00             1.0         0.00   \n",
       "16            17           1          1.00             1.0          NaN   \n",
       "17            18           3          1.00             1.0         0.00   \n",
       "18            19           4          1.00             1.0         0.00   \n",
       "19            20           1          1.00             1.0          NaN   \n",
       "20            21           2          1.00             1.0         0.00   \n",
       "21            22           3          1.00             1.0         0.00   \n",
       "22            23           1          1.00             1.0          NaN   \n",
       "\n",
       "    Score (Min)  Score (Max)  Type (Posts)  Author (Nunique)  \n",
       "0             0           11             6                11  \n",
       "1             0           43             9                20  \n",
       "2             0         1548            10                18  \n",
       "3             1           39             2                 6  \n",
       "4             1            1             3                 4  \n",
       "5             2            2             1                 1  \n",
       "6             1            1             3                 3  \n",
       "7             1            1             2                 5  \n",
       "8             1            1             3                 5  \n",
       "9             1            1             1                 1  \n",
       "10            1            1             2                 3  \n",
       "11            1            1             4                 4  \n",
       "12            1            1             3                 5  \n",
       "13            1            1             2                 4  \n",
       "14            1            1             1                 1  \n",
       "15            1            1             0                 5  \n",
       "16            1            1             1                 1  \n",
       "17            1            1             1                 3  \n",
       "18            1            1             4                 4  \n",
       "19            1            1             0                 1  \n",
       "20            1            1             2                 2  \n",
       "21            1            1             2                 2  \n",
       "22            1            1             0                 1  "
      ]
     },
     "metadata": {},
     "output_type": "display_data"
    },
    {
     "name": "stdout",
     "output_type": "stream",
     "text": [
      "\n",
      "🔍 KEY INSIGHTS FROM ANALYSIS:\n",
      "==================================================\n",
      "📦 Analyzed 23 different data batches\n",
      "📈 batch_number:\n",
      "   • Average: 12.00\n",
      "   • Range: 1.00 to 23.00\n",
      "   • Trend: increasing\n",
      "📈 Id (Count):\n",
      "   • Average: 5.00\n",
      "   • Range: 1.00 to 20.00\n",
      "   • Trend: decreasing\n",
      "📈 Score (Mean):\n",
      "   • Average: 7.52\n",
      "   • Range: 1.00 to 133.94\n",
      "   • Trend: decreasing\n",
      "📈 Score (Median):\n",
      "   • Average: 1.22\n",
      "   • Range: 1.00 to 4.00\n",
      "   • Trend: decreasing\n",
      "📈 Score (Std):\n",
      "   • Average: 23.59\n",
      "   • Range: 0.00 to 370.78\n",
      "   • Trend: decreasing\n",
      "\n",
      "✅ Historical analysis completed!\n"
     ]
    }
   ],
   "source": [
    "# 📈 COMPREHENSIVE HISTORICAL DATA ANALYSIS\n",
    "# ========================================\n",
    "\n",
    "def create_historical_analysis():\n",
    "    \"\"\"\n",
    "    Analyze historical Reddit data with smart column detection and flexible visualizations.\n",
    "    \n",
    "    This function:\n",
    "    1. Checks what data columns are available\n",
    "    2. Creates appropriate visualizations based on available data\n",
    "    3. Provides summary statistics and insights\n",
    "    4. Handles missing columns gracefully\n",
    "    \"\"\"\n",
    "    \n",
    "    # Step 1: Validate data availability\n",
    "    if historical_raw.empty:\n",
    "        print(\"⚠️ No historical data available for analysis\")\n",
    "        return\n",
    "    \n",
    "    print(\"🔍 STARTING HISTORICAL ANALYSIS\")\n",
    "    print(\"=\" * 50)\n",
    "    print(f\"📊 Dataset contains: {len(historical_raw):,} records\")\n",
    "    print(f\"📋 Available columns: {list(historical_raw.columns)}\")\n",
    "    \n",
    "    # Step 2: Identify key columns for analysis\n",
    "    key_columns = {\n",
    "        'batch_tracker': 'batch_number',\n",
    "        'content_score': 'score', \n",
    "        'content_type': 'type',\n",
    "        'community': 'subreddit',\n",
    "        'user': 'author',\n",
    "        'timestamp': 'file_timestamp',\n",
    "        'identifier': 'id'\n",
    "    }\n",
    "    \n",
    "    available_data = {}\n",
    "    for purpose, column in key_columns.items():\n",
    "        if column in historical_raw.columns:\n",
    "            available_data[purpose] = column\n",
    "            print(f\"✅ {purpose.replace('_', ' ').title()}: Using '{column}' column\")\n",
    "        else:\n",
    "            print(f\"⚠️ {purpose.replace('_', ' ').title()}: Column '{column}' not found\")\n",
    "    \n",
    "    # Step 3: Determine if we can group by batches\n",
    "    has_batches = 'batch_tracker' in available_data\n",
    "    batch_column = available_data.get('batch_tracker', 'batch_number')\n",
    "    \n",
    "    if has_batches:\n",
    "        num_batches = historical_raw[batch_column].nunique()\n",
    "        print(f\"📦 Found {num_batches} different batches to analyze\")\n",
    "    else:\n",
    "        print(\"📦 No batch information - will analyze as single dataset\")\n",
    "    \n",
    "    # Step 4: Calculate summary statistics\n",
    "    print(\"\\n🧮 CALCULATING STATISTICS...\")\n",
    "    \n",
    "    # Build aggregation rules based on available columns\n",
    "    aggregation_rules = {}\n",
    "    \n",
    "    if 'identifier' in available_data:\n",
    "        aggregation_rules[available_data['identifier']] = 'count'\n",
    "    \n",
    "    if 'content_score' in available_data:\n",
    "        aggregation_rules[available_data['content_score']] = ['mean', 'median', 'std', 'min', 'max']\n",
    "    \n",
    "    if 'content_type' in available_data:\n",
    "        aggregation_rules[available_data['content_type']] = lambda x: (x == 'post').sum()\n",
    "    \n",
    "    if 'user' in available_data:\n",
    "        aggregation_rules[available_data['user']] = 'nunique'\n",
    "    \n",
    "    if 'community' in available_data:\n",
    "        aggregation_rules[available_data['community']] = 'nunique'\n",
    "    \n",
    "    # Group data by batches or treat as single group\n",
    "    if has_batches and len(aggregation_rules) > 0:\n",
    "        summary_stats = historical_raw.groupby(batch_column).agg(aggregation_rules).round(2)\n",
    "    elif len(aggregation_rules) > 0:\n",
    "        # Create single-row summary for entire dataset\n",
    "        summary_stats = historical_raw.agg(aggregation_rules).to_frame().T\n",
    "        summary_stats.index = ['Overall']\n",
    "    else:\n",
    "        print(\"⚠️ No suitable columns found for statistical analysis\")\n",
    "        return\n",
    "    \n",
    "    # Step 5: Clean up column names for readability\n",
    "    clean_columns = []\n",
    "    for col in summary_stats.columns:\n",
    "        if isinstance(col, tuple):\n",
    "            # Handle multi-level column names from groupby aggregation\n",
    "            base_name = col[0].replace('_', ' ').title()\n",
    "            stat_name = col[1] if col[1] != '<lambda>' else 'Posts'\n",
    "            clean_columns.append(f\"{base_name} ({stat_name.title()})\")\n",
    "        else:\n",
    "            clean_columns.append(col.replace('_', ' ').title())\n",
    "    \n",
    "    summary_stats.columns = clean_columns\n",
    "    summary_stats = summary_stats.reset_index()\n",
    "    \n",
    "    print(f\"✅ Generated {len(summary_stats)} summary records\")\n",
    "    \n",
    "    # Step 6: Create visualizations based on available data\n",
    "    print(\"\\n📊 CREATING VISUALIZATIONS...\")\n",
    "    \n",
    "    # Determine what charts we can create\n",
    "    chart_plan = []\n",
    "    \n",
    "    if has_batches and len(summary_stats) > 1:\n",
    "        chart_plan.extend([\n",
    "            ('Timeline Analysis', 'line'),\n",
    "            ('Batch Comparison', 'bar'),\n",
    "            ('Score Distribution', 'box'),\n",
    "            ('Growth Trends', 'area'),\n",
    "            ('Community Analysis', 'scatter'),\n",
    "            ('User Activity', 'heatmap')\n",
    "        ])\n",
    "    else:\n",
    "        chart_plan.extend([\n",
    "            ('Data Overview', 'bar'),\n",
    "            ('Score Analysis', 'histogram'),\n",
    "            ('Content Distribution', 'pie'),\n",
    "            ('Top Contributors', 'bar')\n",
    "        ])\n",
    "    \n",
    "    # Create subplot layout\n",
    "    num_charts = min(6, len(chart_plan))\n",
    "    rows, cols = 3, 2\n",
    "    \n",
    "    fig = make_subplots(\n",
    "        rows=rows, cols=cols,\n",
    "        subplot_titles=[chart[0] for chart in chart_plan[:num_charts]],\n",
    "        specs=[[{\"type\": \"xy\"}] * cols for _ in range(rows)]\n",
    "    )\n",
    "    \n",
    "    # Step 7: Generate charts based on available data\n",
    "    chart_positions = [(1,1), (1,2), (2,1), (2,2), (3,1), (3,2)]\n",
    "    \n",
    "    x_axis = summary_stats[batch_column] if has_batches else summary_stats.index\n",
    "    \n",
    "    for i, ((chart_name, chart_type), (row, col)) in enumerate(zip(chart_plan[:num_charts], chart_positions)):\n",
    "        \n",
    "        try:\n",
    "            if chart_name == 'Timeline Analysis' and has_batches:\n",
    "                # Show data volume over time\n",
    "                count_col = [col for col in summary_stats.columns if 'count' in col.lower()]\n",
    "                if count_col:\n",
    "                    fig.add_trace(\n",
    "                        go.Scatter(\n",
    "                            x=x_axis, \n",
    "                            y=summary_stats[count_col[0]],\n",
    "                            mode='lines+markers',\n",
    "                            name='Data Volume',\n",
    "                            line=dict(color='#e74c3c', width=3)\n",
    "                        ), row=row, col=col\n",
    "                    )\n",
    "            \n",
    "            elif chart_name == 'Batch Comparison':\n",
    "                # Compare different metrics across batches\n",
    "                numeric_cols = summary_stats.select_dtypes(include=[np.number]).columns\n",
    "                if len(numeric_cols) > 0:\n",
    "                    fig.add_trace(\n",
    "                        go.Bar(\n",
    "                            x=x_axis,\n",
    "                            y=summary_stats[numeric_cols[0]],\n",
    "                            name=numeric_cols[0],\n",
    "                            marker_color='#3498db'\n",
    "                        ), row=row, col=col\n",
    "                    )\n",
    "            \n",
    "            elif chart_name == 'Score Distribution' and 'content_score' in available_data:\n",
    "                # Box plot of scores across batches\n",
    "                if has_batches:\n",
    "                    unique_batches = historical_raw[batch_column].unique()[:8]  # Limit for performance\n",
    "                    for batch in unique_batches:\n",
    "                        batch_data = historical_raw[historical_raw[batch_column] == batch]\n",
    "                        fig.add_trace(\n",
    "                            go.Box(\n",
    "                                y=batch_data[available_data['content_score']], \n",
    "                                name=f'Batch {batch}',\n",
    "                                boxpoints='outliers'\n",
    "                            ), row=row, col=col\n",
    "                        )\n",
    "                else:\n",
    "                    fig.add_trace(\n",
    "                        go.Histogram(\n",
    "                            x=historical_raw[available_data['content_score']], \n",
    "                            name='Score Distribution',\n",
    "                            marker_color='#27ae60'\n",
    "                        ), row=row, col=col\n",
    "                    )\n",
    "            \n",
    "            elif chart_name == 'Growth Trends' and has_batches:\n",
    "                # Show growth trends\n",
    "                if 'user' in available_data:\n",
    "                    user_col = [col for col in summary_stats.columns if 'user' in col.lower() or 'author' in col.lower()]\n",
    "                    if user_col:\n",
    "                        fig.add_trace(\n",
    "                            go.Scatter(\n",
    "                                x=x_axis,\n",
    "                                y=summary_stats[user_col[0]],\n",
    "                                fill='tonexty',\n",
    "                                name='Unique Users',\n",
    "                                line=dict(color='#27ae60')\n",
    "                            ), row=row, col=col\n",
    "                        )\n",
    "            \n",
    "            else:\n",
    "                # Default: simple bar chart with available data\n",
    "                numeric_cols = summary_stats.select_dtypes(include=[np.number]).columns\n",
    "                if len(numeric_cols) > i % len(numeric_cols):\n",
    "                    col_to_plot = numeric_cols[i % len(numeric_cols)]\n",
    "                    fig.add_trace(\n",
    "                        go.Bar(\n",
    "                            x=x_axis,\n",
    "                            y=summary_stats[col_to_plot],\n",
    "                            name=col_to_plot,\n",
    "                            #marker_color=f'hsl({(i*60) % 360}, 70%, 50%)'\n",
    "                        ), row=row, col=col\n",
    "                    )\n",
    "                    \n",
    "        except Exception as e:\n",
    "            print(f\"⚠️ Could not create {chart_name}: {e}\")\n",
    "    \n",
    "    # Step 8: Finalize and display visualization\n",
    "    fig.update_layout(\n",
    "        title_text=\"📈 Historical Reddit Data Analysis Dashboard\",\n",
    "        showlegend=True,\n",
    "        height=1000,\n",
    "        template=\"plotly_white\",\n",
    "        title_x=0.5\n",
    "    )\n",
    "    \n",
    "    fig.show()\n",
    "    \n",
    "    # Step 9: Display summary table and insights\n",
    "    print(\"\\n📊 SUMMARY STATISTICS TABLE:\")\n",
    "    print(\"=\" * 80)\n",
    "    display(summary_stats)\n",
    "    \n",
    "    # Step 10: Generate key insights\n",
    "    print(f\"\\n🔍 KEY INSIGHTS FROM ANALYSIS:\")\n",
    "    print(\"=\" * 50)\n",
    "    \n",
    "    if has_batches:\n",
    "        print(f\"📦 Analyzed {len(summary_stats)} different data batches\")\n",
    "    else:\n",
    "        print(f\"📊 Analyzed complete dataset as single unit\")\n",
    "    \n",
    "    # Find numeric columns for insights\n",
    "    numeric_columns = summary_stats.select_dtypes(include=[np.number]).columns\n",
    "    \n",
    "    for col in numeric_columns[:5]:  # Show insights for first 5 numeric columns\n",
    "        try:\n",
    "            col_data = summary_stats[col]\n",
    "            avg_val = col_data.mean()\n",
    "            min_val = col_data.min()\n",
    "            max_val = col_data.max()\n",
    "            \n",
    "            print(f\"📈 {col}:\")\n",
    "            print(f\"   • Average: {avg_val:.2f}\")\n",
    "            print(f\"   • Range: {min_val:.2f} to {max_val:.2f}\")\n",
    "            \n",
    "            if len(col_data) > 1:\n",
    "                trend = \"increasing\" if col_data.iloc[-1] > col_data.iloc[0] else \"decreasing\"\n",
    "                print(f\"   • Trend: {trend}\")\n",
    "                \n",
    "        except Exception as e:\n",
    "            print(f\"   ⚠️ Could not analyze {col}: {e}\")\n",
    "    \n",
    "    print(\"\\n✅ Historical analysis completed!\")\n",
    "\n",
    "# Execute the analysis\n",
    "create_historical_analysis()"
   ]
  }
 ],
 "metadata": {
  "kernelspec": {
   "display_name": "Python 3 (ipykernel)",
   "language": "python",
   "name": "python3"
  },
  "language_info": {
   "codemirror_mode": {
    "name": "ipython",
    "version": 3
   },
   "file_extension": ".py",
   "mimetype": "text/x-python",
   "name": "python",
   "nbconvert_exporter": "python",
   "pygments_lexer": "ipython3",
   "version": "3.11.5"
  }
 },
 "nbformat": 4,
 "nbformat_minor": 5
}
